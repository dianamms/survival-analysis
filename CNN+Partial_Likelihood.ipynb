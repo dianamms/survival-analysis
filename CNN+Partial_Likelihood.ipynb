{
  "nbformat": 4,
  "nbformat_minor": 0,
  "metadata": {
    "kernelspec": {
      "display_name": "conda_tensorflow_p36",
      "language": "python",
      "name": "conda_tensorflow_p36"
    },
    "language_info": {
      "codemirror_mode": {
        "name": "ipython",
        "version": 3
      },
      "file_extension": ".py",
      "mimetype": "text/x-python",
      "name": "python",
      "nbconvert_exporter": "python",
      "pygments_lexer": "ipython3",
      "version": "3.6.5"
    },
    "colab": {
      "name": "gvg-doctor-Copy1.ipynb",
      "provenance": [],
      "collapsed_sections": []
    }
  },
  "cells": [
    {
      "cell_type": "code",
      "metadata": {
        "id": "tqyqU8eD3cJC",
        "colab_type": "code",
        "colab": {}
      },
      "source": [
        "from __future__ import absolute_import, division, print_function\n",
        "\n",
        "#!pip install -q tensorflow==2.0.0-alpha0\n",
        "!pip install tensorflow-gpu==2.0.0-beta1\n",
        "!pip install pynrrd\n",
        "\n",
        "import tensorflow as tf\n",
        "import numpy as np\n",
        "import pandas as pd\n",
        "import os\n",
        "import shutil\n",
        "import random\n",
        "import math\n",
        "import pickle\n",
        "\n",
        "from random import shuffle\n",
        "\n",
        "from tensorflow import keras\n",
        "from tensorflow.keras import datasets, layers, models\n",
        "\n",
        "from sklearn.preprocessing import scale\n",
        "\n",
        "!pip install scikit-image\n",
        "#from skimage.transform import resize\n",
        "from numpy.random import choice\n",
        "import matplotlib.pyplot as plt\n",
        "\n",
        "import nrrd\n",
        "import time"
      ],
      "execution_count": 0,
      "outputs": []
    },
    {
      "cell_type": "code",
      "metadata": {
        "id": "V_e95VKE3cJK",
        "colab_type": "code",
        "colab": {},
        "outputId": "8c86534a-defb-4be3-93bd-7d8eac4298c3"
      },
      "source": [
        "tf.test.is_gpu_available()"
      ],
      "execution_count": 0,
      "outputs": [
        {
          "output_type": "execute_result",
          "data": {
            "text/plain": [
              "True"
            ]
          },
          "metadata": {
            "tags": []
          },
          "execution_count": 2
        }
      ]
    },
    {
      "cell_type": "code",
      "metadata": {
        "id": "74yMeZNs3cJP",
        "colab_type": "code",
        "colab": {}
      },
      "source": [
        "# Source : https://stackoverflow.com/questions/9770668/scramble-python-list\n",
        "\n",
        "def scrambled(orig):\n",
        "    dest = orig[:]\n",
        "    random.shuffle(dest)\n",
        "    return dest"
      ],
      "execution_count": 0,
      "outputs": []
    },
    {
      "cell_type": "code",
      "metadata": {
        "id": "VvqZQK423cJY",
        "colab_type": "code",
        "colab": {},
        "outputId": "25fa7591-9537-4f76-fd3c-8ff6fd22e7f7"
      },
      "source": [
        "len(os.listdir(\"final_vols/rescale_100_all/Test\"))"
      ],
      "execution_count": 0,
      "outputs": [
        {
          "output_type": "execute_result",
          "data": {
            "text/plain": [
              "72"
            ]
          },
          "metadata": {
            "tags": []
          },
          "execution_count": 4
        }
      ]
    },
    {
      "cell_type": "markdown",
      "metadata": {
        "id": "1IHWR6uA3cJ3",
        "colab_type": "text"
      },
      "source": [
        "## READ-IN FILENAMES"
      ]
    },
    {
      "cell_type": "code",
      "metadata": {
        "id": "E5S6_iXu3cKY",
        "colab_type": "code",
        "colab": {}
      },
      "source": [
        "train_filenames = scrambled(os.listdir('final_vols/rescale_100_all/Train'))\n",
        "#train_filenames.remove(\".ipynb_checkpoints\")\n",
        "\n",
        "#val_filenames = scrambled(os.listdir('final_vols/rescale_100_reg1_all/Val'))\n",
        "\n",
        "testval_filenames = scrambled(os.listdir('final_vols/rescale_100_all/Test'))"
      ],
      "execution_count": 0,
      "outputs": []
    },
    {
      "cell_type": "code",
      "metadata": {
        "id": "nAC9INtK3cKe",
        "colab_type": "code",
        "colab": {}
      },
      "source": [
        "train_csv = pd.read_excel(\"excel_files/seattle.xlsx\", index_col=None)\n",
        "#val_csv = pd.read_excel(\"excel_files/Data_mask.val.new.xlsx\", index_col=None)\n",
        "testval_csv = pd.read_excel(\"excel_files/tum.xlsx\", index_col=None)"
      ],
      "execution_count": 0,
      "outputs": []
    },
    {
      "cell_type": "code",
      "metadata": {
        "id": "WSf4xoly3cKr",
        "colab_type": "code",
        "colab": {}
      },
      "source": [
        "# Create the initial split for test and val\n",
        "\n",
        "# test_filenames = testval_filenames[:40]\n",
        "# val_filenames = testval_filenames[40:]"
      ],
      "execution_count": 0,
      "outputs": []
    },
    {
      "cell_type": "code",
      "metadata": {
        "id": "pbaYj8F23cKu",
        "colab_type": "code",
        "colab": {}
      },
      "source": [
        "# Save the initial split for test and val\n",
        "\n",
        "# with open(\"test_filenames.txt\", \"wb\") as fp:\n",
        "#     pickle.dump(test_filenames, fp)\n",
        "\n",
        "# with open(\"val_filenames.txt\", \"wb\") as fp:\n",
        "#     pickle.dump(val_filenames, fp)"
      ],
      "execution_count": 0,
      "outputs": []
    },
    {
      "cell_type": "code",
      "metadata": {
        "id": "FfEdR14c3cKx",
        "colab_type": "code",
        "colab": {}
      },
      "source": [
        "test_filenames = []\n",
        "val_filenames = []\n",
        "\n",
        "with open(\"excel_files/test_filenames.txt\", \"rb\") as fp:\n",
        "    test_filenames = pickle.load(fp)\n",
        "    \n",
        "with open(\"excel_files/val_filenames.txt\", \"rb\") as fp:\n",
        "    val_filenames = pickle.load(fp)"
      ],
      "execution_count": 0,
      "outputs": []
    },
    {
      "cell_type": "code",
      "metadata": {
        "id": "3i2_ADJC3cK1",
        "colab_type": "code",
        "colab": {},
        "outputId": "d81aefe4-0b69-4c7c-94be-608e196e70ee"
      },
      "source": [
        "len(val_filenames)"
      ],
      "execution_count": 0,
      "outputs": [
        {
          "output_type": "execute_result",
          "data": {
            "text/plain": [
              "32"
            ]
          },
          "metadata": {
            "tags": []
          },
          "execution_count": 8
        }
      ]
    },
    {
      "cell_type": "code",
      "metadata": {
        "id": "JH1b53U13cK4",
        "colab_type": "code",
        "colab": {},
        "outputId": "afcc4cbe-f5a1-4cba-a447-05ebb1ebd6fb"
      },
      "source": [
        "uncen = 0\n",
        "for i in train_filenames:\n",
        "    #print(j[:-4])\n",
        "    i = i[:-4] +\".nrrd\"\n",
        "    temp_sos = train_csv.loc[train_csv['Image'] == i]['Status OS'].values[0]\n",
        "    if temp_sos == 1:\n",
        "        uncen += 1\n",
        "print(uncen)"
      ],
      "execution_count": 0,
      "outputs": [
        {
          "output_type": "stream",
          "text": [
            "42\n"
          ],
          "name": "stdout"
        }
      ]
    },
    {
      "cell_type": "code",
      "metadata": {
        "id": "ENjEZSvU3cK7",
        "colab_type": "code",
        "colab": {}
      },
      "source": [
        "# for index, i in enumerate(train_filenames):\n",
        "#      print(i)\n",
        "# len(train_filenames)"
      ],
      "execution_count": 0,
      "outputs": []
    },
    {
      "cell_type": "markdown",
      "metadata": {
        "id": "KoRnCwQI3cK9",
        "colab_type": "text"
      },
      "source": [
        "## READ-IN DATASET"
      ]
    },
    {
      "cell_type": "code",
      "metadata": {
        "id": "Qq3CQNSx3cK-",
        "colab_type": "code",
        "colab": {}
      },
      "source": [
        "# Create training data\n",
        "train_data = []\n",
        "\n",
        "for index, i in enumerate(train_filenames):\n",
        "    if index % 10 == 0:\n",
        "      print(index)\n",
        "    tmp = \"final_vols/rescale_100_all/Train/\" + i\n",
        "    npz = np.load(tmp)\n",
        "    tmp_vol = npz['vol']\n",
        "    tmp_os = npz['os']\n",
        "    tmp_sos = npz['sos']\n",
        "    #print(tmp_sos)\n",
        "    tmp_age = npz['age']\n",
        "    #tmp_nest = [tmp_vol, tmp_os, tmp_sos, tmp_age, i]\n",
        "    tmp_row = np.squeeze(train_csv.loc[train_csv[\"Image\"] == i[:-4] + \".nrrd\"]).values[5:-1]\n",
        "    tmp_nest = [tmp_vol, tmp_os, tmp_sos]\n",
        "    print(tmp_row)\n",
        "    tmp_nest.extend(tmp_row)\n",
        "    train_data.append(tmp_nest)"
      ],
      "execution_count": 0,
      "outputs": []
    },
    {
      "cell_type": "code",
      "metadata": {
        "id": "SN_BFdby3cLA",
        "colab_type": "code",
        "colab": {}
      },
      "source": [
        "val_data = []\n",
        "\n",
        "for i in val_filenames:\n",
        "    tmp = \"final_vols/rescale_100_all/Test/\" + i\n",
        "    npz = np.load(tmp)\n",
        "    tmp_vol = npz['vol']\n",
        "    tmp_os = npz['os']\n",
        "    tmp_sos = npz['sos']\n",
        "    tmp_age = npz['age']\n",
        "    #tmp_nest = [tmp_vol, tmp_os, tmp_sos, tmp_age, i]\n",
        "    tmp_row = np.squeeze(testval_csv.loc[testval_csv[\"Image\"] == i[:-4] + \".nrrd\"]).values[5:-1]\n",
        "    print(tmp_row)\n",
        "    tmp_nest = [tmp_vol, tmp_os, tmp_sos]\n",
        "    tmp_nest.extend(tmp_row)\n",
        "    val_data.append(tmp_nest)"
      ],
      "execution_count": 0,
      "outputs": []
    },
    {
      "cell_type": "code",
      "metadata": {
        "id": "98naRTga3cLD",
        "colab_type": "code",
        "colab": {}
      },
      "source": [
        "test_data = []\n",
        "\n",
        "for i in test_filenames:\n",
        "    tmp = \"final_vols/rescale_100_all/Test/\" + i\n",
        "    npz = np.load(tmp)\n",
        "    tmp_vol = npz['vol']\n",
        "    tmp_os = npz['os']\n",
        "    tmp_sos = npz['sos']\n",
        "    tmp_age = npz['age']\n",
        "    #tmp_nest = [tmp_vol, tmp_os, tmp_sos, tmp_age, i]\n",
        "    tmp_row = np.squeeze(testval_csv.loc[testval_csv[\"Image\"] == i[:-4] + \".nrrd\"]).values[5:-1]\n",
        "    print(tmp_row)\n",
        "    tmp_nest = [tmp_vol, tmp_os, tmp_sos]\n",
        "    tmp_nest.extend(tmp_row)\n",
        "    test_data.append(tmp_nest)"
      ],
      "execution_count": 0,
      "outputs": []
    },
    {
      "cell_type": "markdown",
      "metadata": {
        "id": "LE83EIFY3cLN",
        "colab_type": "text"
      },
      "source": [
        "## Convert to NumPy"
      ]
    },
    {
      "cell_type": "code",
      "metadata": {
        "id": "UV_Jcfux3cLP",
        "colab_type": "code",
        "colab": {}
      },
      "source": [
        "# 3: means radiomics + age,grade (1028)\n",
        "# 5 : means only radiomics (1026)\n",
        "\n",
        "# import sklearn\n",
        "# from sklearn.model_selection import train_test_split\n",
        "# test1 , test2 = sklearn.model_selection.train_test_split(test_data, test_size = 0.5)\n",
        "# val1 , val2 = sklearn.model_selection.train_test_split(val_data, test_size = 0.5)"
      ],
      "execution_count": 0,
      "outputs": []
    },
    {
      "cell_type": "code",
      "metadata": {
        "id": "BhNQErV53cLS",
        "colab_type": "code",
        "colab": {}
      },
      "source": [
        "# test_data = np.concatenate([test1,val1], axis = 0)\n",
        "# val_data = np.concatenate([test2,val2], axis = 0)"
      ],
      "execution_count": 0,
      "outputs": []
    },
    {
      "cell_type": "code",
      "metadata": {
        "id": "lE-RP_Tp3cLd",
        "colab_type": "code",
        "colab": {}
      },
      "source": [
        "# ra_tr = [i[3] for i in train_data]\n",
        "# ra_vl = [i[3] for i in val_data]\n",
        "# ra_ts = [i[3] for i in test_data]\n"
      ],
      "execution_count": 0,
      "outputs": []
    },
    {
      "cell_type": "code",
      "metadata": {
        "id": "QAQXwCNg3cLq",
        "colab_type": "code",
        "colab": {}
      },
      "source": [
        "# any(i in ra_vl for i in ra_tr)"
      ],
      "execution_count": 0,
      "outputs": []
    },
    {
      "cell_type": "code",
      "metadata": {
        "id": "vumb4TPT3cL9",
        "colab_type": "code",
        "colab": {},
        "outputId": "b382a5d9-8185-48e0-e714-db7c4c86a7e7"
      },
      "source": [
        "counts = 0\n",
        "for idx,sample in enumerate(val_data):\n",
        "    if sample[2] == 0:\n",
        "        counts += 1\n",
        "print(counts)\n",
        "        "
      ],
      "execution_count": 0,
      "outputs": [
        {
          "output_type": "stream",
          "text": [
            "23\n"
          ],
          "name": "stdout"
        }
      ]
    },
    {
      "cell_type": "code",
      "metadata": {
        "id": "EinFQkXM3cMk",
        "colab_type": "code",
        "colab": {}
      },
      "source": [
        "len(val_data)"
      ],
      "execution_count": 0,
      "outputs": []
    },
    {
      "cell_type": "code",
      "metadata": {
        "id": "0_8O_KI23cMx",
        "colab_type": "code",
        "colab": {}
      },
      "source": [
        "for i in [3,55,43,2, 32, 29, 14]:\n",
        "    print(train_data[i][1:6])"
      ],
      "execution_count": 0,
      "outputs": []
    },
    {
      "cell_type": "code",
      "metadata": {
        "id": "DQym7s0C3cM1",
        "colab_type": "code",
        "colab": {}
      },
      "source": [
        "#Convert to NumPy\n",
        "\n",
        "x_train = np.stack(np.array(train_data)[:,0], axis = 0)\n",
        "x_train_rad = np.stack(np.array(train_data)[:,3:], axis = 0)\n",
        "y_train = np.stack(np.array(train_data)[:,1], axis = 0)\n",
        "\n",
        "# CHANGE : <- no idea\n",
        "x_val = np.stack(np.array(val_data)[:,0], axis = 0)\n",
        "x_val_rad = np.stack(np.array(val_data)[:,3:], axis = 0)\n",
        "y_val = np.stack(np.array(val_data)[:,1], axis = 0)\n",
        "\n",
        "x_test = np.stack(np.array(test_data)[:,0], axis = 0)\n",
        "x_test_rad = np.stack(np.array(test_data)[:,3:], axis = 0)\n",
        "y_test = np.stack(np.array(test_data)[:,1], axis = 0)"
      ],
      "execution_count": 0,
      "outputs": []
    },
    {
      "cell_type": "code",
      "metadata": {
        "id": "vbcFZo3Y3cNR",
        "colab_type": "code",
        "colab": {}
      },
      "source": [
        "val_data[1][3]"
      ],
      "execution_count": 0,
      "outputs": []
    },
    {
      "cell_type": "code",
      "metadata": {
        "id": "y0Fm4wK23cNU",
        "colab_type": "code",
        "colab": {}
      },
      "source": [
        "np.shape(x_test_rad)"
      ],
      "execution_count": 0,
      "outputs": []
    },
    {
      "cell_type": "code",
      "metadata": {
        "id": "4gZ58Jh43cNf",
        "colab_type": "code",
        "colab": {}
      },
      "source": [
        "np.shape(x_train_rad)"
      ],
      "execution_count": 0,
      "outputs": []
    },
    {
      "cell_type": "code",
      "metadata": {
        "id": "MK_rEuwZ3cO_",
        "colab_type": "code",
        "colab": {}
      },
      "source": [
        "# del train_data\n",
        "# del test_data"
      ],
      "execution_count": 0,
      "outputs": []
    },
    {
      "cell_type": "code",
      "metadata": {
        "id": "rFaT9NWl3cPH",
        "colab_type": "code",
        "colab": {}
      },
      "source": [
        "# for i in np.std(x_test_rad, axis = 0):\n",
        "#     print(i)"
      ],
      "execution_count": 0,
      "outputs": []
    },
    {
      "cell_type": "code",
      "metadata": {
        "id": "aH_NXasw3cPJ",
        "colab_type": "code",
        "colab": {},
        "outputId": "c9d184ef-6ef6-4542-eeb9-6cc3c3558e01"
      },
      "source": [
        "from sklearn.preprocessing import StandardScaler\n",
        "st_scale_tr = StandardScaler()\n",
        "st_scale_tr.fit(x_train_rad)"
      ],
      "execution_count": 0,
      "outputs": [
        {
          "output_type": "execute_result",
          "data": {
            "text/plain": [
              "StandardScaler(copy=True, with_mean=True, with_std=True)"
            ]
          },
          "metadata": {
            "tags": []
          },
          "execution_count": 14
        }
      ]
    },
    {
      "cell_type": "code",
      "metadata": {
        "id": "8Z2ZFCs83cPM",
        "colab_type": "code",
        "colab": {}
      },
      "source": [
        "x_val_rad = st_scale_tr.transform(x_val_rad)\n",
        "x_test_rad = st_scale_tr.transform(x_test_rad)"
      ],
      "execution_count": 0,
      "outputs": []
    },
    {
      "cell_type": "code",
      "metadata": {
        "id": "6SPU6eWm3cPV",
        "colab_type": "code",
        "colab": {}
      },
      "source": [
        "# x_train_rad = scale(x_train_rad)\n",
        "# x_val_rad = scale(x_val_rad)\n",
        "# x_test_rad = scale(x_test_rad)"
      ],
      "execution_count": 0,
      "outputs": []
    },
    {
      "cell_type": "code",
      "metadata": {
        "id": "X1jEPc2d3cPc",
        "colab_type": "code",
        "colab": {}
      },
      "source": [
        "# for i in np.mean(x_val_rad, axis = 0):\n",
        "#     print(i)"
      ],
      "execution_count": 0,
      "outputs": []
    },
    {
      "cell_type": "code",
      "metadata": {
        "id": "DENKL4Yc3cQl",
        "colab_type": "code",
        "colab": {}
      },
      "source": [
        "x_val_rad.dtype"
      ],
      "execution_count": 0,
      "outputs": []
    },
    {
      "cell_type": "code",
      "metadata": {
        "id": "Yj61P8VM3cQu",
        "colab_type": "code",
        "colab": {}
      },
      "source": [
        "# np.isnan(x_train).any()"
      ],
      "execution_count": 0,
      "outputs": []
    },
    {
      "cell_type": "markdown",
      "metadata": {
        "id": "RYcJys6D3cQ7",
        "colab_type": "text"
      },
      "source": [
        "## PCA"
      ]
    },
    {
      "cell_type": "code",
      "metadata": {
        "id": "6pabtkYV3cQ-",
        "colab_type": "code",
        "colab": {}
      },
      "source": [
        "# We've already created this in a upstairs\n",
        "\n",
        "# x_train_rad = np.stack(np.array(train_data)[:,5:], axis = 0)\n",
        "# st_scale_tr = StandardScaler()\n",
        "x_train_rad = st_scale_tr.transform(x_train_rad)"
      ],
      "execution_count": 0,
      "outputs": []
    },
    {
      "cell_type": "code",
      "metadata": {
        "id": "p66IPeeU3cRK",
        "colab_type": "code",
        "colab": {},
        "outputId": "9b54873e-4c1e-4803-b618-2dcdba793cf0"
      },
      "source": [
        "np.std(x_train_rad, axis = 0)"
      ],
      "execution_count": 0,
      "outputs": [
        {
          "output_type": "execute_result",
          "data": {
            "text/plain": [
              "array([1., 1., 1., ..., 1., 1., 1.])"
            ]
          },
          "metadata": {
            "tags": []
          },
          "execution_count": 17
        }
      ]
    },
    {
      "cell_type": "code",
      "metadata": {
        "id": "1VfSMj1V3cRP",
        "colab_type": "code",
        "colab": {},
        "outputId": "51e756ef-8b2d-4c27-8c23-dbd4b9b39ca3"
      },
      "source": [
        "from sklearn.decomposition import PCA\n",
        "\n",
        "pca = PCA(20)\n",
        "pca.fit(x_train_rad)\n",
        "#x_train_rad = pca.transform(x_train_rad)"
      ],
      "execution_count": 0,
      "outputs": [
        {
          "output_type": "execute_result",
          "data": {
            "text/plain": [
              "PCA(copy=True, iterated_power='auto', n_components=20, random_state=None,\n",
              "    svd_solver='auto', tol=0.0, whiten=False)"
            ]
          },
          "metadata": {
            "tags": []
          },
          "execution_count": 18
        }
      ]
    },
    {
      "cell_type": "code",
      "metadata": {
        "id": "2jURjQVM3cRz",
        "colab_type": "code",
        "colab": {},
        "outputId": "1ea499d0-e0fb-4375-a89a-1517b45c754a"
      },
      "source": [
        "np.sum(pca.explained_variance_ratio_)"
      ],
      "execution_count": 0,
      "outputs": [
        {
          "output_type": "execute_result",
          "data": {
            "text/plain": [
              "0.921051369189522"
            ]
          },
          "metadata": {
            "tags": []
          },
          "execution_count": 19
        }
      ]
    },
    {
      "cell_type": "code",
      "metadata": {
        "id": "YrvS8k6I3cSM",
        "colab_type": "code",
        "colab": {}
      },
      "source": [
        "# Create training data\n",
        "# 7: from the original excel file means only radiomics, no age,grade\n",
        "train_data_r = []\n",
        "\n",
        "for index, i in enumerate(train_filenames):\n",
        "    if index % 10 == 0:\n",
        "      print(index)\n",
        "    tmp = \"final_vols/rescale_100_all/Train/\" + i\n",
        "    npz = np.load(tmp)\n",
        "    tmp_vol = npz['vol']\n",
        "    tmp_os = npz['os']\n",
        "    tmp_sos = npz['sos']\n",
        "    #print(tmp_sos)\n",
        "    tmp_age = npz['age']\n",
        "    #tmp_nest = [tmp_vol, tmp_os, tmp_sos, tmp_age, i]\n",
        "    tmp_row = np.squeeze(train_csv.loc[train_csv[\"Image\"] == i[:-4] + \".nrrd\"]).values[5:-1]\n",
        "    tmp_row = st_scale_tr.transform(np.expand_dims(tmp_row, axis=0))\n",
        "    print(np.shape(tmp_row))\n",
        "    pca_tmp_row = pca.transform(tmp_row)\n",
        "    print(np.shape(pca_tmp_row))\n",
        "    tmp_nest = [tmp_vol, tmp_os, tmp_sos]\n",
        "#     l_pca_tmp_row = list(pca_tmp_row)\n",
        "#     print(np.shape(l_pca_tmp_row))\n",
        "    tmp_nest.extend(np.squeeze(pca_tmp_row))\n",
        "    print(np.shape(tmp_nest))\n",
        "    train_data_r.append(tmp_nest)"
      ],
      "execution_count": 0,
      "outputs": []
    },
    {
      "cell_type": "code",
      "metadata": {
        "id": "h1XdqV9P3cSQ",
        "colab_type": "code",
        "colab": {}
      },
      "source": [
        "for i in x_test_rad:\n",
        "    print(np.sum(i))"
      ],
      "execution_count": 0,
      "outputs": []
    },
    {
      "cell_type": "code",
      "metadata": {
        "id": "fmBTQ7fh3cSb",
        "colab_type": "code",
        "colab": {}
      },
      "source": [
        "np.shape(x_test_rad)\n",
        "\n",
        "x_val_rad = pca.transform(x_val_rad)\n",
        "x_test_rad = pca.transform(x_test_rad)"
      ],
      "execution_count": 0,
      "outputs": []
    },
    {
      "cell_type": "code",
      "metadata": {
        "id": "iI-sTG1d3cSi",
        "colab_type": "code",
        "colab": {}
      },
      "source": [
        "np.shape(x_test_rad)"
      ],
      "execution_count": 0,
      "outputs": []
    },
    {
      "cell_type": "code",
      "metadata": {
        "id": "ZIM5v3Di3cSr",
        "colab_type": "code",
        "colab": {}
      },
      "source": [
        "for i in np.array(train_data_r):\n",
        "    print(np.sum(i[3:]))"
      ],
      "execution_count": 0,
      "outputs": []
    },
    {
      "cell_type": "code",
      "metadata": {
        "id": "RJVoQkPS3cSy",
        "colab_type": "code",
        "colab": {}
      },
      "source": [
        "# np.shape(train_data_r[1])"
      ],
      "execution_count": 0,
      "outputs": []
    },
    {
      "cell_type": "code",
      "metadata": {
        "id": "Ydn2EVCY3cTW",
        "colab_type": "code",
        "colab": {}
      },
      "source": [
        "# train_data_r[1].extend(list(train_data_r[1][3]))"
      ],
      "execution_count": 0,
      "outputs": []
    },
    {
      "cell_type": "code",
      "metadata": {
        "id": "0uzEDviJ3cV0",
        "colab_type": "code",
        "colab": {}
      },
      "source": [
        "del train_data"
      ],
      "execution_count": 0,
      "outputs": []
    },
    {
      "cell_type": "markdown",
      "metadata": {
        "id": "uBB4FeUU3cV7",
        "colab_type": "text"
      },
      "source": [
        "## Plot volumes"
      ]
    },
    {
      "cell_type": "code",
      "metadata": {
        "id": "btE-O7jy3cV8",
        "colab_type": "code",
        "colab": {}
      },
      "source": [
        "# ind = 18\n",
        "# vols = x_train\n",
        "# f,ax = plt.subplots(1,5, figsize = (25,25))\n",
        "# sls = [20,40,50,70,90]\n",
        "# for i,j in enumerate(sls):\n",
        "#     ax[i].imshow(np.squeeze(vols[ind])[:,:,j])\n",
        "# plt.show()"
      ],
      "execution_count": 0,
      "outputs": []
    },
    {
      "cell_type": "code",
      "metadata": {
        "id": "NPDmwOKm3cWF",
        "colab_type": "code",
        "colab": {}
      },
      "source": [
        "np.shape(train_data_r[1][1:])"
      ],
      "execution_count": 0,
      "outputs": []
    },
    {
      "cell_type": "markdown",
      "metadata": {
        "id": "IeyroGOR3cWM",
        "colab_type": "text"
      },
      "source": [
        "## Store event times"
      ]
    },
    {
      "cell_type": "code",
      "metadata": {
        "id": "M8Wcna-u3cWO",
        "colab_type": "code",
        "colab": {}
      },
      "source": [
        "def get_event_times(batch):\n",
        "    event_times = []\n",
        "    \n",
        "    for ind, j in enumerate(batch):\n",
        "        time = j[1]\n",
        "        if j[2] == 1:\n",
        "            event_times.append((ind,time))\n",
        "\n",
        "    return event_times"
      ],
      "execution_count": 0,
      "outputs": []
    },
    {
      "cell_type": "code",
      "metadata": {
        "id": "DBlRCRfl3cWY",
        "colab_type": "code",
        "colab": {}
      },
      "source": [
        "# Store event times for validation data\n",
        "\n",
        "val_event_times = []\n",
        "\n",
        "for ind, j in enumerate(val_data):\n",
        "    time = j[1]\n",
        "    if j[2] == 1:\n",
        "        val_event_times.append((ind,time))"
      ],
      "execution_count": 0,
      "outputs": []
    },
    {
      "cell_type": "code",
      "metadata": {
        "id": "JancjCfg3cWc",
        "colab_type": "code",
        "colab": {}
      },
      "source": [
        "# Store event times for test data\n",
        "\n",
        "tst_event_times = []\n",
        "\n",
        "for ind, j in enumerate(test_data):\n",
        "    time = j[1]\n",
        "    if j[2] == 1:\n",
        "        tst_event_times.append((ind,time))"
      ],
      "execution_count": 0,
      "outputs": []
    },
    {
      "cell_type": "code",
      "metadata": {
        "id": "DK2ywCX83cWl",
        "colab_type": "code",
        "colab": {},
        "outputId": "6d5c0772-1cf3-467c-d6a3-e7714374fb1c"
      },
      "source": [
        "np.shape(train_data_r[1][2])"
      ],
      "execution_count": 0,
      "outputs": [
        {
          "output_type": "execute_result",
          "data": {
            "text/plain": [
              "()"
            ]
          },
          "metadata": {
            "tags": []
          },
          "execution_count": 26
        }
      ]
    },
    {
      "cell_type": "markdown",
      "metadata": {
        "id": "-YFKK4FT3cW9",
        "colab_type": "text"
      },
      "source": [
        "## Get Random Batch"
      ]
    },
    {
      "cell_type": "code",
      "metadata": {
        "id": "-MMoaeku3cW-",
        "colab_type": "code",
        "colab": {}
      },
      "source": [
        "def get_batch(batchnum, batchsize):\n",
        "    \n",
        "    #Changed everything to train_data_r\n",
        "    #print(\"in\")\n",
        "    if batchnum == 0:\n",
        "        #print(\"Batchnum 0\")\n",
        "        shuffle(train_data_r)\n",
        "    \n",
        "        num = (len(train_data_r) // batchsize) + 1\n",
        "        lens = []\n",
        "\n",
        "\n",
        "        for i in range(num):\n",
        "            begin = 0 + (i * batchsize)\n",
        "            end = begin + batchsize\n",
        "            event_times = get_event_times(train_data_r[begin:end])\n",
        "            lens.append(len(event_times))\n",
        "        contains_no_zeros = np.all(lens)\n",
        "    \n",
        "        while not contains_no_zeros:\n",
        "            shuffle(train_data_r)\n",
        "            num = (len(train_data_r) // batchsize) + 1\n",
        "            lens = []\n",
        "            for i in range(num):\n",
        "                begin = 0 + (i * batchsize)\n",
        "                end = begin + batchsize\n",
        "                event_times = get_event_times(train_data_r[begin:end])\n",
        "                lens.append(len(event_times))\n",
        "            contains_no_zeros = np.all(lens)\n",
        "    \n",
        "    #print(\"out\")\n",
        "    begin = 0 + (batchnum * batchsize)\n",
        "    end = begin + batchsize\n",
        "    \n",
        "    begin = 0 + (batchnum * batchsize)\n",
        "    end = begin + batchsize\n",
        "    \n",
        "    #Changed to train_data_r for PCA\n",
        "    x_train = np.stack(np.array(train_data_r)[begin:end,0], axis = 0)\n",
        "    x_train_rad = np.stack(np.array(train_data_r)[begin:end,3:], axis = 0)\n",
        "    y_train = np.stack(np.array(train_data_r)[begin:end,1], axis = 0)\n",
        "    \n",
        "    #Commented out for PCA\n",
        "#   x_train_rad = st_scale_tr.transform(x_train_rad)\n",
        "    \n",
        "    #Changed to train_data_r for PCA\n",
        "    event_times = get_event_times(train_data_r[begin:end])\n",
        "    batch = train_data_r[begin:end]\n",
        "    \n",
        "    #print(begin,end)\n",
        "    return x_train, x_train_rad, y_train, event_times, batch"
      ],
      "execution_count": 0,
      "outputs": []
    },
    {
      "cell_type": "markdown",
      "metadata": {
        "id": "lp_BaFjM3cXP",
        "colab_type": "text"
      },
      "source": [
        "## Custom Loss"
      ]
    },
    {
      "cell_type": "code",
      "metadata": {
        "id": "ji7sjlao3cXQ",
        "colab_type": "code",
        "colab": {}
      },
      "source": [
        "#Negative partial log-likelihood\n",
        "\n",
        "#TODO : Change parameter naming.\n",
        "#TODO : Refactor code and make it more concise\n",
        "\n",
        "def custom_loss(y_true, y_pred, batchnum, batch_event_times, batch):\n",
        "  \n",
        "  val_loss = 0\n",
        "  loss = 0\n",
        "  \n",
        "  # TODO : Don't need the loss for val and test\n",
        "  \n",
        "  if batchnum == 9999 :\n",
        "    num_events = len(val_event_times)\n",
        "    for t in val_event_times:\n",
        "      ind = t[0]\n",
        "      point_loss = y_pred[ind]\n",
        "      denom = 0\n",
        "      \n",
        "      for index, datapoint in enumerate(val_data):\n",
        "        if datapoint[1] >= t[1]:\n",
        "          denom = denom + tf.math.exp(y_pred[index])\n",
        "     \n",
        "      denom = tf.math.negative(tf.math.log(denom))\n",
        "      point_loss = point_loss + denom\n",
        "      val_loss = val_loss + point_loss    \n",
        "    return tf.math.negative(val_loss/num_events)\n",
        "  \n",
        "  if batchnum == 8888 :\n",
        "    num_events = len(tst_event_times)\n",
        "    for t in tst_event_times:\n",
        "      ind = t[0]\n",
        "      point_loss = y_pred[ind]\n",
        "      denom = 0\n",
        "      \n",
        "      for index, datapoint in enumerate(test_data):\n",
        "        if datapoint[1] >= t[1]:\n",
        "          denom = denom + tf.math.exp(y_pred[index])\n",
        "     \n",
        "      denom = tf.math.negative(tf.math.log(denom))\n",
        "      point_loss = point_loss + denom\n",
        "      tst_loss = tst_loss + point_loss    \n",
        "    return tf.math.negative(tst_loss/num_events)\n",
        "  \n",
        "  else:    \n",
        "  #  print(y_pred)\n",
        "  #  print(\"Length of y_true is {} and length of y_pred is {}\".format(np.shape(y_true), np.shape(y_pred)))\n",
        "    # Only iterate over samples whose Status is 1\n",
        "    \n",
        "    num_events = len(batch_event_times)\n",
        "    #print(batch_event_times)\n",
        "    for t in batch_event_times:\n",
        "      #print(num_events)\n",
        "      ind = t[0]\n",
        "      point_loss = y_pred[ind]\n",
        "   #   print(\"initial point loss is {}\".format(point_loss))\n",
        "      denom = 0\n",
        "\n",
        "      for index, datapoint in enumerate(batch):\n",
        "       #Check whether sample is in the risk set\n",
        "         if datapoint[1] >= t[1]:\n",
        "   #       print(\"ypred is {}\".format(y_pred[index]))\n",
        "   #       print(\"exp is {}\".format(tf.math.exp(y_pred[index])))\n",
        "           denom = denom + tf.math.exp(y_pred[index])\n",
        "   #       print(\"first denom is {}\".format(denom))\n",
        "\n",
        "      denom = tf.math.negative(tf.math.log(denom))\n",
        "   #   print(\"second denom is {}\".format(denom))\n",
        "      point_loss = point_loss + denom\n",
        "      loss = loss + point_loss\n",
        "    #  print(\"point loss is {}, denom is {}\".format(point_loss, denom))\n",
        "   # print(\"loss is {}\".format(loss))\n",
        "    fin = tf.math.negative(loss/num_events)\n",
        "    #print(fin)\n",
        "    return fin"
      ],
      "execution_count": 0,
      "outputs": []
    },
    {
      "cell_type": "markdown",
      "metadata": {
        "id": "f-0yxqk13cXT",
        "colab_type": "text"
      },
      "source": [
        "## Compute C-Index"
      ]
    },
    {
      "cell_type": "code",
      "metadata": {
        "id": "j3dsJSEG3cXb",
        "colab_type": "code",
        "colab": {}
      },
      "source": [
        "def compute_cindex(pred_risk, batchnum, batch):\n",
        "  \n",
        "  #TODO : Fix double-counting\n",
        "  #TODO : Refactor code and make it more concise\n",
        "  \n",
        "  permissible = 0\n",
        "  concordant = 0\n",
        "  total = 0\n",
        "  \n",
        "  #TODO : The val_index is suspiciously high. Unit test the block below.\n",
        "  \n",
        "  if batchnum == 9999:\n",
        "    \n",
        "    for i, sample_i in enumerate(val_data):   \n",
        "      for j, sample_j in enumerate(val_data):\n",
        "        \n",
        "        total += 1\n",
        "        \n",
        "        if ((sample_i[1] < sample_j[1]) and (sample_i[2] == 0)) or\\\n",
        "        ((sample_i[1] > sample_j[1]) and (sample_j[2] == 0)) or\\\n",
        "        (sample_i[1] == sample_j[1]):\n",
        "          continue\n",
        "\n",
        "\n",
        "        permissible = permissible + 1\n",
        "\n",
        "        if ((sample_i[1] < sample_j[1]) and (pred_risk[i] > pred_risk[j])) or ((sample_i[1] > sample_j[1]) and (pred_risk[i] < pred_risk[j])):\n",
        "          concordant = concordant + 1\n",
        "  #        print(\"Concordant is {}\".format(concordant))\n",
        "\n",
        "#  print(\"Permissible is {} and Concordant is {}\".format(permissible,concordant))\n",
        "#    print(\"Proportion accepted (val) is {}\".format(permissible/total))\n",
        "    return concordant/permissible\n",
        "\n",
        "  if batchnum == 8888:\n",
        "    \n",
        "    for i, sample_i in enumerate(test_data):   \n",
        "      for j, sample_j in enumerate(test_data):\n",
        "        \n",
        "        total += 1\n",
        "        \n",
        "        if ((sample_i[1] < sample_j[1]) and (sample_i[2] == 0)) or\\\n",
        "        ((sample_i[1] > sample_j[1]) and (sample_j[2] == 0)) or\\\n",
        "        (sample_i[1] == sample_j[1]):\n",
        "          continue\n",
        "\n",
        "\n",
        "        permissible = permissible + 1\n",
        "\n",
        "        if ((sample_i[1] < sample_j[1]) and (pred_risk[i] > pred_risk[j])) or ((sample_i[1] > sample_j[1]) and (pred_risk[i] < pred_risk[j])):\n",
        "          concordant = concordant + 1\n",
        "  #        print(\"Concordant is {}\".format(concordant))\n",
        "\n",
        "#  print(\"Permissible is {} and Concordant is {}\".format(permissible,concordant))\n",
        "#    print(\"Proportion accepted (test) is {}\".format(permissible/total))\n",
        "    return concordant/permissible\n",
        "\n",
        "  else:\n",
        "  \n",
        "    for i, sample_i in enumerate(batch):   \n",
        "      for j, sample_j in enumerate(batch):\n",
        "        \n",
        "        total += 1\n",
        "        \n",
        "        if ((sample_i[1] < sample_j[1]) and (sample_i[2] == 0)) or\\\n",
        "        ((sample_i[1] > sample_j[1]) and (sample_j[2] == 0)) or\\\n",
        "        (sample_i[1] == sample_j[1]):\n",
        "          continue\n",
        "\n",
        "\n",
        "        permissible = permissible + 1\n",
        "\n",
        "        if ((sample_i[1] < sample_j[1]) and (pred_risk[i] > pred_risk[j])) or ((sample_i[1] > sample_j[1]) and (pred_risk[i] < pred_risk[j])):\n",
        "          concordant = concordant + 1\n",
        "  #        print(\"Concordant is {}\".format(concordant))\n",
        "\n",
        "  #  print(\"Permissible is {} and Concordant is {}\".format(permissible,concordant))\n",
        "  #  print(\"Proportion accepted (train) is {}\".format(permissible/total))\n",
        "    if permissible == 0:\n",
        "        print(\"permissible is zero\")\n",
        "        return 0.5\n",
        "    return concordant/permissible"
      ],
      "execution_count": 0,
      "outputs": []
    },
    {
      "cell_type": "code",
      "metadata": {
        "id": "OrIOVAs23cZg",
        "colab_type": "code",
        "colab": {}
      },
      "source": [
        "# Test another c-index function\n",
        "# Source : https://codereview.stackexchange.com/questions/202140/concordance-index-calculation\n",
        "\n",
        "import pandas as pd\n",
        "\n",
        "def c_index1(y_pred, events, times):\n",
        "    df = pd.DataFrame(data={'proba':y_pred, 'event':events, 'time':times})\n",
        "    n_total_correct = 0\n",
        "    n_total_comparable = 0\n",
        "    \n",
        "    df = df.sort_values(by=['time'])\n",
        "    for i, row in df.iterrows():\n",
        "        if row['event'] == 1:\n",
        "            comparable_rows = df[(df['event'] == 0) & (df['time'] > row['time'])]\n",
        "            n_correct_rows = len(comparable_rows[comparable_rows['proba'] < row['proba']])\n",
        "            n_total_correct += n_correct_rows\n",
        "            n_total_comparable += len(comparable_rows)\n",
        "    \n",
        "    #print(\"total comp is\" + str(n_total_comparable))\n",
        "    \n",
        "    return n_total_correct / n_total_comparable if n_total_comparable else None"
      ],
      "execution_count": 0,
      "outputs": []
    },
    {
      "cell_type": "code",
      "metadata": {
        "id": "GhEkWMBo3cZn",
        "colab_type": "code",
        "colab": {}
      },
      "source": [
        "def get_cust_inputs(ypred, batch):\n",
        "  events = np.array([i[2] for i in batch])\n",
        "  #print(events)\n",
        "  times = np.array([i[1] for i in batch])\n",
        "  \n",
        "  return ypred, events, times"
      ],
      "execution_count": 0,
      "outputs": []
    },
    {
      "cell_type": "markdown",
      "metadata": {
        "id": "10whEiZV3caU",
        "colab_type": "text"
      },
      "source": [
        "## Build and Train"
      ]
    },
    {
      "cell_type": "code",
      "metadata": {
        "id": "ifpDgaEY3cbK",
        "colab_type": "code",
        "colab": {}
      },
      "source": [
        "# Model to use for PCA features\n",
        "\n",
        "reg = 0.1\n",
        "act = \"selu\"\n",
        "input_a = keras.Input(shape = (100,100,100, 1))\n",
        "#CHANGE to 1028\n",
        "input_b = keras.Input(shape = (20,))\n",
        "\n",
        "# Conv branch\n",
        "\n",
        "x = layers.Conv3D(32, kernel_size = (3, 3, 3), activation=act,\\\n",
        "                  kernel_regularizer = keras.regularizers.l2(0.1))(input_a)\n",
        "x = layers.BatchNormalization()(x)\n",
        "x = layers.MaxPooling3D((2, 2, 2))(x)\n",
        "\n",
        "x = layers.Conv3D(32, kernel_size = (3, 3, 3), activation=act,\\\n",
        "                  kernel_regularizer = keras.regularizers.l2(0.1))(x)\n",
        "x = layers.BatchNormalization()(x)\n",
        "\n",
        "x = layers.Conv3D(32, kernel_size = (3, 3, 3), activation=act, \\\n",
        "                  kernel_regularizer = keras.regularizers.l2(0.1)) (x)\n",
        "x = layers.BatchNormalization()(x)\n",
        "x = layers.MaxPooling3D((2, 2, 2))(x)\n",
        "\n",
        "x = layers.Conv3D(32, kernel_size = (3, 3, 3), activation=act,\\\n",
        "                  kernel_regularizer = keras.regularizers.l2(0.1))(x)\n",
        "x = layers.BatchNormalization()(x)\n",
        "x = layers.MaxPooling3D((2, 2, 2))(x)\n",
        "\n",
        "x = layers.Conv3D(32, kernel_size = (3, 3, 3), activation=act,\\\n",
        "                  kernel_regularizer = keras.regularizers.l2(0.1))(x)\n",
        "x = layers.BatchNormalization()(x)\n",
        "x = layers.MaxPooling3D((2, 2, 2))(x)\n",
        "\n",
        "x = layers.Flatten()(x)\n",
        "\n",
        "# # Radiomics branch\n",
        "\n",
        "r = layers.Dense(30, activation = act, \\\n",
        "                  kernel_regularizer = keras.regularizers.l2(0.1)) (input_b)\n",
        "# r = layers.Dense(20, activation = act, \\\n",
        "#                  kernel_regularizer = keras.regularizers.l2(0.1)) (r)\n",
        "\n",
        "xr = layers.Concatenate()([r,x])\n",
        "\n",
        "# CHANGE BACK TO 20\n",
        "xr = layers.Dense(15, activation = act, \\\n",
        "                  kernel_regularizer = keras.regularizers.l2(0.1))(xr)\n",
        "\n",
        "xr = layers.Dense(10, activation = act, \\\n",
        "                  kernel_regularizer = keras.regularizers.l2(0.1))(xr)\n",
        "# Try concatenating PCA here\n",
        "output = layers.Dense(1, \\\n",
        "                  kernel_regularizer = keras.regularizers.l2(0.1))(xr)\n",
        "\n",
        "model1x = keras.Model(inputs=[input_a, input_b], outputs = [output])"
      ],
      "execution_count": 0,
      "outputs": []
    },
    {
      "cell_type": "code",
      "metadata": {
        "id": "ohH0YEk73cbZ",
        "colab_type": "code",
        "colab": {}
      },
      "source": [
        "#model1x.save(\"doctry/initmodel.h5\")"
      ],
      "execution_count": 0,
      "outputs": []
    },
    {
      "cell_type": "code",
      "metadata": {
        "id": "fawlhFoR3cbe",
        "colab_type": "code",
        "colab": {},
        "outputId": "063e2675-dfe5-4ba2-e044-0ff517a5411f"
      },
      "source": [
        "model1x = keras.models.load_model(\"doctry/initmodel.h5\")"
      ],
      "execution_count": 0,
      "outputs": [
        {
          "output_type": "stream",
          "text": [
            "W1007 08:23:10.091157 140313078347584 hdf5_format.py:171] No training configuration found in save file: the model was *not* compiled. Compile it manually.\n"
          ],
          "name": "stderr"
        }
      ]
    },
    {
      "cell_type": "code",
      "metadata": {
        "id": "nO-9qgh03cbi",
        "colab_type": "code",
        "colab": {},
        "outputId": "0ecb45d8-6ee7-4bea-f499-9a34f0e04b25"
      },
      "source": [
        "model1x.summary()"
      ],
      "execution_count": 0,
      "outputs": [
        {
          "output_type": "stream",
          "text": [
            "Model: \"model_1\"\n",
            "__________________________________________________________________________________________________\n",
            "Layer (type)                    Output Shape         Param #     Connected to                     \n",
            "==================================================================================================\n",
            "input_3 (InputLayer)            [(None, 100, 100, 10 0                                            \n",
            "__________________________________________________________________________________________________\n",
            "conv3d_5 (Conv3D)               (None, 98, 98, 98, 3 896         input_3[0][0]                    \n",
            "__________________________________________________________________________________________________\n",
            "batch_normalization_5 (BatchNor (None, 98, 98, 98, 3 128         conv3d_5[0][0]                   \n",
            "__________________________________________________________________________________________________\n",
            "max_pooling3d_4 (MaxPooling3D)  (None, 49, 49, 49, 3 0           batch_normalization_5[0][0]      \n",
            "__________________________________________________________________________________________________\n",
            "conv3d_6 (Conv3D)               (None, 47, 47, 47, 3 27680       max_pooling3d_4[0][0]            \n",
            "__________________________________________________________________________________________________\n",
            "batch_normalization_6 (BatchNor (None, 47, 47, 47, 3 128         conv3d_6[0][0]                   \n",
            "__________________________________________________________________________________________________\n",
            "conv3d_7 (Conv3D)               (None, 45, 45, 45, 3 27680       batch_normalization_6[0][0]      \n",
            "__________________________________________________________________________________________________\n",
            "batch_normalization_7 (BatchNor (None, 45, 45, 45, 3 128         conv3d_7[0][0]                   \n",
            "__________________________________________________________________________________________________\n",
            "max_pooling3d_5 (MaxPooling3D)  (None, 22, 22, 22, 3 0           batch_normalization_7[0][0]      \n",
            "__________________________________________________________________________________________________\n",
            "conv3d_8 (Conv3D)               (None, 20, 20, 20, 3 27680       max_pooling3d_5[0][0]            \n",
            "__________________________________________________________________________________________________\n",
            "batch_normalization_8 (BatchNor (None, 20, 20, 20, 3 128         conv3d_8[0][0]                   \n",
            "__________________________________________________________________________________________________\n",
            "max_pooling3d_6 (MaxPooling3D)  (None, 10, 10, 10, 3 0           batch_normalization_8[0][0]      \n",
            "__________________________________________________________________________________________________\n",
            "conv3d_9 (Conv3D)               (None, 8, 8, 8, 32)  27680       max_pooling3d_6[0][0]            \n",
            "__________________________________________________________________________________________________\n",
            "batch_normalization_9 (BatchNor (None, 8, 8, 8, 32)  128         conv3d_9[0][0]                   \n",
            "__________________________________________________________________________________________________\n",
            "input_4 (InputLayer)            [(None, 20)]         0                                            \n",
            "__________________________________________________________________________________________________\n",
            "max_pooling3d_7 (MaxPooling3D)  (None, 4, 4, 4, 32)  0           batch_normalization_9[0][0]      \n",
            "__________________________________________________________________________________________________\n",
            "dense_4 (Dense)                 (None, 30)           630         input_4[0][0]                    \n",
            "__________________________________________________________________________________________________\n",
            "flatten_1 (Flatten)             (None, 2048)         0           max_pooling3d_7[0][0]            \n",
            "__________________________________________________________________________________________________\n",
            "concatenate_1 (Concatenate)     (None, 2078)         0           dense_4[0][0]                    \n",
            "                                                                 flatten_1[0][0]                  \n",
            "__________________________________________________________________________________________________\n",
            "dense_5 (Dense)                 (None, 15)           31185       concatenate_1[0][0]              \n",
            "__________________________________________________________________________________________________\n",
            "dense_6 (Dense)                 (None, 10)           160         dense_5[0][0]                    \n",
            "__________________________________________________________________________________________________\n",
            "dense_7 (Dense)                 (None, 1)            11          dense_6[0][0]                    \n",
            "==================================================================================================\n",
            "Total params: 144,242\n",
            "Trainable params: 143,922\n",
            "Non-trainable params: 320\n",
            "__________________________________________________________________________________________________\n"
          ],
          "name": "stdout"
        }
      ]
    },
    {
      "cell_type": "code",
      "metadata": {
        "id": "ESdWpFOo3cb7",
        "colab_type": "code",
        "colab": {}
      },
      "source": [
        "# model1s.compile(optimizer= keras.optimizers.Adam(learning_rate = 0.0005),\n",
        "#               loss='mse')"
      ],
      "execution_count": 0,
      "outputs": []
    },
    {
      "cell_type": "code",
      "metadata": {
        "id": "9wTX6jlW3ccu",
        "colab_type": "code",
        "colab": {},
        "outputId": "4e28d137-5903-464a-814d-7f4d24721a49"
      },
      "source": [
        "#Training\n",
        "\n",
        "\n",
        "optimizer = tf.keras.optimizers.Adam(lr = 0.0005)\n",
        "num_epochs = 100\n",
        "batch_size = 10\n",
        "# CHANGE\n",
        "num_batches = (len(train_data_r) // batch_size) + 1\n",
        "model = model1x\n",
        "\n",
        "current_epoch = 0\n",
        "current_batch = 0\n",
        "\n",
        "epoch_trn_losses = []\n",
        "epoch_val_losses = []\n",
        "\n",
        "epoch_trn_cindices = []\n",
        "epoch_val_cindices = []\n",
        "\n",
        "best = 0\n",
        "\n",
        "for i in range(num_epochs):\n",
        "  current_epoch = i\n",
        "  \n",
        "  epoch_trn_loss = 0\n",
        "  epoch_val_loss = 0\n",
        "  \n",
        "  epoch_trn_cindex = 0\n",
        "  epoch_val_cindex = 0\n",
        "  \n",
        "#   if current_epoch == 0:\n",
        "#     model1s.save(\"first_model.h5\")\n",
        "#  print(i)\n",
        "#CHANGE\n",
        "#  for j in range(len(data)):\n",
        "  for j in range(num_batches):\n",
        "    current_batch = j\n",
        "    #print(j)\n",
        "    \n",
        " #   print(j)\n",
        "    with tf.GradientTape() as tape:\n",
        "  #    xtrain = np.array([k[0] for k in data[j]])\n",
        "  #    print(np.shape(xtrain))\n",
        "  #    ytrain = np.array([k[1] for k in data[j]])\n",
        "  #    preds = np.squeeze(model(xtrain))\n",
        "      \n",
        "      # Forward pass on batch\n",
        "    \n",
        "      x_train, x_train_rad, y_train, batch_event_times, batch = get_batch(current_batch, batch_size)\n",
        "      x_train_rad = tf.convert_to_tensor(x_train_rad, dtype=tf.float32)\n",
        "      #Change type\n",
        "      #print(x_train_rad.dtype)\n",
        "      preds = model([x_train, x_train_rad])\n",
        "      current_loss = custom_loss(y_train, preds, j, batch_event_times, batch)\n",
        "      #print(\"Epoch is {} , batch is {}, (train) loss is {}\".format(i,j,current_loss))\n",
        "      epoch_trn_loss = epoch_trn_loss + current_loss\n",
        "    \n",
        "    grads = tape.gradient(current_loss, model.trainable_variables)\n",
        "    optimizer.apply_gradients(zip(grads, model.trainable_variables))\n",
        "    \n",
        "    trn_cindex = compute_cindex(preds, j, batch)  \n",
        "    #preds, events1, times1 = get_cust_inputs(preds,batch)\n",
        "    #events = np.expand_dims(events, axis = 1)\n",
        "    #times = np.expand_dims(times, axis = 1)\n",
        "    #print(np.shape(preds))\n",
        "    #print(np.shape(events))\n",
        "    #print(np.shape(times))\n",
        "    #preds = np.squeeze(preds)\n",
        "    #print(np.shape(preds))\n",
        "#     print(type(preds.numpy()))\n",
        "#     print(type(events1))\n",
        "#     print(type(times1))\n",
        "    #trn_cindex = c_index1(np.squeeze(preds), np.array(events1), np.array(times1))\n",
        "    epoch_trn_cindex = epoch_trn_cindex + trn_cindex\n",
        "    \n",
        "    \n",
        "    val_preds = model.predict([x_val,x_val_rad], batch_size = 9)\n",
        "    val_loss = custom_loss(y_val, val_preds, 9999, None, None)\n",
        "    \n",
        "    epoch_val_loss = epoch_val_loss + val_loss\n",
        "  # TODO : Mystery  \n",
        "  #  validation_losses.append(val_loss)\n",
        "  \n",
        "    val_cindex = compute_cindex(val_preds, 9999, None)    \n",
        "    epoch_val_cindex = epoch_val_cindex + val_cindex\n",
        "    \n",
        "    #print(\"Epoch is {} , batch is {}, (val) loss is {}\".format(i,j,val_loss))\n",
        "\n",
        "    #print(\"Epoch is {} , batch is {}, (train) cindex is {}\".format(i,j,trn_cindex))\n",
        "    #print(\"Epoch is {} , batch is {}, (val) cindex is {}\".format(i,j, val_cindex))\n",
        "    \n",
        "    #test_preds = model(x_test)\n",
        "    #test_cindex = compute_cindex(test_preds, 8888, None)\n",
        "    \n",
        " #   print(\"Epoch is {} , batch is {}, (test) cindex is {}\".format(i,j,test_cindex))\n",
        "\n",
        "\n",
        "  avg_trn = epoch_trn_loss/num_batches\n",
        "  epoch_trn_losses.append(avg_trn)\n",
        "  \n",
        "  avg_val = epoch_val_loss/num_batches\n",
        "  epoch_val_losses.append(avg_val)\n",
        "    \n",
        "  avg_trn_cind = epoch_trn_cindex/num_batches\n",
        "  epoch_trn_cindices.append(avg_trn_cind)\n",
        "  \n",
        "  avg_val_cind = epoch_val_cindex/num_batches\n",
        "  epoch_val_cindices.append(avg_val_cind)\n",
        "  \n",
        "  print(\"Average (train) loss of epoch {} is {}\".format(i, avg_trn))\n",
        "  print(\"Average (val) loss of epoch {} is {}\".format(i, avg_val))\n",
        "  \n",
        "  print(\"Average (train) cindex of epoch {} is {}\".format(i, avg_trn_cind))\n",
        "  print(\"Average (val) cindex of epoch {} is {}\".format(i, avg_val_cind))\n",
        "  \n",
        "  \n",
        "  \n",
        "  if avg_val_cind > best:\n",
        "        print(str(avg_val_cind) + \" is better than \" + str(best))\n",
        "        print(\"val cindex is \" + str(val_cindex))\n",
        "        best = avg_val_cind\n",
        "        best_m = keras.models.clone_model(model)\n",
        "        best_m.set_weights(model.get_weights())\n",
        "  \n",
        "  #Early stopping\n",
        "  if (epoch_val_cindices[i] < epoch_val_cindices[i-1]) and \\\n",
        "    (epoch_val_cindices[i] < epoch_val_cindices[i-2]) and \\\n",
        "    (epoch_val_cindices[i] < epoch_val_cindices[i-3]) and \\\n",
        "    (epoch_val_cindices[i] < epoch_val_cindices[i-4]) and \\\n",
        "    (epoch_val_cindices[i] < epoch_val_cindices[i-5]) and \\\n",
        "    (epoch_val_cindices[i] < epoch_val_cindices[i-6]) and \\\n",
        "    (epoch_val_cindices[i] < epoch_val_cindices[i-7]):\n",
        "    \n",
        "    print(\"best is \" + str(best))\n",
        "    #model.save(\"saved/task5/1x_0.1_selu_5e4_5/best_model.h5\")\n",
        "#     best_m.save(\"blah/best_model.h5\")\n",
        "    \n",
        "#     with open(\"saved/task5/1x_0.1_selu_5e4_5/trn_losses.txt\", \"wb\") as f:\n",
        "#       pickle.dump(epoch_trn_losses, f)\n",
        "    \n",
        "#     with open(\"saved/task5/1x_0.1_selu_5e4_5/val_losses.txt\", \"wb\") as f:\n",
        "#       pickle.dump(epoch_val_losses, f)\n",
        "      \n",
        "#     with open(\"saved/task5/1x_0.1_selu_5e4_5/trn_cindices.txt\", \"wb\") as f:\n",
        "#       pickle.dump(epoch_trn_cindices, f)\n",
        "      \n",
        "#     with open(\"saved/task5/1x_0.1_selu_5e4_5/val_cindices.txt\", \"wb\") as f:\n",
        "#       pickle.dump(epoch_val_cindices, f)\n",
        "     \n",
        "    break"
      ],
      "execution_count": 0,
      "outputs": [
        {
          "output_type": "stream",
          "text": [
            "Average (train) loss of epoch 0 is [2.3287468]\n",
            "Average (val) loss of epoch 0 is [6.440205]\n",
            "Average (train) cindex of epoch 0 is 0.5151910346923134\n",
            "Average (val) cindex of epoch 0 is 0.5489795918367346\n",
            "0.5489795918367346 is better than 0\n",
            "val cindex is 0.5314285714285715\n",
            "Average (train) loss of epoch 1 is [2.1403296]\n",
            "Average (val) loss of epoch 1 is [2.9287417]\n",
            "Average (train) cindex of epoch 1 is 0.5968400483683255\n",
            "Average (val) cindex of epoch 1 is 0.6620408163265307\n",
            "0.6620408163265307 is better than 0.5489795918367346\n",
            "val cindex is 0.6114285714285714\n",
            "Average (train) loss of epoch 2 is [2.067106]\n",
            "Average (val) loss of epoch 2 is [3.867876]\n",
            "Average (train) cindex of epoch 2 is 0.5656125103330073\n",
            "Average (val) cindex of epoch 2 is 0.46448979591836725\n",
            "permissible is zero\n",
            "Average (train) loss of epoch 3 is [1.4513348]\n",
            "Average (val) loss of epoch 3 is [2.9161084]\n",
            "Average (train) cindex of epoch 3 is 0.7302954072875835\n",
            "Average (val) cindex of epoch 3 is 0.6310204081632653\n",
            "Average (train) loss of epoch 4 is [1.3434702]\n",
            "Average (val) loss of epoch 4 is [3.6367059]\n",
            "Average (train) cindex of epoch 4 is 0.8368573477601754\n",
            "Average (val) cindex of epoch 4 is 0.5636734693877552\n",
            "Average (train) loss of epoch 5 is [1.1002048]\n",
            "Average (val) loss of epoch 5 is [3.6660516]\n",
            "Average (train) cindex of epoch 5 is 0.8635348644373123\n",
            "Average (val) cindex of epoch 5 is 0.4959183673469388\n",
            "Average (train) loss of epoch 6 is [1.2118046]\n",
            "Average (val) loss of epoch 6 is [3.7923295]\n",
            "Average (train) cindex of epoch 6 is 0.833015439068505\n",
            "Average (val) cindex of epoch 6 is 0.46979591836734685\n",
            "Average (train) loss of epoch 7 is [0.9492782]\n",
            "Average (val) loss of epoch 7 is [3.9096208]\n",
            "Average (train) cindex of epoch 7 is 0.8160616344439874\n",
            "Average (val) cindex of epoch 7 is 0.446530612244898\n",
            "best is 0.6620408163265307\n"
          ],
          "name": "stdout"
        }
      ]
    },
    {
      "cell_type": "code",
      "metadata": {
        "id": "jda_7STz3cdt",
        "colab_type": "code",
        "colab": {},
        "outputId": "1185b605-6a90-41bc-9509-bf2e644caa5e"
      },
      "source": [
        "tpreds = best_m.predict([x_val,x_val_rad], batch_size = 5)\n",
        "compute_cindex(tpreds, 9999, None)"
      ],
      "execution_count": 0,
      "outputs": [
        {
          "output_type": "execute_result",
          "data": {
            "text/plain": [
              "0.6114285714285714"
            ]
          },
          "metadata": {
            "tags": []
          },
          "execution_count": 95
        }
      ]
    },
    {
      "cell_type": "code",
      "metadata": {
        "id": "9YLS4kHH3cdw",
        "colab_type": "code",
        "colab": {},
        "outputId": "4bf817a5-e795-4d78-d70f-9cc256ae6773"
      },
      "source": [
        "tpreds = best_m.predict([x_test,x_test_rad], batch_size = 5)\n",
        "compute_cindex(tpreds, 8888, None)"
      ],
      "execution_count": 0,
      "outputs": [
        {
          "output_type": "execute_result",
          "data": {
            "text/plain": [
              "0.5885416666666666"
            ]
          },
          "metadata": {
            "tags": []
          },
          "execution_count": 96
        }
      ]
    },
    {
      "cell_type": "code",
      "metadata": {
        "id": "H8c3o8pt3cd3",
        "colab_type": "code",
        "colab": {}
      },
      "source": [
        "del best_m\n",
        "del model1x\n",
        "del model"
      ],
      "execution_count": 0,
      "outputs": []
    },
    {
      "cell_type": "code",
      "metadata": {
        "id": "GvSHcg6j3cd6",
        "colab_type": "code",
        "colab": {}
      },
      "source": [
        "tpreds = best_model.predict(x_test, batch_size = 5)\n",
        "compute_cindex(tpreds, 8888, None)"
      ],
      "execution_count": 0,
      "outputs": []
    },
    {
      "cell_type": "code",
      "metadata": {
        "id": "Teaq3e-o3cd9",
        "colab_type": "code",
        "colab": {}
      },
      "source": [
        "tpreds = model.predict([x_test,x_test_rad], batch_size = 5)\n",
        "compute_cindex(tpreds, 8888, None)"
      ],
      "execution_count": 0,
      "outputs": []
    },
    {
      "cell_type": "code",
      "metadata": {
        "id": "fjh7z9xg3ceA",
        "colab_type": "code",
        "colab": {}
      },
      "source": [
        "tpreds = model1x.predict([x_val,x_val_rad], batch_size = 5)\n",
        "compute_cindex(tpreds, 9999, None)"
      ],
      "execution_count": 0,
      "outputs": []
    },
    {
      "cell_type": "code",
      "metadata": {
        "id": "_yPCCmIc3ceL",
        "colab_type": "code",
        "colab": {}
      },
      "source": [
        "tevents = [i[2] for i in test_data]\n",
        "ttimes = [i[1] for i in test_data]\n",
        "c_index1(np.squeeze(tpreds), np.array(tevents), np.array(ttimes))"
      ],
      "execution_count": 0,
      "outputs": []
    },
    {
      "cell_type": "code",
      "metadata": {
        "id": "EZ3CCPhv3ceO",
        "colab_type": "code",
        "colab": {}
      },
      "source": [
        "np.shape(tpreds)"
      ],
      "execution_count": 0,
      "outputs": []
    },
    {
      "cell_type": "code",
      "metadata": {
        "id": "kW0FRSjH3ceT",
        "colab_type": "code",
        "colab": {},
        "outputId": "9a5627f1-76ff-42c8-d592-57e654922020"
      },
      "source": [
        "plt.plot(epoch_trn_losses, label=\"Training loss\")\n",
        "plt.plot(epoch_val_losses, label=\"Val loss\")\n",
        "plt.legend(loc=\"upper right\")"
      ],
      "execution_count": 0,
      "outputs": [
        {
          "output_type": "execute_result",
          "data": {
            "text/plain": [
              "<matplotlib.legend.Legend at 0x7f9c704f8cc0>"
            ]
          },
          "metadata": {
            "tags": []
          },
          "execution_count": 65
        },
        {
          "output_type": "display_data",
          "data": {
            "image/png": "[encoded data removed]",
            "text/plain": [
              "<Figure size 432x288 with 1 Axes>"
            ]
          },
          "metadata": {
            "tags": []
          }
        }
      ]
    },
    {
      "cell_type": "code",
      "metadata": {
        "id": "R0hZQHHh3ce0",
        "colab_type": "code",
        "colab": {},
        "outputId": "c965a515-99ac-4c64-9dd5-ac11a6eb46b2"
      },
      "source": [
        "plt.plot(epoch_trn_cindices, label=\"Training c-index\")\n",
        "plt.plot(epoch_val_cindices, label=\"Val c-index\")\n",
        "plt.legend(loc=\"upper right\")"
      ],
      "execution_count": 0,
      "outputs": [
        {
          "output_type": "execute_result",
          "data": {
            "text/plain": [
              "<matplotlib.legend.Legend at 0x7f9c18425eb8>"
            ]
          },
          "metadata": {
            "tags": []
          },
          "execution_count": 66
        },
        {
          "output_type": "display_data",
          "data": {
            "image/png": "[encoded data removed]",
            "text/plain": [
              "<Figure size 432x288 with 1 Axes>"
            ]
          },
          "metadata": {
            "tags": []
          }
        }
      ]
    }
  ]
}