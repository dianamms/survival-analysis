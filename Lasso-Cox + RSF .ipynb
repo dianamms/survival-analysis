{
 "cells": [
  {
   "cell_type": "code",
   "execution_count": null,
   "metadata": {
    "collapsed": true,
    "scrolled": false
   },
   "outputs": [],
   "source": [
    "library(glmnet)\n",
    "library(survival)\n",
    "library(Hmisc)\n",
    "library(readxl)\n",
    "library(pec)\n",
    "library(randomForestSRC)\n",
    "library(ggRandomForests)\n",
    "library(caret)\n",
    "library(pec)\n",
    "library(plotly)"
   ]
  },
  {
   "cell_type": "code",
   "execution_count": 5,
   "metadata": {
    "scrolled": false
   },
   "outputs": [],
   "source": [
    "# The dataset must have a Status column with values of 0 or 1 that tells if the corresponding patient y is indicative of a \n",
    "# failure time or right censoring time and a Survival Time column (OS).\n",
    "\n",
    "train <- data.frame(read_excel(\"Data_clean.agegr.trn.xlsx\"))\n",
    "xtrn <- as.matrix(train[,5:1031],use.names=FALSE)\n",
    "ytrn <- Surv(train$OS, train$Status.OS)\n",
    "\n",
    "test <- data.frame(read_excel(\"Data_clean.agegr.tst.xlsx\"))\n",
    "xtst<- as.matrix(test[,5:1031], use.names=FALSE)\n",
    "ytst <- Surv(test$OS, test$Status.OS)"
   ]
  },
  {
   "cell_type": "code",
   "execution_count": 6,
   "metadata": {
    "scrolled": false
   },
   "outputs": [
    {
     "data": {
      "text/html": [
       "<table>\n",
       "<thead><tr><th scope=col>id</th><th scope=col>OS</th><th scope=col>Status.OS</th><th scope=col>Grade</th><th scope=col>Age</th><th scope=col>original_shape_Volume</th><th scope=col>original_shape_SurfaceArea</th><th scope=col>original_shape_SurfaceVolumeRatio</th><th scope=col>original_shape_Sphericity</th><th scope=col>original_shape_SphericalDisproportion</th><th scope=col>...</th><th scope=col>wavelet.LLL_gldm_DependenceNonUniformityNormalized</th><th scope=col>wavelet.LLL_gldm_GrayLevelVariance</th><th scope=col>wavelet.LLL_gldm_DependenceVariance</th><th scope=col>wavelet.LLL_gldm_DependenceEntropy</th><th scope=col>wavelet.LLL_gldm_LowGrayLevelEmphasis</th><th scope=col>wavelet.LLL_gldm_HighGrayLevelEmphasis</th><th scope=col>wavelet.LLL_gldm_SmallDependenceLowGrayLevelEmphasis</th><th scope=col>wavelet.LLL_gldm_SmallDependenceHighGrayLevelEmphasis</th><th scope=col>wavelet.LLL_gldm_LargeDependenceLowGrayLevelEmphasis</th><th scope=col>wavelet.LLL_gldm_LargeDependenceHighGrayLevelEmphasis</th></tr></thead>\n",
       "<tbody>\n",
       "\t<tr><td>178        </td><td>74.27727   </td><td>0          </td><td>1          </td><td>34.3       </td><td>564678     </td><td>54584.266  </td><td>0.09666441 </td><td>0.6052720  </td><td>1.652150   </td><td>...        </td><td>0.3677048  </td><td>391.20157  </td><td>0.8905756  </td><td>7.950018   </td><td>0.000778387</td><td>2992.6210  </td><td>0.000435395</td><td>1897.68872 </td><td>0.003600709</td><td>10273.13   </td></tr>\n",
       "\t<tr><td>  6        </td><td>27.66097   </td><td>0          </td><td>2          </td><td>73.0       </td><td> 16227     </td><td> 3718.967  </td><td>0.22918391 </td><td>0.8334648  </td><td>1.199811   </td><td>...        </td><td>0.4096528  </td><td>232.08012  </td><td>0.8068582  </td><td>6.986512   </td><td>0.002899917</td><td>2019.3577  </td><td>0.002575654</td><td>1259.47201 </td><td>0.004933955</td><td> 7404.04   </td></tr>\n",
       "\t<tr><td>110        </td><td>51.93824   </td><td>1          </td><td>2          </td><td>46.4       </td><td>264384     </td><td>26020.241  </td><td>0.09841836 </td><td>0.7655900  </td><td>1.306182   </td><td>...        </td><td>0.1362766  </td><td> 44.90592  </td><td>5.8744439  </td><td>7.658338   </td><td>0.003697050</td><td> 522.8409  </td><td>0.001231636</td><td>  84.01699 </td><td>0.053951321</td><td>13837.87   </td></tr>\n",
       "</tbody>\n",
       "</table>\n"
      ],
      "text/latex": [
       "\\begin{tabular}{r|lllllllllllllllllllllllllllllllllllllllllllllllllllllllllllllllllllllllllllllllllllllllllllllllllllllllllllllllllllllllllllllllllllllllllllllllllllllllllllllllllllllllllllllllllllllllllllllllllllllllllllllllllllllllllllllllllllllllllllllllllllllllllllllllllllllllllllllllllllllllllllllllllllllllllllllllllllllllllllllllllllllllllllllllllllllllllllllllllllllllllllllllllllllllllllllllllllllllllllllllllllllllllllllllllllllllllllllllllllllllllllllllllllllllllllllllllllllllllllllllllllllllllllllllllllllllllllllllllllllllllllllllllllllllllllllllllllllllllllllllllllllllllllllllllllllllllllllllllllllllllllllllllllllllllllllllllllllllllllllllllllllllllllllllllllllllllllllllllllllllllllllllllllllllllllllllllllllllllllllllllllllllllllllllllllllllllllllllllllllllllllllllllllllllllllllllllllllllllllllllllllllllllllllllllllllllllllllllllllllllllllllllllllllllllllllllllllllllllllllllllllllllllllllllllllllllllllllllllllllllllllllllllllllllllllllllllllllllllllllllllllllllllllllllllllllllllllllllllllllllllllllllllllllllllllllllllllllll}\n",
       " id & OS & Status.OS & Grade & Age & original\\_shape\\_Volume & original\\_shape\\_SurfaceArea & original\\_shape\\_SurfaceVolumeRatio & original\\_shape\\_Sphericity & original\\_shape\\_SphericalDisproportion & ... & wavelet.LLL\\_gldm\\_DependenceNonUniformityNormalized & wavelet.LLL\\_gldm\\_GrayLevelVariance & wavelet.LLL\\_gldm\\_DependenceVariance & wavelet.LLL\\_gldm\\_DependenceEntropy & wavelet.LLL\\_gldm\\_LowGrayLevelEmphasis & wavelet.LLL\\_gldm\\_HighGrayLevelEmphasis & wavelet.LLL\\_gldm\\_SmallDependenceLowGrayLevelEmphasis & wavelet.LLL\\_gldm\\_SmallDependenceHighGrayLevelEmphasis & wavelet.LLL\\_gldm\\_LargeDependenceLowGrayLevelEmphasis & wavelet.LLL\\_gldm\\_LargeDependenceHighGrayLevelEmphasis\\\\\n",
       "\\hline\n",
       "\t 178         & 74.27727    & 0           & 1           & 34.3        & 564678      & 54584.266   & 0.09666441  & 0.6052720   & 1.652150    & ...         & 0.3677048   & 391.20157   & 0.8905756   & 7.950018    & 0.000778387 & 2992.6210   & 0.000435395 & 1897.68872  & 0.003600709 & 10273.13   \\\\\n",
       "\t   6         & 27.66097    & 0           & 2           & 73.0        &  16227      &  3718.967   & 0.22918391  & 0.8334648   & 1.199811    & ...         & 0.4096528   & 232.08012   & 0.8068582   & 6.986512    & 0.002899917 & 2019.3577   & 0.002575654 & 1259.47201  & 0.004933955 &  7404.04   \\\\\n",
       "\t 110         & 51.93824    & 1           & 2           & 46.4        & 264384      & 26020.241   & 0.09841836  & 0.7655900   & 1.306182    & ...         & 0.1362766   &  44.90592   & 5.8744439   & 7.658338    & 0.003697050 &  522.8409   & 0.001231636 &   84.01699  & 0.053951321 & 13837.87   \\\\\n",
       "\\end{tabular}\n"
      ],
      "text/markdown": [
       "\n",
       "id | OS | Status.OS | Grade | Age | original_shape_Volume | original_shape_SurfaceArea | original_shape_SurfaceVolumeRatio | original_shape_Sphericity | original_shape_SphericalDisproportion | ... | wavelet.LLL_gldm_DependenceNonUniformityNormalized | wavelet.LLL_gldm_GrayLevelVariance | wavelet.LLL_gldm_DependenceVariance | wavelet.LLL_gldm_DependenceEntropy | wavelet.LLL_gldm_LowGrayLevelEmphasis | wavelet.LLL_gldm_HighGrayLevelEmphasis | wavelet.LLL_gldm_SmallDependenceLowGrayLevelEmphasis | wavelet.LLL_gldm_SmallDependenceHighGrayLevelEmphasis | wavelet.LLL_gldm_LargeDependenceLowGrayLevelEmphasis | wavelet.LLL_gldm_LargeDependenceHighGrayLevelEmphasis | \n",
       "|---|---|---|\n",
       "| 178         | 74.27727    | 0           | 1           | 34.3        | 564678      | 54584.266   | 0.09666441  | 0.6052720   | 1.652150    | ...         | 0.3677048   | 391.20157   | 0.8905756   | 7.950018    | 0.000778387 | 2992.6210   | 0.000435395 | 1897.68872  | 0.003600709 | 10273.13    | \n",
       "|   6         | 27.66097    | 0           | 2           | 73.0        |  16227      |  3718.967   | 0.22918391  | 0.8334648   | 1.199811    | ...         | 0.4096528   | 232.08012   | 0.8068582   | 6.986512    | 0.002899917 | 2019.3577   | 0.002575654 | 1259.47201  | 0.004933955 |  7404.04    | \n",
       "| 110         | 51.93824    | 1           | 2           | 46.4        | 264384      | 26020.241   | 0.09841836  | 0.7655900   | 1.306182    | ...         | 0.1362766   |  44.90592   | 5.8744439   | 7.658338    | 0.003697050 |  522.8409   | 0.001231636 |   84.01699  | 0.053951321 | 13837.87    | \n",
       "\n",
       "\n"
      ],
      "text/plain": [
       "  id  OS       Status.OS Grade Age  original_shape_Volume\n",
       "1 178 74.27727 0         1     34.3 564678               \n",
       "2   6 27.66097 0         2     73.0  16227               \n",
       "3 110 51.93824 1         2     46.4 264384               \n",
       "  original_shape_SurfaceArea original_shape_SurfaceVolumeRatio\n",
       "1 54584.266                  0.09666441                       \n",
       "2  3718.967                  0.22918391                       \n",
       "3 26020.241                  0.09841836                       \n",
       "  original_shape_Sphericity original_shape_SphericalDisproportion ...\n",
       "1 0.6052720                 1.652150                              ...\n",
       "2 0.8334648                 1.199811                              ...\n",
       "3 0.7655900                 1.306182                              ...\n",
       "  wavelet.LLL_gldm_DependenceNonUniformityNormalized\n",
       "1 0.3677048                                         \n",
       "2 0.4096528                                         \n",
       "3 0.1362766                                         \n",
       "  wavelet.LLL_gldm_GrayLevelVariance wavelet.LLL_gldm_DependenceVariance\n",
       "1 391.20157                          0.8905756                          \n",
       "2 232.08012                          0.8068582                          \n",
       "3  44.90592                          5.8744439                          \n",
       "  wavelet.LLL_gldm_DependenceEntropy wavelet.LLL_gldm_LowGrayLevelEmphasis\n",
       "1 7.950018                           0.000778387                          \n",
       "2 6.986512                           0.002899917                          \n",
       "3 7.658338                           0.003697050                          \n",
       "  wavelet.LLL_gldm_HighGrayLevelEmphasis\n",
       "1 2992.6210                             \n",
       "2 2019.3577                             \n",
       "3  522.8409                             \n",
       "  wavelet.LLL_gldm_SmallDependenceLowGrayLevelEmphasis\n",
       "1 0.000435395                                         \n",
       "2 0.002575654                                         \n",
       "3 0.001231636                                         \n",
       "  wavelet.LLL_gldm_SmallDependenceHighGrayLevelEmphasis\n",
       "1 1897.68872                                           \n",
       "2 1259.47201                                           \n",
       "3   84.01699                                           \n",
       "  wavelet.LLL_gldm_LargeDependenceLowGrayLevelEmphasis\n",
       "1 0.003600709                                         \n",
       "2 0.004933955                                         \n",
       "3 0.053951321                                         \n",
       "  wavelet.LLL_gldm_LargeDependenceHighGrayLevelEmphasis\n",
       "1 10273.13                                             \n",
       "2  7404.04                                             \n",
       "3 13837.87                                             "
      ]
     },
     "metadata": {},
     "output_type": "display_data"
    },
    {
     "data": {
      "text/html": [
       "<ol class=list-inline>\n",
       "\t<li>165</li>\n",
       "\t<li>1031</li>\n",
       "</ol>\n"
      ],
      "text/latex": [
       "\\begin{enumerate*}\n",
       "\\item 165\n",
       "\\item 1031\n",
       "\\end{enumerate*}\n"
      ],
      "text/markdown": [
       "1. 165\n",
       "2. 1031\n",
       "\n",
       "\n"
      ],
      "text/plain": [
       "[1]  165 1031"
      ]
     },
     "metadata": {},
     "output_type": "display_data"
    }
   ],
   "source": [
    "head(train,3)\n",
    "dim(train)"
   ]
  },
  {
   "cell_type": "markdown",
   "metadata": {},
   "source": [
    "## Check that the train/test split is balanced regarding the Grade and Status columns"
   ]
  },
  {
   "cell_type": "code",
   "execution_count": 7,
   "metadata": {
    "scrolled": false
   },
   "outputs": [
    {
     "data": {
      "image/png": "[encoded data removed]",
      "text/plain": [
       "Plot with title \"Histogram of test$Status.OS\""
      ]
     },
     "metadata": {},
     "output_type": "display_data"
    }
   ],
   "source": [
    "par(mfrow=c(2,2))\n",
    "hist(train$Grade)\n",
    "hist(train$Status.OS)\n",
    "hist(test$Grade)\n",
    "hist(test$Status.OS)"
   ]
  },
  {
   "cell_type": "markdown",
   "metadata": {},
   "source": [
    "## Lasso-Cox regression\n",
    "\n",
    "Since the number of features is much higher compared to the number of observations, a variable selection approach was needed.\n",
    "\n",
    "Call the glmnet function to fit with the lasso penalty (α = 1)"
   ]
  },
  {
   "cell_type": "code",
   "execution_count": 8,
   "metadata": {
    "scrolled": false
   },
   "outputs": [],
   "source": [
    "cox <- glmnet(xtrn, ytrn, family=\"cox\", alpha=1)"
   ]
  },
  {
   "cell_type": "markdown",
   "metadata": {},
   "source": [
    "## Visualize the coefficients by executing the plot function"
   ]
  },
  {
   "cell_type": "code",
   "execution_count": 9,
   "metadata": {
    "scrolled": false
   },
   "outputs": [
    {
     "data": {
      "image/png": "[encoded data removed]",
      "text/plain": [
       "plot without title"
      ]
     },
     "metadata": {},
     "output_type": "display_data"
    }
   ],
   "source": [
    "plot(cox)"
   ]
  },
  {
   "cell_type": "markdown",
   "metadata": {},
   "source": [
    "Each curve corresponds to a variable. It shows the path of its coefficient against the ℓ1-norm of the whole coefficient vector at as λ varies. The axis above indicates the number of nonzero coefficients at the current λ, which is the effective degrees of freedom (df) for the lasso.  \n",
    "\n",
    "https://web.stanford.edu/~hastie/glmnet/glmnet_alpha.html"
   ]
  },
  {
   "cell_type": "markdown",
   "metadata": {},
   "source": [
    "The function glmnet returns a sequence of models for the users to choose from. \n",
    "The function cv.glmnet does cross validation and selects the best model."
   ]
  },
  {
   "cell_type": "code",
   "execution_count": 10,
   "metadata": {
    "scrolled": false
   },
   "outputs": [
    {
     "data": {
      "image/png": "[encoded data removed]",
      "text/plain": [
       "plot without title"
      ]
     },
     "metadata": {},
     "output_type": "display_data"
    }
   ],
   "source": [
    "cv.cox <- cv.glmnet(xtrn, ytrn, family=\"cox\", alpha=1)\n",
    "plot(cv.cox)"
   ]
  },
  {
   "cell_type": "markdown",
   "metadata": {},
   "source": [
    "The left vertical line in the plot shows where the CV-error curve hits its\n",
    "minimum. The right vertical line shows the most regularized model with\n",
    "CV-error within 1 standard deviation of the minimum. "
   ]
  },
  {
   "cell_type": "markdown",
   "metadata": {},
   "source": [
    "## Compute the Concordance Index for Lasso-Cox"
   ]
  },
  {
   "cell_type": "markdown",
   "metadata": {},
   "source": [
    "This metric is needed in order to compare the models between them.\n",
    "\n",
    "lambda.min is the optimal value of the regularization parameter, that gives the minimum negative log of the partial likelihood (that we want to penalize)"
   ]
  },
  {
   "cell_type": "code",
   "execution_count": 11,
   "metadata": {
    "scrolled": false
   },
   "outputs": [
    {
     "data": {
      "text/html": [
       "<dl class=dl-horizontal>\n",
       "\t<dt>C Index</dt>\n",
       "\t\t<dd>0.706552706552707</dd>\n",
       "\t<dt>Dxy</dt>\n",
       "\t\t<dd>0.413105413105413</dd>\n",
       "\t<dt>S.D.</dt>\n",
       "\t\t<dd>0.158537983387311</dd>\n",
       "\t<dt>n</dt>\n",
       "\t\t<dd>42</dd>\n",
       "\t<dt>missing</dt>\n",
       "\t\t<dd>0</dd>\n",
       "\t<dt>uncensored</dt>\n",
       "\t\t<dd>13</dd>\n",
       "\t<dt>Relevant Pairs</dt>\n",
       "\t\t<dd>702</dd>\n",
       "\t<dt>Concordant</dt>\n",
       "\t\t<dd>496</dd>\n",
       "\t<dt>Uncertain</dt>\n",
       "\t\t<dd>1020</dd>\n",
       "</dl>\n"
      ],
      "text/latex": [
       "\\begin{description*}\n",
       "\\item[C Index] 0.706552706552707\n",
       "\\item[Dxy] 0.413105413105413\n",
       "\\item[S.D.] 0.158537983387311\n",
       "\\item[n] 42\n",
       "\\item[missing] 0\n",
       "\\item[uncensored] 13\n",
       "\\item[Relevant Pairs] 702\n",
       "\\item[Concordant] 496\n",
       "\\item[Uncertain] 1020\n",
       "\\end{description*}\n"
      ],
      "text/markdown": [
       "C Index\n",
       ":   0.706552706552707Dxy\n",
       ":   0.413105413105413S.D.\n",
       ":   0.158537983387311n\n",
       ":   42missing\n",
       ":   0uncensored\n",
       ":   13Relevant Pairs\n",
       ":   702Concordant\n",
       ":   496Uncertain\n",
       ":   1020\n",
       "\n"
      ],
      "text/plain": [
       "       C Index            Dxy           S.D.              n        missing \n",
       "     0.7065527      0.4131054      0.1585380     42.0000000      0.0000000 \n",
       "    uncensored Relevant Pairs     Concordant      Uncertain \n",
       "    13.0000000    702.0000000    496.0000000   1020.0000000 "
      ]
     },
     "metadata": {},
     "output_type": "display_data"
    }
   ],
   "source": [
    "pred.cox<- predict(cox, newx = xtst, type = \"response\", s = cv.cox$lambda.min)\n",
    "cindex<- rcorr.cens(pred.cox*-1, ytst)\n",
    "cindex"
   ]
  },
  {
   "cell_type": "markdown",
   "metadata": {},
   "source": [
    "## Get the variables selected by Lasso"
   ]
  },
  {
   "cell_type": "markdown",
   "metadata": {},
   "source": [
    "The Coefficients contain the p length coefficient vector\n",
    "of the solution corresponding to λ =cv.fit$lambda.min"
   ]
  },
  {
   "cell_type": "code",
   "execution_count": 12,
   "metadata": {
    "scrolled": false
   },
   "outputs": [
    {
     "data": {
      "text/html": [
       "<ol class=list-inline>\n",
       "\t<li>1</li>\n",
       "\t<li>5</li>\n",
       "\t<li>54</li>\n",
       "\t<li>237</li>\n",
       "\t<li>262</li>\n",
       "\t<li>355</li>\n",
       "\t<li>694</li>\n",
       "\t<li>757</li>\n",
       "\t<li>810</li>\n",
       "\t<li>858</li>\n",
       "\t<li>878</li>\n",
       "\t<li>946</li>\n",
       "\t<li>958</li>\n",
       "\t<li>998</li>\n",
       "</ol>\n"
      ],
      "text/latex": [
       "\\begin{enumerate*}\n",
       "\\item 1\n",
       "\\item 5\n",
       "\\item 54\n",
       "\\item 237\n",
       "\\item 262\n",
       "\\item 355\n",
       "\\item 694\n",
       "\\item 757\n",
       "\\item 810\n",
       "\\item 858\n",
       "\\item 878\n",
       "\\item 946\n",
       "\\item 958\n",
       "\\item 998\n",
       "\\end{enumerate*}\n"
      ],
      "text/markdown": [
       "1. 1\n",
       "2. 5\n",
       "3. 54\n",
       "4. 237\n",
       "5. 262\n",
       "6. 355\n",
       "7. 694\n",
       "8. 757\n",
       "9. 810\n",
       "10. 858\n",
       "11. 878\n",
       "12. 946\n",
       "13. 958\n",
       "14. 998\n",
       "\n",
       "\n"
      ],
      "text/plain": [
       " [1]   1   5  54 237 262 355 694 757 810 858 878 946 958 998"
      ]
     },
     "metadata": {},
     "output_type": "display_data"
    },
    {
     "data": {
      "text/html": [
       "<ol class=list-inline>\n",
       "\t<li>'Age'</li>\n",
       "\t<li>'original_shape_Sphericity'</li>\n",
       "\t<li>'original_glcm_MaximumProbability'</li>\n",
       "\t<li>'log.sigma.5.0.mm.3D_glcm_InverseVariance'</li>\n",
       "\t<li>'log.sigma.5.0.mm.3D_glszm_LargeAreaHighGrayLevelEmphasis'</li>\n",
       "\t<li>'wavelet.HHH_glszm_LargeAreaLowGrayLevelEmphasis'</li>\n",
       "\t<li>'wavelet.LHH_glcm_Idmn'</li>\n",
       "\t<li>'wavelet.LHL_firstorder_Kurtosis'</li>\n",
       "\t<li>'wavelet.LHL_glszm_GrayLevelNonUniformityNormalized'</li>\n",
       "\t<li>'wavelet.LLH_firstorder_Skewness'</li>\n",
       "\t<li>'wavelet.LLH_glcm_Idmn'</li>\n",
       "\t<li>'wavelet.LLL_firstorder_Minimum'</li>\n",
       "\t<li>'wavelet.LLL_glcm_ClusterShade'</li>\n",
       "\t<li>'wavelet.LLL_glszm_LargeAreaHighGrayLevelEmphasis'</li>\n",
       "</ol>\n"
      ],
      "text/latex": [
       "\\begin{enumerate*}\n",
       "\\item 'Age'\n",
       "\\item 'original\\_shape\\_Sphericity'\n",
       "\\item 'original\\_glcm\\_MaximumProbability'\n",
       "\\item 'log.sigma.5.0.mm.3D\\_glcm\\_InverseVariance'\n",
       "\\item 'log.sigma.5.0.mm.3D\\_glszm\\_LargeAreaHighGrayLevelEmphasis'\n",
       "\\item 'wavelet.HHH\\_glszm\\_LargeAreaLowGrayLevelEmphasis'\n",
       "\\item 'wavelet.LHH\\_glcm\\_Idmn'\n",
       "\\item 'wavelet.LHL\\_firstorder\\_Kurtosis'\n",
       "\\item 'wavelet.LHL\\_glszm\\_GrayLevelNonUniformityNormalized'\n",
       "\\item 'wavelet.LLH\\_firstorder\\_Skewness'\n",
       "\\item 'wavelet.LLH\\_glcm\\_Idmn'\n",
       "\\item 'wavelet.LLL\\_firstorder\\_Minimum'\n",
       "\\item 'wavelet.LLL\\_glcm\\_ClusterShade'\n",
       "\\item 'wavelet.LLL\\_glszm\\_LargeAreaHighGrayLevelEmphasis'\n",
       "\\end{enumerate*}\n"
      ],
      "text/markdown": [
       "1. 'Age'\n",
       "2. 'original_shape_Sphericity'\n",
       "3. 'original_glcm_MaximumProbability'\n",
       "4. 'log.sigma.5.0.mm.3D_glcm_InverseVariance'\n",
       "5. 'log.sigma.5.0.mm.3D_glszm_LargeAreaHighGrayLevelEmphasis'\n",
       "6. 'wavelet.HHH_glszm_LargeAreaLowGrayLevelEmphasis'\n",
       "7. 'wavelet.LHH_glcm_Idmn'\n",
       "8. 'wavelet.LHL_firstorder_Kurtosis'\n",
       "9. 'wavelet.LHL_glszm_GrayLevelNonUniformityNormalized'\n",
       "10. 'wavelet.LLH_firstorder_Skewness'\n",
       "11. 'wavelet.LLH_glcm_Idmn'\n",
       "12. 'wavelet.LLL_firstorder_Minimum'\n",
       "13. 'wavelet.LLL_glcm_ClusterShade'\n",
       "14. 'wavelet.LLL_glszm_LargeAreaHighGrayLevelEmphasis'\n",
       "\n",
       "\n"
      ],
      "text/plain": [
       " [1] \"Age\"                                                     \n",
       " [2] \"original_shape_Sphericity\"                               \n",
       " [3] \"original_glcm_MaximumProbability\"                        \n",
       " [4] \"log.sigma.5.0.mm.3D_glcm_InverseVariance\"                \n",
       " [5] \"log.sigma.5.0.mm.3D_glszm_LargeAreaHighGrayLevelEmphasis\"\n",
       " [6] \"wavelet.HHH_glszm_LargeAreaLowGrayLevelEmphasis\"         \n",
       " [7] \"wavelet.LHH_glcm_Idmn\"                                   \n",
       " [8] \"wavelet.LHL_firstorder_Kurtosis\"                         \n",
       " [9] \"wavelet.LHL_glszm_GrayLevelNonUniformityNormalized\"      \n",
       "[10] \"wavelet.LLH_firstorder_Skewness\"                         \n",
       "[11] \"wavelet.LLH_glcm_Idmn\"                                   \n",
       "[12] \"wavelet.LLL_firstorder_Minimum\"                          \n",
       "[13] \"wavelet.LLL_glcm_ClusterShade\"                           \n",
       "[14] \"wavelet.LLL_glszm_LargeAreaHighGrayLevelEmphasis\"        "
      ]
     },
     "metadata": {},
     "output_type": "display_data"
    },
    {
     "data": {
      "text/html": [
       "<ol class=list-inline>\n",
       "\t<li>0.01729262155763</li>\n",
       "\t<li>-1.2824913718951</li>\n",
       "\t<li>-3.54988931468928</li>\n",
       "\t<li>0.284422856443506</li>\n",
       "\t<li>1.34951897930193e-08</li>\n",
       "\t<li>-1.8311341608854e-06</li>\n",
       "\t<li>26.5745308126492</li>\n",
       "\t<li>0.0547610021319532</li>\n",
       "\t<li>9.57810429788078</li>\n",
       "\t<li>0.295892098631354</li>\n",
       "\t<li>0.850956900760013</li>\n",
       "\t<li>-0.000402314948282278</li>\n",
       "\t<li>-1.01903968094834e-06</li>\n",
       "\t<li>-2.40516807308036e-08</li>\n",
       "</ol>\n"
      ],
      "text/latex": [
       "\\begin{enumerate*}\n",
       "\\item 0.01729262155763\n",
       "\\item -1.2824913718951\n",
       "\\item -3.54988931468928\n",
       "\\item 0.284422856443506\n",
       "\\item 1.34951897930193e-08\n",
       "\\item -1.8311341608854e-06\n",
       "\\item 26.5745308126492\n",
       "\\item 0.0547610021319532\n",
       "\\item 9.57810429788078\n",
       "\\item 0.295892098631354\n",
       "\\item 0.850956900760013\n",
       "\\item -0.000402314948282278\n",
       "\\item -1.01903968094834e-06\n",
       "\\item -2.40516807308036e-08\n",
       "\\end{enumerate*}\n"
      ],
      "text/markdown": [
       "1. 0.01729262155763\n",
       "2. -1.2824913718951\n",
       "3. -3.54988931468928\n",
       "4. 0.284422856443506\n",
       "5. 1.34951897930193e-08\n",
       "6. -1.8311341608854e-06\n",
       "7. 26.5745308126492\n",
       "8. 0.0547610021319532\n",
       "9. 9.57810429788078\n",
       "10. 0.295892098631354\n",
       "11. 0.850956900760013\n",
       "12. -0.000402314948282278\n",
       "13. -1.01903968094834e-06\n",
       "14. -2.40516807308036e-08\n",
       "\n",
       "\n"
      ],
      "text/plain": [
       " [1]  1.729262e-02 -1.282491e+00 -3.549889e+00  2.844229e-01  1.349519e-08\n",
       " [6] -1.831134e-06  2.657453e+01  5.476100e-02  9.578104e+00  2.958921e-01\n",
       "[11]  8.509569e-01 -4.023149e-04 -1.019040e-06 -2.405168e-08"
      ]
     },
     "metadata": {},
     "output_type": "display_data"
    }
   ],
   "source": [
    "Coefficients <- coef(cox, s = cv.cox$lambda.min)  \n",
    "Active.Index <- which(Coefficients != 0)\n",
    "Active.Coefficients <- Coefficients[Active.Index]\n",
    "Active.Index\n",
    "names(train[,Active.Index+4])\n",
    "Active.Coefficients"
   ]
  },
  {
   "cell_type": "markdown",
   "metadata": {},
   "source": [
    "## Random Survival Forest"
   ]
  },
  {
   "cell_type": "markdown",
   "metadata": {},
   "source": [
    "Train a Random Survival Forest using the features selected by lasso regression. "
   ]
  },
  {
   "cell_type": "code",
   "execution_count": 13,
   "metadata": {
    "scrolled": false
   },
   "outputs": [],
   "source": [
    "df<-train[,Active.Index+4]\n",
    "y<-train[,2:3]\n",
    "dff<-cbind(y,df)\n"
   ]
  },
  {
   "cell_type": "code",
   "execution_count": 14,
   "metadata": {
    "scrolled": false
   },
   "outputs": [
    {
     "name": "stdout",
     "output_type": "stream",
     "text": [
      "                         Sample size: 165\n",
      "                    Number of deaths: 53\n",
      "                     Number of trees: 120\n",
      "           Forest terminal node size: 3\n",
      "       Average no. of terminal nodes: 46.625\n",
      "No. of variables tried at each split: 4\n",
      "              Total no. of variables: 14\n",
      "                            Analysis: RSF\n",
      "                              Family: surv\n",
      "                      Splitting rule: random\n",
      "                          Error rate: 28.3%\n",
      "\n"
     ]
    }
   ],
   "source": [
    "model <- rfsrc(Surv(OS,Status.OS) ~ ., dff,\n",
    "                    nsplit = 10, na.action = \"na.omit\",\n",
    "                    importance = FALSE,ntree = 120, nodesize = 3, block.size = 2,\n",
    "                    splitrule=\"random\")\n",
    "print(model)\n"
   ]
  },
  {
   "cell_type": "markdown",
   "metadata": {},
   "source": [
    "## Get predictions on test set\n",
    "\n",
    "The c-index is computed as 1-test set error rate"
   ]
  },
  {
   "cell_type": "code",
   "execution_count": 15,
   "metadata": {
    "scrolled": false
   },
   "outputs": [
    {
     "name": "stdout",
     "output_type": "stream",
     "text": [
      "  Sample size of test (predict) data: 42\n",
      "       Number of deaths in test data: 13\n",
      "                Number of grow trees: 120\n",
      "  Average no. of grow terminal nodes: 46.625\n",
      "         Total no. of grow variables: 14\n",
      "                            Analysis: RSF\n",
      "                              Family: surv\n",
      "                 Test set error rate: 37.89%\n",
      "\n"
     ]
    }
   ],
   "source": [
    "\n",
    "pred<- predict(model, newdata = test,\n",
    "                     na.action = \"na.omit\",importance=TRUE)\n",
    "\n",
    "print(pred)"
   ]
  },
  {
   "cell_type": "code",
   "execution_count": 22,
   "metadata": {
    "scrolled": false
   },
   "outputs": [
    {
     "data": {
      "text/html": [
       "<ol class=list-inline>\n",
       "\t<li>3</li>\n",
       "\t<li>4</li>\n",
       "\t<li>6</li>\n",
       "\t<li>7</li>\n",
       "\t<li>9</li>\n",
       "\t<li>10</li>\n",
       "\t<li>12</li>\n",
       "\t<li>14</li>\n",
       "\t<li>15</li>\n",
       "\t<li>18</li>\n",
       "\t<li>22</li>\n",
       "\t<li>23</li>\n",
       "\t<li>24</li>\n",
       "\t<li>26</li>\n",
       "\t<li>27</li>\n",
       "\t<li>28</li>\n",
       "\t<li>29</li>\n",
       "\t<li>31</li>\n",
       "\t<li>32</li>\n",
       "\t<li>34</li>\n",
       "\t<li>37</li>\n",
       "\t<li>42</li>\n",
       "</ol>\n"
      ],
      "text/latex": [
       "\\begin{enumerate*}\n",
       "\\item 3\n",
       "\\item 4\n",
       "\\item 6\n",
       "\\item 7\n",
       "\\item 9\n",
       "\\item 10\n",
       "\\item 12\n",
       "\\item 14\n",
       "\\item 15\n",
       "\\item 18\n",
       "\\item 22\n",
       "\\item 23\n",
       "\\item 24\n",
       "\\item 26\n",
       "\\item 27\n",
       "\\item 28\n",
       "\\item 29\n",
       "\\item 31\n",
       "\\item 32\n",
       "\\item 34\n",
       "\\item 37\n",
       "\\item 42\n",
       "\\end{enumerate*}\n"
      ],
      "text/markdown": [
       "1. 3\n",
       "2. 4\n",
       "3. 6\n",
       "4. 7\n",
       "5. 9\n",
       "6. 10\n",
       "7. 12\n",
       "8. 14\n",
       "9. 15\n",
       "10. 18\n",
       "11. 22\n",
       "12. 23\n",
       "13. 24\n",
       "14. 26\n",
       "15. 27\n",
       "16. 28\n",
       "17. 29\n",
       "18. 31\n",
       "19. 32\n",
       "20. 34\n",
       "21. 37\n",
       "22. 42\n",
       "\n",
       "\n"
      ],
      "text/plain": [
       " [1]  3  4  6  7  9 10 12 14 15 18 22 23 24 26 27 28 29 31 32 34 37 42"
      ]
     },
     "metadata": {},
     "output_type": "display_data"
    },
    {
     "data": {
      "text/html": [
       "<ol class=list-inline>\n",
       "\t<li>2</li>\n",
       "\t<li>17</li>\n",
       "\t<li>21</li>\n",
       "\t<li>25</li>\n",
       "\t<li>30</li>\n",
       "</ol>\n"
      ],
      "text/latex": [
       "\\begin{enumerate*}\n",
       "\\item 2\n",
       "\\item 17\n",
       "\\item 21\n",
       "\\item 25\n",
       "\\item 30\n",
       "\\end{enumerate*}\n"
      ],
      "text/markdown": [
       "1. 2\n",
       "2. 17\n",
       "3. 21\n",
       "4. 25\n",
       "5. 30\n",
       "\n",
       "\n"
      ],
      "text/plain": [
       "[1]  2 17 21 25 30"
      ]
     },
     "metadata": {},
     "output_type": "display_data"
    }
   ],
   "source": [
    "# Check the Grading of the tumors and select 2 subjects, one with Grade 1 and one with Grade 3.\n",
    "\n",
    "which(test$Grade==3)\n",
    "which(test$Grade==1)"
   ]
  },
  {
   "cell_type": "markdown",
   "metadata": {},
   "source": [
    "## Plot Survival Functions for predictions"
   ]
  },
  {
   "cell_type": "code",
   "execution_count": 38,
   "metadata": {
    "scrolled": false
   },
   "outputs": [],
   "source": [
    "p1 <- plot_ly(data=test, y = pred$survival[30,], name = 'Patient with Grade 1', type = 'scatter', mode = 'lines',line = list(color= \"#008B8B\")) %>%\n",
    "  add_trace(y = pred$survival[37,], name = 'Patient with Grade 3', mode = 'lines',line=list(color= \"#F08080\"))%>%layout(title = \"Estimated Survival functions\",\n",
    "                                                                                                                   xaxis = list(title = \"Time\"),\n",
    "                                                                                                                   yaxis = list (title = \"Survival probability\"))\n",
    "\n"
   ]
  },
  {
   "cell_type": "markdown",
   "metadata": {},
   "source": [
    "![Survival](SURV.png)"
   ]
  },
  {
   "cell_type": "code",
   "execution_count": 40,
   "metadata": {
    "scrolled": false
   },
   "outputs": [],
   "source": [
    "p2 <- plot_ly(data=test, y = pred$chf[30,], name = 'Patient with Grade 1', type = 'scatter', mode = 'lines',line = list(color= \"#008B8B\")) %>%\n",
    "  add_trace(y = pred$chf[37,], name = 'Patient with Grade 3', mode = 'lines',line=list(color= \"#F08080\"))%>%layout(title = \"Estimated Cumulative Hazard functions\",\n",
    "                                                                                     xaxis = list(title = \"Time\"),\n",
    "                                                                                     yaxis = list (title = \"Estimated CHF\"))"
   ]
  },
  {
   "cell_type": "markdown",
   "metadata": {},
   "source": [
    "![CHF](CHF.png)"
   ]
  },
  {
   "cell_type": "markdown",
   "metadata": {},
   "source": [
    "## Plot the variable importance "
   ]
  },
  {
   "cell_type": "code",
   "execution_count": 20,
   "metadata": {
    "scrolled": false
   },
   "outputs": [
    {
     "name": "stderr",
     "output_type": "stream",
     "text": [
      "Warning message in is.na(x):\n",
      "\"is.na() applied to non-(list or vector) of type 'NULL'\"Warning message in gg_vimp.rfsrc(model):\n",
      "\"rfsrc object does not contain VIMP information. Calculating...\""
     ]
    },
    {
     "data": {},
     "metadata": {},
     "output_type": "display_data"
    },
    {
     "data": {
      "image/png": "[encoded data removed]",
      "text/plain": [
       "plot without title"
      ]
     },
     "metadata": {},
     "output_type": "display_data"
    }
   ],
   "source": [
    "imp.rsf <- sort(model$importance, decreasing = T)\n",
    "plot(gg_vimp(model))"
   ]
  },
  {
   "cell_type": "code",
   "execution_count": null,
   "metadata": {
    "scrolled": true
   },
   "outputs": [],
   "source": []
  }
 ],
 "metadata": {
  "kernelspec": {
   "display_name": "R",
   "language": "R",
   "name": "ir"
  },
  "language_info": {
   "codemirror_mode": "r",
   "file_extension": ".r",
   "mimetype": "text/x-r-source",
   "name": "R",
   "pygments_lexer": "r",
   "version": "3.4.3"
  }
 },
 "nbformat": 4,
 "nbformat_minor": 2
}
