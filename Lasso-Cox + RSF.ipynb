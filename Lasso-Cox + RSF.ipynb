{
 "cells": [
  {
   "cell_type": "code",
   "execution_count": 43,
   "metadata": {},
   "outputs": [],
   "source": [
    "library(glmnet)\n",
    "library(survival)\n",
    "library(Hmisc)\n",
    "library(readxl)\n",
    "library(pec)\n",
    "library(randomForestSRC)\n",
    "library(ggRandomForests)\n",
    "library(caret)\n",
    "library(pec)\n"
   ]
  },
  {
   "cell_type": "code",
   "execution_count": 44,
   "metadata": {},
   "outputs": [],
   "source": [
    "# The dataset must have a Status column with values of 0 or 1 that tells if the corresponding patient y is indicative of a \n",
    "# failure time or right censoring time and a Survival Time column (OS).\n",
    "\n",
    "train <- data.frame(read_excel(\"Data_clean.agegr.trn.xlsx\"))\n",
    "xtrn <- as.matrix(train[,5:1031],use.names=FALSE)\n",
    "ytrn <- Surv(train$OS, train$Status.OS)\n",
    "\n",
    "test <- data.frame(read_excel(\"Data_clean.agegr.tst.xlsx\"))\n",
    "xtst<- as.matrix(test[,5:1031], use.names=FALSE)\n",
    "ytst <- Surv(test$OS, test$Status.OS)"
   ]
  },
  {
   "cell_type": "code",
   "execution_count": 45,
   "metadata": {},
   "outputs": [
    {
     "data": {
      "text/html": [
       "<table>\n",
       "<thead><tr><th scope=col>id</th><th scope=col>OS</th><th scope=col>Status.OS</th><th scope=col>Grade</th><th scope=col>Age</th><th scope=col>original_shape_Volume</th><th scope=col>original_shape_SurfaceArea</th><th scope=col>original_shape_SurfaceVolumeRatio</th><th scope=col>original_shape_Sphericity</th><th scope=col>original_shape_SphericalDisproportion</th><th scope=col>...</th><th scope=col>wavelet.LLL_gldm_DependenceNonUniformityNormalized</th><th scope=col>wavelet.LLL_gldm_GrayLevelVariance</th><th scope=col>wavelet.LLL_gldm_DependenceVariance</th><th scope=col>wavelet.LLL_gldm_DependenceEntropy</th><th scope=col>wavelet.LLL_gldm_LowGrayLevelEmphasis</th><th scope=col>wavelet.LLL_gldm_HighGrayLevelEmphasis</th><th scope=col>wavelet.LLL_gldm_SmallDependenceLowGrayLevelEmphasis</th><th scope=col>wavelet.LLL_gldm_SmallDependenceHighGrayLevelEmphasis</th><th scope=col>wavelet.LLL_gldm_LargeDependenceLowGrayLevelEmphasis</th><th scope=col>wavelet.LLL_gldm_LargeDependenceHighGrayLevelEmphasis</th></tr></thead>\n",
       "<tbody>\n",
       "\t<tr><td>178        </td><td>74.277267  </td><td>0          </td><td>1          </td><td>34.3       </td><td> 564678    </td><td> 54584.266 </td><td>0.09666441 </td><td>0.6052720  </td><td>1.652150   </td><td>...        </td><td>0.3677048  </td><td>391.20157  </td><td>0.8905756  </td><td>7.950018   </td><td>0.000778387</td><td>2992.6210  </td><td>0.000435395</td><td>1897.68872 </td><td>0.003600709</td><td>10273.126  </td></tr>\n",
       "\t<tr><td>  6        </td><td>27.660972  </td><td>0          </td><td>2          </td><td>73.0       </td><td>  16227    </td><td>  3718.967 </td><td>0.22918391 </td><td>0.8334648  </td><td>1.199811   </td><td>...        </td><td>0.4096528  </td><td>232.08012  </td><td>0.8068582  </td><td>6.986512   </td><td>0.002899917</td><td>2019.3577  </td><td>0.002575654</td><td>1259.47201 </td><td>0.004933955</td><td> 7404.040  </td></tr>\n",
       "\t<tr><td>110        </td><td>51.938239  </td><td>1          </td><td>2          </td><td>46.4       </td><td> 264384    </td><td> 26020.241 </td><td>0.09841836 </td><td>0.7655900  </td><td>1.306182   </td><td>...        </td><td>0.1362766  </td><td> 44.90592  </td><td>5.8744439  </td><td>7.658338   </td><td>0.003697050</td><td> 522.8409  </td><td>0.001231636</td><td>  84.01699 </td><td>0.053951321</td><td>13837.872  </td></tr>\n",
       "\t<tr><td> 20        </td><td>43.626807  </td><td>0          </td><td>2          </td><td>42.0       </td><td>   5184    </td><td>  2406.855 </td><td>0.46428540 </td><td>0.6018350  </td><td>1.661585   </td><td>...        </td><td>0.6624349  </td><td>951.36285  </td><td>0.2916667  </td><td>6.577030   </td><td>0.006396408</td><td>4677.4479  </td><td>0.006314783</td><td>4005.13990 </td><td>0.006821981</td><td> 8724.646  </td></tr>\n",
       "\t<tr><td> 70        </td><td>17.936925  </td><td>0          </td><td>3          </td><td>65.0       </td><td>  84402    </td><td> 12430.985 </td><td>0.14728306 </td><td>0.7485378  </td><td>1.335938   </td><td>...        </td><td>0.3741327  </td><td>349.30582  </td><td>0.8906871  </td><td>7.722780   </td><td>0.000850831</td><td>3723.4811  </td><td>0.000670083</td><td>2208.20042 </td><td>0.002157562</td><td>15288.572  </td></tr>\n",
       "\t<tr><td> 84        </td><td> 4.830541  </td><td>1          </td><td>3          </td><td>39.1       </td><td>2818071    </td><td>130911.192 </td><td>0.04645419 </td><td>0.7370133  </td><td>1.356828   </td><td>...        </td><td>0.1343520  </td><td>783.74017  </td><td>9.5829222  </td><td>9.571999   </td><td>0.000889411</td><td>3566.6314  </td><td>0.000237094</td><td>1099.20597 </td><td>0.021149612</td><td>58818.595  </td></tr>\n",
       "</tbody>\n",
       "</table>\n"
      ],
      "text/latex": [
       "\\begin{tabular}{r|lllllllllllllllllllllllllllllllllllllllllllllllllllllllllllllllllllllllllllllllllllllllllllllllllllllllllllllllllllllllllllllllllllllllllllllllllllllllllllllllllllllllllllllllllllllllllllllllllllllllllllllllllllllllllllllllllllllllllllllllllllllllllllllllllllllllllllllllllllllllllllllllllllllllllllllllllllllllllllllllllllllllllllllllllllllllllllllllllllllllllllllllllllllllllllllllllllllllllllllllllllllllllllllllllllllllllllllllllllllllllllllllllllllllllllllllllllllllllllllllllllllllllllllllllllllllllllllllllllllllllllllllllllllllllllllllllllllllllllllllllllllllllllllllllllllllllllllllllllllllllllllllllllllllllllllllllllllllllllllllllllllllllllllllllllllllllllllllllllllllllllllllllllllllllllllllllllllllllllllllllllllllllllllllllllllllllllllllllllllllllllllllllllllllllllllllllllllllllllllllllllllllllllllllllllllllllllllllllllllllllllllllllllllllllllllllllllllllllllllllllllllllllllllllllllllllllllllllllllllllllllllllllllllllllllllllllllllllllllllllllllllllllllllllllllllllllllllllllllllllllllllllllllllllllllllllllllllll}\n",
       " id & OS & Status.OS & Grade & Age & original\\_shape\\_Volume & original\\_shape\\_SurfaceArea & original\\_shape\\_SurfaceVolumeRatio & original\\_shape\\_Sphericity & original\\_shape\\_SphericalDisproportion & ... & wavelet.LLL\\_gldm\\_DependenceNonUniformityNormalized & wavelet.LLL\\_gldm\\_GrayLevelVariance & wavelet.LLL\\_gldm\\_DependenceVariance & wavelet.LLL\\_gldm\\_DependenceEntropy & wavelet.LLL\\_gldm\\_LowGrayLevelEmphasis & wavelet.LLL\\_gldm\\_HighGrayLevelEmphasis & wavelet.LLL\\_gldm\\_SmallDependenceLowGrayLevelEmphasis & wavelet.LLL\\_gldm\\_SmallDependenceHighGrayLevelEmphasis & wavelet.LLL\\_gldm\\_LargeDependenceLowGrayLevelEmphasis & wavelet.LLL\\_gldm\\_LargeDependenceHighGrayLevelEmphasis\\\\\n",
       "\\hline\n",
       "\t 178         & 74.277267   & 0           & 1           & 34.3        &  564678     &  54584.266  & 0.09666441  & 0.6052720   & 1.652150    & ...         & 0.3677048   & 391.20157   & 0.8905756   & 7.950018    & 0.000778387 & 2992.6210   & 0.000435395 & 1897.68872  & 0.003600709 & 10273.126  \\\\\n",
       "\t   6         & 27.660972   & 0           & 2           & 73.0        &   16227     &   3718.967  & 0.22918391  & 0.8334648   & 1.199811    & ...         & 0.4096528   & 232.08012   & 0.8068582   & 6.986512    & 0.002899917 & 2019.3577   & 0.002575654 & 1259.47201  & 0.004933955 &  7404.040  \\\\\n",
       "\t 110         & 51.938239   & 1           & 2           & 46.4        &  264384     &  26020.241  & 0.09841836  & 0.7655900   & 1.306182    & ...         & 0.1362766   &  44.90592   & 5.8744439   & 7.658338    & 0.003697050 &  522.8409   & 0.001231636 &   84.01699  & 0.053951321 & 13837.872  \\\\\n",
       "\t  20         & 43.626807   & 0           & 2           & 42.0        &    5184     &   2406.855  & 0.46428540  & 0.6018350   & 1.661585    & ...         & 0.6624349   & 951.36285   & 0.2916667   & 6.577030    & 0.006396408 & 4677.4479   & 0.006314783 & 4005.13990  & 0.006821981 &  8724.646  \\\\\n",
       "\t  70         & 17.936925   & 0           & 3           & 65.0        &   84402     &  12430.985  & 0.14728306  & 0.7485378   & 1.335938    & ...         & 0.3741327   & 349.30582   & 0.8906871   & 7.722780    & 0.000850831 & 3723.4811   & 0.000670083 & 2208.20042  & 0.002157562 & 15288.572  \\\\\n",
       "\t  84         &  4.830541   & 1           & 3           & 39.1        & 2818071     & 130911.192  & 0.04645419  & 0.7370133   & 1.356828    & ...         & 0.1343520   & 783.74017   & 9.5829222   & 9.571999    & 0.000889411 & 3566.6314   & 0.000237094 & 1099.20597  & 0.021149612 & 58818.595  \\\\\n",
       "\\end{tabular}\n"
      ],
      "text/markdown": [
       "\n",
       "id | OS | Status.OS | Grade | Age | original_shape_Volume | original_shape_SurfaceArea | original_shape_SurfaceVolumeRatio | original_shape_Sphericity | original_shape_SphericalDisproportion | ... | wavelet.LLL_gldm_DependenceNonUniformityNormalized | wavelet.LLL_gldm_GrayLevelVariance | wavelet.LLL_gldm_DependenceVariance | wavelet.LLL_gldm_DependenceEntropy | wavelet.LLL_gldm_LowGrayLevelEmphasis | wavelet.LLL_gldm_HighGrayLevelEmphasis | wavelet.LLL_gldm_SmallDependenceLowGrayLevelEmphasis | wavelet.LLL_gldm_SmallDependenceHighGrayLevelEmphasis | wavelet.LLL_gldm_LargeDependenceLowGrayLevelEmphasis | wavelet.LLL_gldm_LargeDependenceHighGrayLevelEmphasis | \n",
       "|---|---|---|---|---|---|\n",
       "| 178         | 74.277267   | 0           | 1           | 34.3        |  564678     |  54584.266  | 0.09666441  | 0.6052720   | 1.652150    | ...         | 0.3677048   | 391.20157   | 0.8905756   | 7.950018    | 0.000778387 | 2992.6210   | 0.000435395 | 1897.68872  | 0.003600709 | 10273.126   | \n",
       "|   6         | 27.660972   | 0           | 2           | 73.0        |   16227     |   3718.967  | 0.22918391  | 0.8334648   | 1.199811    | ...         | 0.4096528   | 232.08012   | 0.8068582   | 6.986512    | 0.002899917 | 2019.3577   | 0.002575654 | 1259.47201  | 0.004933955 |  7404.040   | \n",
       "| 110         | 51.938239   | 1           | 2           | 46.4        |  264384     |  26020.241  | 0.09841836  | 0.7655900   | 1.306182    | ...         | 0.1362766   |  44.90592   | 5.8744439   | 7.658338    | 0.003697050 |  522.8409   | 0.001231636 |   84.01699  | 0.053951321 | 13837.872   | \n",
       "|  20         | 43.626807   | 0           | 2           | 42.0        |    5184     |   2406.855  | 0.46428540  | 0.6018350   | 1.661585    | ...         | 0.6624349   | 951.36285   | 0.2916667   | 6.577030    | 0.006396408 | 4677.4479   | 0.006314783 | 4005.13990  | 0.006821981 |  8724.646   | \n",
       "|  70         | 17.936925   | 0           | 3           | 65.0        |   84402     |  12430.985  | 0.14728306  | 0.7485378   | 1.335938    | ...         | 0.3741327   | 349.30582   | 0.8906871   | 7.722780    | 0.000850831 | 3723.4811   | 0.000670083 | 2208.20042  | 0.002157562 | 15288.572   | \n",
       "|  84         |  4.830541   | 1           | 3           | 39.1        | 2818071     | 130911.192  | 0.04645419  | 0.7370133   | 1.356828    | ...         | 0.1343520   | 783.74017   | 9.5829222   | 9.571999    | 0.000889411 | 3566.6314   | 0.000237094 | 1099.20597  | 0.021149612 | 58818.595   | \n",
       "\n",
       "\n"
      ],
      "text/plain": [
       "  id  OS        Status.OS Grade Age  original_shape_Volume\n",
       "1 178 74.277267 0         1     34.3  564678              \n",
       "2   6 27.660972 0         2     73.0   16227              \n",
       "3 110 51.938239 1         2     46.4  264384              \n",
       "4  20 43.626807 0         2     42.0    5184              \n",
       "5  70 17.936925 0         3     65.0   84402              \n",
       "6  84  4.830541 1         3     39.1 2818071              \n",
       "  original_shape_SurfaceArea original_shape_SurfaceVolumeRatio\n",
       "1  54584.266                 0.09666441                       \n",
       "2   3718.967                 0.22918391                       \n",
       "3  26020.241                 0.09841836                       \n",
       "4   2406.855                 0.46428540                       \n",
       "5  12430.985                 0.14728306                       \n",
       "6 130911.192                 0.04645419                       \n",
       "  original_shape_Sphericity original_shape_SphericalDisproportion ...\n",
       "1 0.6052720                 1.652150                              ...\n",
       "2 0.8334648                 1.199811                              ...\n",
       "3 0.7655900                 1.306182                              ...\n",
       "4 0.6018350                 1.661585                              ...\n",
       "5 0.7485378                 1.335938                              ...\n",
       "6 0.7370133                 1.356828                              ...\n",
       "  wavelet.LLL_gldm_DependenceNonUniformityNormalized\n",
       "1 0.3677048                                         \n",
       "2 0.4096528                                         \n",
       "3 0.1362766                                         \n",
       "4 0.6624349                                         \n",
       "5 0.3741327                                         \n",
       "6 0.1343520                                         \n",
       "  wavelet.LLL_gldm_GrayLevelVariance wavelet.LLL_gldm_DependenceVariance\n",
       "1 391.20157                          0.8905756                          \n",
       "2 232.08012                          0.8068582                          \n",
       "3  44.90592                          5.8744439                          \n",
       "4 951.36285                          0.2916667                          \n",
       "5 349.30582                          0.8906871                          \n",
       "6 783.74017                          9.5829222                          \n",
       "  wavelet.LLL_gldm_DependenceEntropy wavelet.LLL_gldm_LowGrayLevelEmphasis\n",
       "1 7.950018                           0.000778387                          \n",
       "2 6.986512                           0.002899917                          \n",
       "3 7.658338                           0.003697050                          \n",
       "4 6.577030                           0.006396408                          \n",
       "5 7.722780                           0.000850831                          \n",
       "6 9.571999                           0.000889411                          \n",
       "  wavelet.LLL_gldm_HighGrayLevelEmphasis\n",
       "1 2992.6210                             \n",
       "2 2019.3577                             \n",
       "3  522.8409                             \n",
       "4 4677.4479                             \n",
       "5 3723.4811                             \n",
       "6 3566.6314                             \n",
       "  wavelet.LLL_gldm_SmallDependenceLowGrayLevelEmphasis\n",
       "1 0.000435395                                         \n",
       "2 0.002575654                                         \n",
       "3 0.001231636                                         \n",
       "4 0.006314783                                         \n",
       "5 0.000670083                                         \n",
       "6 0.000237094                                         \n",
       "  wavelet.LLL_gldm_SmallDependenceHighGrayLevelEmphasis\n",
       "1 1897.68872                                           \n",
       "2 1259.47201                                           \n",
       "3   84.01699                                           \n",
       "4 4005.13990                                           \n",
       "5 2208.20042                                           \n",
       "6 1099.20597                                           \n",
       "  wavelet.LLL_gldm_LargeDependenceLowGrayLevelEmphasis\n",
       "1 0.003600709                                         \n",
       "2 0.004933955                                         \n",
       "3 0.053951321                                         \n",
       "4 0.006821981                                         \n",
       "5 0.002157562                                         \n",
       "6 0.021149612                                         \n",
       "  wavelet.LLL_gldm_LargeDependenceHighGrayLevelEmphasis\n",
       "1 10273.126                                            \n",
       "2  7404.040                                            \n",
       "3 13837.872                                            \n",
       "4  8724.646                                            \n",
       "5 15288.572                                            \n",
       "6 58818.595                                            "
      ]
     },
     "metadata": {},
     "output_type": "display_data"
    },
    {
     "data": {
      "text/html": [
       "<ol class=list-inline>\n",
       "\t<li>165</li>\n",
       "\t<li>1031</li>\n",
       "</ol>\n"
      ],
      "text/latex": [
       "\\begin{enumerate*}\n",
       "\\item 165\n",
       "\\item 1031\n",
       "\\end{enumerate*}\n"
      ],
      "text/markdown": [
       "1. 165\n",
       "2. 1031\n",
       "\n",
       "\n"
      ],
      "text/plain": [
       "[1]  165 1031"
      ]
     },
     "metadata": {},
     "output_type": "display_data"
    }
   ],
   "source": [
    "head(train)\n",
    "dim(train)"
   ]
  },
  {
   "cell_type": "markdown",
   "metadata": {},
   "source": [
    "## Check that the train/test split is balanced regarding the Grade and Status columns"
   ]
  },
  {
   "cell_type": "code",
   "execution_count": 46,
   "metadata": {},
   "outputs": [
    {
     "data": {
      "image/png": "[encoded data removed]",
      "text/plain": [
       "Plot with title \"Histogram of test$Status.OS\""
      ]
     },
     "metadata": {},
     "output_type": "display_data"
    }
   ],
   "source": [
    "par(mfrow=c(2,2))\n",
    "hist(train$Grade)\n",
    "hist(train$Status.OS)\n",
    "hist(test$Grade)\n",
    "hist(test$Status.OS)"
   ]
  },
  {
   "cell_type": "markdown",
   "metadata": {},
   "source": [
    "## Lasso-Cox regression\n",
    "\n",
    "Since the number of features is much higher compared to the number of observations, a variable selection approach was needed.\n",
    "\n",
    "Call the glmnet function to fit with the lasso penalty (α = 1)"
   ]
  },
  {
   "cell_type": "code",
   "execution_count": 56,
   "metadata": {},
   "outputs": [],
   "source": [
    "cox <- glmnet(xtrn, ytrn, family=\"cox\", alpha=1)"
   ]
  },
  {
   "cell_type": "markdown",
   "metadata": {},
   "source": [
    "## Visualize the coefficients by executing the plot function"
   ]
  },
  {
   "cell_type": "code",
   "execution_count": 57,
   "metadata": {},
   "outputs": [
    {
     "data": {
      "image/png": "[encoded data removed]",
      "text/plain": [
       "plot without title"
      ]
     },
     "metadata": {},
     "output_type": "display_data"
    }
   ],
   "source": [
    "plot(cox)"
   ]
  },
  {
   "cell_type": "markdown",
   "metadata": {},
   "source": [
    "Each curve corresponds to a variable. It shows the path of its coefficient against the ℓ1-norm of the whole coefficient vector at as λ varies. The axis above indicates the number of nonzero coefficients at the current λ, which is the effective degrees of freedom (df) for the lasso.  \n",
    "\n",
    "https://web.stanford.edu/~hastie/glmnet/glmnet_alpha.html"
   ]
  },
  {
   "cell_type": "markdown",
   "metadata": {},
   "source": [
    "The function glmnet returns a sequence of models for the users to choose from. \n",
    "The function cv.glmnet does cross validation."
   ]
  },
  {
   "cell_type": "code",
   "execution_count": 47,
   "metadata": {},
   "outputs": [
    {
     "data": {
      "image/png": "[encoded data removed]",
      "text/plain": [
       "plot without title"
      ]
     },
     "metadata": {},
     "output_type": "display_data"
    }
   ],
   "source": [
    "cv.cox <- cv.glmnet(xtrn, ytrn, family=\"cox\", alpha=1)\n",
    "plot(cv.cox)"
   ]
  },
  {
   "cell_type": "markdown",
   "metadata": {},
   "source": [
    "The left vertical line in the plot shows where the CV-error curve hits its\n",
    "minimum. The right vertical line shows the most regularized model with\n",
    "CV-error within 1 standard deviation of the minimum. "
   ]
  },
  {
   "cell_type": "markdown",
   "metadata": {},
   "source": [
    "## Compute the C-index for Lasso-Cox"
   ]
  },
  {
   "cell_type": "markdown",
   "metadata": {},
   "source": [
    "This metric is needed in order to compare the models between them.\n",
    "\n",
    "lambda.min is the optimal value of the regularization parameter, that gives the minimum negative log of the partial likelihood (that we want to penalize)"
   ]
  },
  {
   "cell_type": "code",
   "execution_count": 59,
   "metadata": {},
   "outputs": [
    {
     "data": {
      "text/html": [
       "<dl class=dl-horizontal>\n",
       "\t<dt>C Index</dt>\n",
       "\t\t<dd>0.698005698005698</dd>\n",
       "\t<dt>Dxy</dt>\n",
       "\t\t<dd>0.396011396011396</dd>\n",
       "\t<dt>S.D.</dt>\n",
       "\t\t<dd>0.164742315477123</dd>\n",
       "\t<dt>n</dt>\n",
       "\t\t<dd>42</dd>\n",
       "\t<dt>missing</dt>\n",
       "\t\t<dd>0</dd>\n",
       "\t<dt>uncensored</dt>\n",
       "\t\t<dd>13</dd>\n",
       "\t<dt>Relevant Pairs</dt>\n",
       "\t\t<dd>702</dd>\n",
       "\t<dt>Concordant</dt>\n",
       "\t\t<dd>490</dd>\n",
       "\t<dt>Uncertain</dt>\n",
       "\t\t<dd>1020</dd>\n",
       "</dl>\n"
      ],
      "text/latex": [
       "\\begin{description*}\n",
       "\\item[C Index] 0.698005698005698\n",
       "\\item[Dxy] 0.396011396011396\n",
       "\\item[S.D.] 0.164742315477123\n",
       "\\item[n] 42\n",
       "\\item[missing] 0\n",
       "\\item[uncensored] 13\n",
       "\\item[Relevant Pairs] 702\n",
       "\\item[Concordant] 490\n",
       "\\item[Uncertain] 1020\n",
       "\\end{description*}\n"
      ],
      "text/markdown": [
       "C Index\n",
       ":   0.698005698005698Dxy\n",
       ":   0.396011396011396S.D.\n",
       ":   0.164742315477123n\n",
       ":   42missing\n",
       ":   0uncensored\n",
       ":   13Relevant Pairs\n",
       ":   702Concordant\n",
       ":   490Uncertain\n",
       ":   1020\n",
       "\n"
      ],
      "text/plain": [
       "       C Index            Dxy           S.D.              n        missing \n",
       "     0.6980057      0.3960114      0.1647423     42.0000000      0.0000000 \n",
       "    uncensored Relevant Pairs     Concordant      Uncertain \n",
       "    13.0000000    702.0000000    490.0000000   1020.0000000 "
      ]
     },
     "metadata": {},
     "output_type": "display_data"
    }
   ],
   "source": [
    "pred.cox<- predict(cox, newx = xtst, type = \"response\", s = cv.cox$lambda.min)\n",
    "cindex<- rcorr.cens(pred.cox*-1, ytst)\n",
    "cindex"
   ]
  },
  {
   "cell_type": "markdown",
   "metadata": {},
   "source": [
    "## Get the variables selected by lasso"
   ]
  },
  {
   "cell_type": "markdown",
   "metadata": {},
   "source": [
    "The Coefficients contain the p length coefficient vector\n",
    "of the solution corresponding to λ =cv.fit$lambda.min"
   ]
  },
  {
   "cell_type": "code",
   "execution_count": 50,
   "metadata": {},
   "outputs": [
    {
     "data": {
      "text/html": [
       "<ol class=list-inline>\n",
       "\t<li>1</li>\n",
       "\t<li>5</li>\n",
       "\t<li>45</li>\n",
       "\t<li>54</li>\n",
       "\t<li>237</li>\n",
       "\t<li>262</li>\n",
       "\t<li>301</li>\n",
       "\t<li>355</li>\n",
       "\t<li>694</li>\n",
       "\t<li>750</li>\n",
       "\t<li>757</li>\n",
       "\t<li>810</li>\n",
       "\t<li>858</li>\n",
       "\t<li>878</li>\n",
       "\t<li>946</li>\n",
       "\t<li>958</li>\n",
       "\t<li>998</li>\n",
       "</ol>\n"
      ],
      "text/latex": [
       "\\begin{enumerate*}\n",
       "\\item 1\n",
       "\\item 5\n",
       "\\item 45\n",
       "\\item 54\n",
       "\\item 237\n",
       "\\item 262\n",
       "\\item 301\n",
       "\\item 355\n",
       "\\item 694\n",
       "\\item 750\n",
       "\\item 757\n",
       "\\item 810\n",
       "\\item 858\n",
       "\\item 878\n",
       "\\item 946\n",
       "\\item 958\n",
       "\\item 998\n",
       "\\end{enumerate*}\n"
      ],
      "text/markdown": [
       "1. 1\n",
       "2. 5\n",
       "3. 45\n",
       "4. 54\n",
       "5. 237\n",
       "6. 262\n",
       "7. 301\n",
       "8. 355\n",
       "9. 694\n",
       "10. 750\n",
       "11. 757\n",
       "12. 810\n",
       "13. 858\n",
       "14. 878\n",
       "15. 946\n",
       "16. 958\n",
       "17. 998\n",
       "\n",
       "\n"
      ],
      "text/plain": [
       " [1]   1   5  45  54 237 262 301 355 694 750 757 810 858 878 946 958 998"
      ]
     },
     "metadata": {},
     "output_type": "display_data"
    },
    {
     "data": {
      "text/html": [
       "<ol class=list-inline>\n",
       "\t<li>'Age'</li>\n",
       "\t<li>'original_shape_Sphericity'</li>\n",
       "\t<li>'original_glcm_JointEnergy'</li>\n",
       "\t<li>'original_glcm_MaximumProbability'</li>\n",
       "\t<li>'log.sigma.5.0.mm.3D_glcm_InverseVariance'</li>\n",
       "\t<li>'log.sigma.5.0.mm.3D_glszm_LargeAreaHighGrayLevelEmphasis'</li>\n",
       "\t<li>'wavelet.HHH_firstorder_Median'</li>\n",
       "\t<li>'wavelet.HHH_glszm_LargeAreaLowGrayLevelEmphasis'</li>\n",
       "\t<li>'wavelet.LHH_glcm_Idmn'</li>\n",
       "\t<li>'wavelet.LHH_gldm_LargeDependenceLowGrayLevelEmphasis'</li>\n",
       "\t<li>'wavelet.LHL_firstorder_Kurtosis'</li>\n",
       "\t<li>'wavelet.LHL_glszm_GrayLevelNonUniformityNormalized'</li>\n",
       "\t<li>'wavelet.LLH_firstorder_Skewness'</li>\n",
       "\t<li>'wavelet.LLH_glcm_Idmn'</li>\n",
       "\t<li>'wavelet.LLL_firstorder_Minimum'</li>\n",
       "\t<li>'wavelet.LLL_glcm_ClusterShade'</li>\n",
       "\t<li>'wavelet.LLL_glszm_LargeAreaHighGrayLevelEmphasis'</li>\n",
       "</ol>\n"
      ],
      "text/latex": [
       "\\begin{enumerate*}\n",
       "\\item 'Age'\n",
       "\\item 'original\\_shape\\_Sphericity'\n",
       "\\item 'original\\_glcm\\_JointEnergy'\n",
       "\\item 'original\\_glcm\\_MaximumProbability'\n",
       "\\item 'log.sigma.5.0.mm.3D\\_glcm\\_InverseVariance'\n",
       "\\item 'log.sigma.5.0.mm.3D\\_glszm\\_LargeAreaHighGrayLevelEmphasis'\n",
       "\\item 'wavelet.HHH\\_firstorder\\_Median'\n",
       "\\item 'wavelet.HHH\\_glszm\\_LargeAreaLowGrayLevelEmphasis'\n",
       "\\item 'wavelet.LHH\\_glcm\\_Idmn'\n",
       "\\item 'wavelet.LHH\\_gldm\\_LargeDependenceLowGrayLevelEmphasis'\n",
       "\\item 'wavelet.LHL\\_firstorder\\_Kurtosis'\n",
       "\\item 'wavelet.LHL\\_glszm\\_GrayLevelNonUniformityNormalized'\n",
       "\\item 'wavelet.LLH\\_firstorder\\_Skewness'\n",
       "\\item 'wavelet.LLH\\_glcm\\_Idmn'\n",
       "\\item 'wavelet.LLL\\_firstorder\\_Minimum'\n",
       "\\item 'wavelet.LLL\\_glcm\\_ClusterShade'\n",
       "\\item 'wavelet.LLL\\_glszm\\_LargeAreaHighGrayLevelEmphasis'\n",
       "\\end{enumerate*}\n"
      ],
      "text/markdown": [
       "1. 'Age'\n",
       "2. 'original_shape_Sphericity'\n",
       "3. 'original_glcm_JointEnergy'\n",
       "4. 'original_glcm_MaximumProbability'\n",
       "5. 'log.sigma.5.0.mm.3D_glcm_InverseVariance'\n",
       "6. 'log.sigma.5.0.mm.3D_glszm_LargeAreaHighGrayLevelEmphasis'\n",
       "7. 'wavelet.HHH_firstorder_Median'\n",
       "8. 'wavelet.HHH_glszm_LargeAreaLowGrayLevelEmphasis'\n",
       "9. 'wavelet.LHH_glcm_Idmn'\n",
       "10. 'wavelet.LHH_gldm_LargeDependenceLowGrayLevelEmphasis'\n",
       "11. 'wavelet.LHL_firstorder_Kurtosis'\n",
       "12. 'wavelet.LHL_glszm_GrayLevelNonUniformityNormalized'\n",
       "13. 'wavelet.LLH_firstorder_Skewness'\n",
       "14. 'wavelet.LLH_glcm_Idmn'\n",
       "15. 'wavelet.LLL_firstorder_Minimum'\n",
       "16. 'wavelet.LLL_glcm_ClusterShade'\n",
       "17. 'wavelet.LLL_glszm_LargeAreaHighGrayLevelEmphasis'\n",
       "\n",
       "\n"
      ],
      "text/plain": [
       " [1] \"Age\"                                                     \n",
       " [2] \"original_shape_Sphericity\"                               \n",
       " [3] \"original_glcm_JointEnergy\"                               \n",
       " [4] \"original_glcm_MaximumProbability\"                        \n",
       " [5] \"log.sigma.5.0.mm.3D_glcm_InverseVariance\"                \n",
       " [6] \"log.sigma.5.0.mm.3D_glszm_LargeAreaHighGrayLevelEmphasis\"\n",
       " [7] \"wavelet.HHH_firstorder_Median\"                           \n",
       " [8] \"wavelet.HHH_glszm_LargeAreaLowGrayLevelEmphasis\"         \n",
       " [9] \"wavelet.LHH_glcm_Idmn\"                                   \n",
       "[10] \"wavelet.LHH_gldm_LargeDependenceLowGrayLevelEmphasis\"    \n",
       "[11] \"wavelet.LHL_firstorder_Kurtosis\"                         \n",
       "[12] \"wavelet.LHL_glszm_GrayLevelNonUniformityNormalized\"      \n",
       "[13] \"wavelet.LLH_firstorder_Skewness\"                         \n",
       "[14] \"wavelet.LLH_glcm_Idmn\"                                   \n",
       "[15] \"wavelet.LLL_firstorder_Minimum\"                          \n",
       "[16] \"wavelet.LLL_glcm_ClusterShade\"                           \n",
       "[17] \"wavelet.LLL_glszm_LargeAreaHighGrayLevelEmphasis\"        "
      ]
     },
     "metadata": {},
     "output_type": "display_data"
    },
    {
     "data": {
      "text/html": [
       "<ol class=list-inline>\n",
       "\t<li>0.0179940448440264</li>\n",
       "\t<li>-1.48603843303594</li>\n",
       "\t<li>-1.2436835633942</li>\n",
       "\t<li>-3.8321523131101</li>\n",
       "\t<li>0.18957478468468</li>\n",
       "\t<li>1.37000135328986e-08</li>\n",
       "\t<li>1.96449645441636e-05</li>\n",
       "\t<li>-2.06116525893843e-06</li>\n",
       "\t<li>26.4885380563593</li>\n",
       "\t<li>-0.00403358878122616</li>\n",
       "\t<li>0.0607069100753458</li>\n",
       "\t<li>10.9813732254314</li>\n",
       "\t<li>0.329203071618405</li>\n",
       "\t<li>2.29350960819982</li>\n",
       "\t<li>-0.000376176437305403</li>\n",
       "\t<li>-1.08697027882468e-06</li>\n",
       "\t<li>-2.88395387518216e-08</li>\n",
       "</ol>\n"
      ],
      "text/latex": [
       "\\begin{enumerate*}\n",
       "\\item 0.0179940448440264\n",
       "\\item -1.48603843303594\n",
       "\\item -1.2436835633942\n",
       "\\item -3.8321523131101\n",
       "\\item 0.18957478468468\n",
       "\\item 1.37000135328986e-08\n",
       "\\item 1.96449645441636e-05\n",
       "\\item -2.06116525893843e-06\n",
       "\\item 26.4885380563593\n",
       "\\item -0.00403358878122616\n",
       "\\item 0.0607069100753458\n",
       "\\item 10.9813732254314\n",
       "\\item 0.329203071618405\n",
       "\\item 2.29350960819982\n",
       "\\item -0.000376176437305403\n",
       "\\item -1.08697027882468e-06\n",
       "\\item -2.88395387518216e-08\n",
       "\\end{enumerate*}\n"
      ],
      "text/markdown": [
       "1. 0.0179940448440264\n",
       "2. -1.48603843303594\n",
       "3. -1.2436835633942\n",
       "4. -3.8321523131101\n",
       "5. 0.18957478468468\n",
       "6. 1.37000135328986e-08\n",
       "7. 1.96449645441636e-05\n",
       "8. -2.06116525893843e-06\n",
       "9. 26.4885380563593\n",
       "10. -0.00403358878122616\n",
       "11. 0.0607069100753458\n",
       "12. 10.9813732254314\n",
       "13. 0.329203071618405\n",
       "14. 2.29350960819982\n",
       "15. -0.000376176437305403\n",
       "16. -1.08697027882468e-06\n",
       "17. -2.88395387518216e-08\n",
       "\n",
       "\n"
      ],
      "text/plain": [
       " [1]  1.799404e-02 -1.486038e+00 -1.243684e+00 -3.832152e+00  1.895748e-01\n",
       " [6]  1.370001e-08  1.964496e-05 -2.061165e-06  2.648854e+01 -4.033589e-03\n",
       "[11]  6.070691e-02  1.098137e+01  3.292031e-01  2.293510e+00 -3.761764e-04\n",
       "[16] -1.086970e-06 -2.883954e-08"
      ]
     },
     "metadata": {},
     "output_type": "display_data"
    }
   ],
   "source": [
    "Coefficients <- coef(cox, s = cv.cox$lambda.min)  \n",
    "Active.Index <- which(Coefficients != 0)\n",
    "Active.Coefficients <- Coefficients[Active.Index]\n",
    "Active.Index\n",
    "names(train[,Active.Index+4])\n",
    "Active.Coefficients"
   ]
  },
  {
   "cell_type": "markdown",
   "metadata": {},
   "source": [
    "## Random Survival Forest"
   ]
  },
  {
   "cell_type": "markdown",
   "metadata": {},
   "source": [
    "Train a Random Survival Forest using the features selected by lasso regression. "
   ]
  },
  {
   "cell_type": "code",
   "execution_count": 51,
   "metadata": {},
   "outputs": [
    {
     "data": {
      "text/html": [
       "<table>\n",
       "<thead><tr><th scope=col>OS</th><th scope=col>Status.OS</th><th scope=col>Age</th><th scope=col>original_shape_Sphericity</th><th scope=col>original_glcm_JointEnergy</th><th scope=col>original_glcm_MaximumProbability</th><th scope=col>log.sigma.5.0.mm.3D_glcm_InverseVariance</th><th scope=col>log.sigma.5.0.mm.3D_glszm_LargeAreaHighGrayLevelEmphasis</th><th scope=col>wavelet.HHH_firstorder_Median</th><th scope=col>wavelet.HHH_glszm_LargeAreaLowGrayLevelEmphasis</th><th scope=col>wavelet.LHH_glcm_Idmn</th><th scope=col>wavelet.LHH_gldm_LargeDependenceLowGrayLevelEmphasis</th><th scope=col>wavelet.LHL_firstorder_Kurtosis</th><th scope=col>wavelet.LHL_glszm_GrayLevelNonUniformityNormalized</th><th scope=col>wavelet.LLH_firstorder_Skewness</th><th scope=col>wavelet.LLH_glcm_Idmn</th><th scope=col>wavelet.LLL_firstorder_Minimum</th><th scope=col>wavelet.LLL_glcm_ClusterShade</th><th scope=col>wavelet.LLL_glszm_LargeAreaHighGrayLevelEmphasis</th></tr></thead>\n",
       "<tbody>\n",
       "\t<tr><td>74.277267   </td><td>0           </td><td>34.3        </td><td>0.6052720   </td><td>0.001231433 </td><td>0.003373373 </td><td>0.3710106   </td><td>1.901379e+06</td><td>-0.67345663 </td><td>1.934410e-02</td><td>0.9836817   </td><td>0.005290536 </td><td> 3.792679   </td><td>0.03736065  </td><td>-0.26829791 </td><td>0.9892017   </td><td>-231.9037003</td><td> 21914.7916 </td><td>   8748.871 </td></tr>\n",
       "\t<tr><td>27.660972   </td><td>0           </td><td>73.0        </td><td>0.8334648   </td><td>0.003275822 </td><td>0.010948116 </td><td>0.3201763   </td><td>9.611514e+03</td><td>-4.36500492 </td><td>6.605412e-03</td><td>0.9734561   </td><td>0.004988352 </td><td> 2.742044   </td><td>0.03263045  </td><td> 0.17513875 </td><td>0.9708753   </td><td> 631.3655239</td><td> -2677.1583 </td><td>   5420.609 </td></tr>\n",
       "\t<tr><td>51.938239   </td><td>1           </td><td>46.4        </td><td>0.7655900   </td><td>0.015616116 </td><td>0.045090330 </td><td>0.4738381   </td><td>2.842597e+06</td><td>-0.12762006 </td><td>4.107161e+01</td><td>0.9865774   </td><td>0.168486999 </td><td> 4.038842   </td><td>0.07528178  </td><td> 0.05182791 </td><td>0.9880321   </td><td>  48.5473323</td><td>  -843.2248 </td><td> 360038.519 </td></tr>\n",
       "\t<tr><td>43.626807   </td><td>0           </td><td>42.0        </td><td>0.6018350   </td><td>0.005569585 </td><td>0.011004112 </td><td>0.2469503   </td><td>1.421429e+03</td><td> 1.85710289 </td><td>7.012803e-02</td><td>0.9452828   </td><td>0.069742930 </td><td> 2.991956   </td><td>0.03078091  </td><td> 0.14864736 </td><td>0.9543135   </td><td> 163.3959885</td><td> 46981.5860 </td><td>   6678.188 </td></tr>\n",
       "\t<tr><td>17.936925   </td><td>0           </td><td>65.0        </td><td>0.7485378   </td><td>0.001082054 </td><td>0.003529482 </td><td>0.3028285   </td><td>4.336340e+04</td><td> 0.16488714 </td><td>7.655405e-03</td><td>0.9822495   </td><td>0.006457463 </td><td> 3.688451   </td><td>0.02941262  </td><td>-0.20606300 </td><td>0.9826010   </td><td> 327.0970630</td><td>  4550.6772 </td><td>  12583.322 </td></tr>\n",
       "\t<tr><td> 4.830541   </td><td>1           </td><td>39.1        </td><td>0.7370133   </td><td>0.008329422 </td><td>0.037642610 </td><td>0.3866664   </td><td>3.603763e+08</td><td>-0.05693487 </td><td>6.774795e+02</td><td>0.9964871   </td><td>0.058189653 </td><td>17.010804   </td><td>0.04622768  </td><td>-0.38772579 </td><td>0.9973044   </td><td>   0.3300632</td><td>221175.0970 </td><td>1725211.517 </td></tr>\n",
       "</tbody>\n",
       "</table>\n"
      ],
      "text/latex": [
       "\\begin{tabular}{r|lllllllllllllllllll}\n",
       " OS & Status.OS & Age & original\\_shape\\_Sphericity & original\\_glcm\\_JointEnergy & original\\_glcm\\_MaximumProbability & log.sigma.5.0.mm.3D\\_glcm\\_InverseVariance & log.sigma.5.0.mm.3D\\_glszm\\_LargeAreaHighGrayLevelEmphasis & wavelet.HHH\\_firstorder\\_Median & wavelet.HHH\\_glszm\\_LargeAreaLowGrayLevelEmphasis & wavelet.LHH\\_glcm\\_Idmn & wavelet.LHH\\_gldm\\_LargeDependenceLowGrayLevelEmphasis & wavelet.LHL\\_firstorder\\_Kurtosis & wavelet.LHL\\_glszm\\_GrayLevelNonUniformityNormalized & wavelet.LLH\\_firstorder\\_Skewness & wavelet.LLH\\_glcm\\_Idmn & wavelet.LLL\\_firstorder\\_Minimum & wavelet.LLL\\_glcm\\_ClusterShade & wavelet.LLL\\_glszm\\_LargeAreaHighGrayLevelEmphasis\\\\\n",
       "\\hline\n",
       "\t 74.277267    & 0            & 34.3         & 0.6052720    & 0.001231433  & 0.003373373  & 0.3710106    & 1.901379e+06 & -0.67345663  & 1.934410e-02 & 0.9836817    & 0.005290536  &  3.792679    & 0.03736065   & -0.26829791  & 0.9892017    & -231.9037003 &  21914.7916  &    8748.871 \\\\\n",
       "\t 27.660972    & 0            & 73.0         & 0.8334648    & 0.003275822  & 0.010948116  & 0.3201763    & 9.611514e+03 & -4.36500492  & 6.605412e-03 & 0.9734561    & 0.004988352  &  2.742044    & 0.03263045   &  0.17513875  & 0.9708753    &  631.3655239 &  -2677.1583  &    5420.609 \\\\\n",
       "\t 51.938239    & 1            & 46.4         & 0.7655900    & 0.015616116  & 0.045090330  & 0.4738381    & 2.842597e+06 & -0.12762006  & 4.107161e+01 & 0.9865774    & 0.168486999  &  4.038842    & 0.07528178   &  0.05182791  & 0.9880321    &   48.5473323 &   -843.2248  &  360038.519 \\\\\n",
       "\t 43.626807    & 0            & 42.0         & 0.6018350    & 0.005569585  & 0.011004112  & 0.2469503    & 1.421429e+03 &  1.85710289  & 7.012803e-02 & 0.9452828    & 0.069742930  &  2.991956    & 0.03078091   &  0.14864736  & 0.9543135    &  163.3959885 &  46981.5860  &    6678.188 \\\\\n",
       "\t 17.936925    & 0            & 65.0         & 0.7485378    & 0.001082054  & 0.003529482  & 0.3028285    & 4.336340e+04 &  0.16488714  & 7.655405e-03 & 0.9822495    & 0.006457463  &  3.688451    & 0.02941262   & -0.20606300  & 0.9826010    &  327.0970630 &   4550.6772  &   12583.322 \\\\\n",
       "\t  4.830541    & 1            & 39.1         & 0.7370133    & 0.008329422  & 0.037642610  & 0.3866664    & 3.603763e+08 & -0.05693487  & 6.774795e+02 & 0.9964871    & 0.058189653  & 17.010804    & 0.04622768   & -0.38772579  & 0.9973044    &    0.3300632 & 221175.0970  & 1725211.517 \\\\\n",
       "\\end{tabular}\n"
      ],
      "text/markdown": [
       "\n",
       "OS | Status.OS | Age | original_shape_Sphericity | original_glcm_JointEnergy | original_glcm_MaximumProbability | log.sigma.5.0.mm.3D_glcm_InverseVariance | log.sigma.5.0.mm.3D_glszm_LargeAreaHighGrayLevelEmphasis | wavelet.HHH_firstorder_Median | wavelet.HHH_glszm_LargeAreaLowGrayLevelEmphasis | wavelet.LHH_glcm_Idmn | wavelet.LHH_gldm_LargeDependenceLowGrayLevelEmphasis | wavelet.LHL_firstorder_Kurtosis | wavelet.LHL_glszm_GrayLevelNonUniformityNormalized | wavelet.LLH_firstorder_Skewness | wavelet.LLH_glcm_Idmn | wavelet.LLL_firstorder_Minimum | wavelet.LLL_glcm_ClusterShade | wavelet.LLL_glszm_LargeAreaHighGrayLevelEmphasis | \n",
       "|---|---|---|---|---|---|\n",
       "| 74.277267    | 0            | 34.3         | 0.6052720    | 0.001231433  | 0.003373373  | 0.3710106    | 1.901379e+06 | -0.67345663  | 1.934410e-02 | 0.9836817    | 0.005290536  |  3.792679    | 0.03736065   | -0.26829791  | 0.9892017    | -231.9037003 |  21914.7916  |    8748.871  | \n",
       "| 27.660972    | 0            | 73.0         | 0.8334648    | 0.003275822  | 0.010948116  | 0.3201763    | 9.611514e+03 | -4.36500492  | 6.605412e-03 | 0.9734561    | 0.004988352  |  2.742044    | 0.03263045   |  0.17513875  | 0.9708753    |  631.3655239 |  -2677.1583  |    5420.609  | \n",
       "| 51.938239    | 1            | 46.4         | 0.7655900    | 0.015616116  | 0.045090330  | 0.4738381    | 2.842597e+06 | -0.12762006  | 4.107161e+01 | 0.9865774    | 0.168486999  |  4.038842    | 0.07528178   |  0.05182791  | 0.9880321    |   48.5473323 |   -843.2248  |  360038.519  | \n",
       "| 43.626807    | 0            | 42.0         | 0.6018350    | 0.005569585  | 0.011004112  | 0.2469503    | 1.421429e+03 |  1.85710289  | 7.012803e-02 | 0.9452828    | 0.069742930  |  2.991956    | 0.03078091   |  0.14864736  | 0.9543135    |  163.3959885 |  46981.5860  |    6678.188  | \n",
       "| 17.936925    | 0            | 65.0         | 0.7485378    | 0.001082054  | 0.003529482  | 0.3028285    | 4.336340e+04 |  0.16488714  | 7.655405e-03 | 0.9822495    | 0.006457463  |  3.688451    | 0.02941262   | -0.20606300  | 0.9826010    |  327.0970630 |   4550.6772  |   12583.322  | \n",
       "|  4.830541    | 1            | 39.1         | 0.7370133    | 0.008329422  | 0.037642610  | 0.3866664    | 3.603763e+08 | -0.05693487  | 6.774795e+02 | 0.9964871    | 0.058189653  | 17.010804    | 0.04622768   | -0.38772579  | 0.9973044    |    0.3300632 | 221175.0970  | 1725211.517  | \n",
       "\n",
       "\n"
      ],
      "text/plain": [
       "  OS        Status.OS Age  original_shape_Sphericity original_glcm_JointEnergy\n",
       "1 74.277267 0         34.3 0.6052720                 0.001231433              \n",
       "2 27.660972 0         73.0 0.8334648                 0.003275822              \n",
       "3 51.938239 1         46.4 0.7655900                 0.015616116              \n",
       "4 43.626807 0         42.0 0.6018350                 0.005569585              \n",
       "5 17.936925 0         65.0 0.7485378                 0.001082054              \n",
       "6  4.830541 1         39.1 0.7370133                 0.008329422              \n",
       "  original_glcm_MaximumProbability log.sigma.5.0.mm.3D_glcm_InverseVariance\n",
       "1 0.003373373                      0.3710106                               \n",
       "2 0.010948116                      0.3201763                               \n",
       "3 0.045090330                      0.4738381                               \n",
       "4 0.011004112                      0.2469503                               \n",
       "5 0.003529482                      0.3028285                               \n",
       "6 0.037642610                      0.3866664                               \n",
       "  log.sigma.5.0.mm.3D_glszm_LargeAreaHighGrayLevelEmphasis\n",
       "1 1.901379e+06                                            \n",
       "2 9.611514e+03                                            \n",
       "3 2.842597e+06                                            \n",
       "4 1.421429e+03                                            \n",
       "5 4.336340e+04                                            \n",
       "6 3.603763e+08                                            \n",
       "  wavelet.HHH_firstorder_Median wavelet.HHH_glszm_LargeAreaLowGrayLevelEmphasis\n",
       "1 -0.67345663                   1.934410e-02                                   \n",
       "2 -4.36500492                   6.605412e-03                                   \n",
       "3 -0.12762006                   4.107161e+01                                   \n",
       "4  1.85710289                   7.012803e-02                                   \n",
       "5  0.16488714                   7.655405e-03                                   \n",
       "6 -0.05693487                   6.774795e+02                                   \n",
       "  wavelet.LHH_glcm_Idmn wavelet.LHH_gldm_LargeDependenceLowGrayLevelEmphasis\n",
       "1 0.9836817             0.005290536                                         \n",
       "2 0.9734561             0.004988352                                         \n",
       "3 0.9865774             0.168486999                                         \n",
       "4 0.9452828             0.069742930                                         \n",
       "5 0.9822495             0.006457463                                         \n",
       "6 0.9964871             0.058189653                                         \n",
       "  wavelet.LHL_firstorder_Kurtosis\n",
       "1  3.792679                      \n",
       "2  2.742044                      \n",
       "3  4.038842                      \n",
       "4  2.991956                      \n",
       "5  3.688451                      \n",
       "6 17.010804                      \n",
       "  wavelet.LHL_glszm_GrayLevelNonUniformityNormalized\n",
       "1 0.03736065                                        \n",
       "2 0.03263045                                        \n",
       "3 0.07528178                                        \n",
       "4 0.03078091                                        \n",
       "5 0.02941262                                        \n",
       "6 0.04622768                                        \n",
       "  wavelet.LLH_firstorder_Skewness wavelet.LLH_glcm_Idmn\n",
       "1 -0.26829791                     0.9892017            \n",
       "2  0.17513875                     0.9708753            \n",
       "3  0.05182791                     0.9880321            \n",
       "4  0.14864736                     0.9543135            \n",
       "5 -0.20606300                     0.9826010            \n",
       "6 -0.38772579                     0.9973044            \n",
       "  wavelet.LLL_firstorder_Minimum wavelet.LLL_glcm_ClusterShade\n",
       "1 -231.9037003                    21914.7916                  \n",
       "2  631.3655239                    -2677.1583                  \n",
       "3   48.5473323                     -843.2248                  \n",
       "4  163.3959885                    46981.5860                  \n",
       "5  327.0970630                     4550.6772                  \n",
       "6    0.3300632                   221175.0970                  \n",
       "  wavelet.LLL_glszm_LargeAreaHighGrayLevelEmphasis\n",
       "1    8748.871                                     \n",
       "2    5420.609                                     \n",
       "3  360038.519                                     \n",
       "4    6678.188                                     \n",
       "5   12583.322                                     \n",
       "6 1725211.517                                     "
      ]
     },
     "metadata": {},
     "output_type": "display_data"
    }
   ],
   "source": [
    "df<-train[,Active.Index+4]\n",
    "y<-train[,2:3]\n",
    "dff<-cbind(y,df)\n",
    "\n",
    "head(dff)"
   ]
  },
  {
   "cell_type": "code",
   "execution_count": 52,
   "metadata": {},
   "outputs": [
    {
     "name": "stdout",
     "output_type": "stream",
     "text": [
      "                         Sample size: 165\n",
      "                    Number of deaths: 53\n",
      "                     Number of trees: 120\n",
      "           Forest terminal node size: 3\n",
      "       Average no. of terminal nodes: 47.14167\n",
      "No. of variables tried at each split: 5\n",
      "              Total no. of variables: 17\n",
      "                            Analysis: RSF\n",
      "                              Family: surv\n",
      "                      Splitting rule: random\n",
      "                          Error rate: 31.65%\n",
      "\n"
     ]
    }
   ],
   "source": [
    "model <- rfsrc(Surv(OS,Status.OS) ~ ., dff,\n",
    "                    nsplit = 10, na.action = \"na.omit\",\n",
    "                    importance = FALSE,ntree = 120, nodesize = 3, block.size = 2,\n",
    "                    splitrule=\"random\")\n",
    "print(model)\n"
   ]
  },
  {
   "cell_type": "markdown",
   "metadata": {},
   "source": [
    "## Get predictions on test set\n",
    "\n",
    "The c-index is computed as 1-test set error rate"
   ]
  },
  {
   "cell_type": "code",
   "execution_count": 53,
   "metadata": {},
   "outputs": [
    {
     "name": "stdout",
     "output_type": "stream",
     "text": [
      "  Sample size of test (predict) data: 42\n",
      "       Number of deaths in test data: 13\n",
      "                Number of grow trees: 120\n",
      "  Average no. of grow terminal nodes: 47.14167\n",
      "         Total no. of grow variables: 17\n",
      "                            Analysis: RSF\n",
      "                              Family: surv\n",
      "                 Test set error rate: 37.89%\n",
      "\n"
     ]
    }
   ],
   "source": [
    "\n",
    "pred<- predict(model, newdata = test,\n",
    "                     na.action = \"na.omit\",importance=TRUE)\n",
    "\n",
    "print(pred)"
   ]
  },
  {
   "cell_type": "markdown",
   "metadata": {},
   "source": [
    "## Plot the variable importance "
   ]
  },
  {
   "cell_type": "code",
   "execution_count": 54,
   "metadata": {},
   "outputs": [
    {
     "name": "stderr",
     "output_type": "stream",
     "text": [
      "Warning message in is.na(x):\n",
      "\"is.na() applied to non-(list or vector) of type 'NULL'\"Warning message in gg_vimp.rfsrc(model):\n",
      "\"rfsrc object does not contain VIMP information. Calculating...\""
     ]
    },
    {
     "data": {},
     "metadata": {},
     "output_type": "display_data"
    },
    {
     "data": {
      "image/png": "[encoded data removed]",
      "text/plain": [
       "plot without title"
      ]
     },
     "metadata": {},
     "output_type": "display_data"
    }
   ],
   "source": [
    "imp.rsf <- sort(model$importance, decreasing = T)\n",
    "plot(gg_vimp(model))"
   ]
  },
  {
   "cell_type": "code",
   "execution_count": null,
   "metadata": {},
   "outputs": [],
   "source": []
  }
 ],
 "metadata": {
  "kernelspec": {
   "display_name": "R",
   "language": "R",
   "name": "ir"
  },
  "language_info": {
   "codemirror_mode": "r",
   "file_extension": ".r",
   "mimetype": "text/x-r-source",
   "name": "R",
   "pygments_lexer": "r",
   "version": "3.4.3"
  }
 },
 "nbformat": 4,
 "nbformat_minor": 2
}
