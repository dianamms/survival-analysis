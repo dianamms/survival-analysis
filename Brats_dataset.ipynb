{
  "nbformat": 4,
  "nbformat_minor": 0,
  "metadata": {
    "colab": {
      "name": "Brats.ipynb",
      "provenance": [],
      "collapsed_sections": []
    },
    "kernelspec": {
      "name": "python3",
      "display_name": "Python 3"
    },
    "accelerator": "GPU"
  },
  "cells": [
    {
      "cell_type": "code",
      "metadata": {
        "id": "IK6HQ7Pu4WC5",
        "colab_type": "code",
        "outputId": "49903813-e26f-4c9c-9a57-931e5c0e4298",
        "colab": {
          "base_uri": "https://localhost:8080/",
          "height": 72
        }
      },
      "source": [
        "from __future__ import absolute_import, division, print_function\n",
        "\n",
        "!pip install -q tensorflow==2.0.0-alpha0\n",
        "!pip install pynrrd\n",
        "\n",
        "import tensorflow as tf\n",
        "import numpy as np\n",
        "import pandas as pd\n",
        "import os\n",
        "import random\n",
        "import math\n",
        "import pickle\n",
        "import nibabel as nib\n",
        "\n",
        "from tensorflow import keras\n",
        "from tensorflow.keras import datasets, layers, models\n",
        "\n",
        "from skimage.transform import resize\n",
        "from numpy.random import choice\n",
        "\n",
        "import nrrd\n",
        "import time"
      ],
      "execution_count": 0,
      "outputs": [
        {
          "output_type": "stream",
          "text": [
            "Requirement already satisfied: pynrrd in /usr/local/lib/python3.6/dist-packages (0.4.0)\n",
            "Requirement already satisfied: numpy>=1.11.1 in /usr/local/lib/python3.6/dist-packages (from pynrrd) (1.16.4)\n"
          ],
          "name": "stdout"
        }
      ]
    },
    {
      "cell_type": "code",
      "metadata": {
        "id": "Jt6mOvDH-3aG",
        "colab_type": "code",
        "outputId": "4971321b-3767-499c-b8a0-1b6752fe5fb3",
        "colab": {
          "base_uri": "https://localhost:8080/",
          "height": 34
        }
      },
      "source": [
        "from google.colab import drive\n",
        "drive.mount('/content/gdrive', force_remount = True)"
      ],
      "execution_count": 0,
      "outputs": [
        {
          "output_type": "stream",
          "text": [
            "Mounted at /content/gdrive\n"
          ],
          "name": "stdout"
        }
      ]
    },
    {
      "cell_type": "code",
      "metadata": {
        "id": "uugsrX4MxQ9A",
        "colab_type": "code",
        "colab": {}
      },
      "source": [
        "# Source : https://stackoverflow.com/questions/9770668/scramble-python-list\n",
        "\n",
        "def scrambled(orig):\n",
        "    dest = orig[:]\n",
        "    random.seed(567)\n",
        "    random.shuffle(dest)\n",
        "    return dest"
      ],
      "execution_count": 0,
      "outputs": []
    },
    {
      "cell_type": "code",
      "metadata": {
        "id": "2AFhkqlf_0bI",
        "colab_type": "code",
        "colab": {}
      },
      "source": [
        "path = 'practicum/brats/HGG/'\n",
        "surv_csv = pd.read_csv(\"practicum/brats/survival_data.csv\")\n",
        "copy = surv_csv['BraTS18ID'].copy()\n",
        "filenames = scrambled(copy)\n",
        "#filenames = scrambled(surv_csv['BraTS18ID'])\n",
        "#filenames = os.listdir(path)\n"
      ],
      "execution_count": 0,
      "outputs": []
    },
    {
      "cell_type": "code",
      "metadata": {
        "id": "KJfVDadYJ26_",
        "colab_type": "code",
        "outputId": "a84cbc0f-6a7c-4c38-8bb3-6fd9d32b2465",
        "colab": {
          "base_uri": "https://localhost:8080/",
          "height": 76
        }
      },
      "source": [
        "surv_csv.loc[surv_csv['BraTS18ID'] == 'Brats18_TCIA03_338_1']"
      ],
      "execution_count": 0,
      "outputs": [
        {
          "output_type": "execute_result",
          "data": {
            "text/html": [
              "<div>\n",
              "<style scoped>\n",
              "    .dataframe tbody tr th:only-of-type {\n",
              "        vertical-align: middle;\n",
              "    }\n",
              "\n",
              "    .dataframe tbody tr th {\n",
              "        vertical-align: top;\n",
              "    }\n",
              "\n",
              "    .dataframe thead th {\n",
              "        text-align: right;\n",
              "    }\n",
              "</style>\n",
              "<table border=\"1\" class=\"dataframe\">\n",
              "  <thead>\n",
              "    <tr style=\"text-align: right;\">\n",
              "      <th></th>\n",
              "      <th>BraTS18ID</th>\n",
              "      <th>Age</th>\n",
              "      <th>Survival</th>\n",
              "      <th>ResectionStatus</th>\n",
              "    </tr>\n",
              "  </thead>\n",
              "  <tbody>\n",
              "    <tr>\n",
              "      <th>31</th>\n",
              "      <td>Brats18_TCIA03_338_1</td>\n",
              "      <td>76.425</td>\n",
              "      <td>468</td>\n",
              "      <td>NaN</td>\n",
              "    </tr>\n",
              "  </tbody>\n",
              "</table>\n",
              "</div>"
            ],
            "text/plain": [
              "               BraTS18ID     Age  Survival ResectionStatus\n",
              "31  Brats18_TCIA03_338_1  76.425       468             NaN"
            ]
          },
          "metadata": {
            "tags": []
          },
          "execution_count": 5
        }
      ]
    },
    {
      "cell_type": "code",
      "metadata": {
        "id": "GVqMhseSF535",
        "colab_type": "code",
        "outputId": "20ed2df3-fcd9-4bf6-d8f9-45a4a91181d9",
        "colab": {
          "base_uri": "https://localhost:8080/",
          "height": 70
        }
      },
      "source": [
        "for i in range(3):\n",
        "  print(filenames[i])"
      ],
      "execution_count": 0,
      "outputs": [
        {
          "output_type": "stream",
          "text": [
            "Brats18_TCIA01_425_1\n",
            "Brats18_CBICA_AOP_1\n",
            "Brats18_TCIA06_372_1\n"
          ],
          "name": "stdout"
        }
      ]
    },
    {
      "cell_type": "code",
      "metadata": {
        "id": "AicL4yKtBRGb",
        "colab_type": "code",
        "outputId": "a677fe46-1859-466e-bfcc-09595cb984c2",
        "colab": {
          "base_uri": "https://localhost:8080/",
          "height": 1000
        }
      },
      "source": [
        "data = []\n",
        "\n",
        "for index,i in enumerate(filenames):\n",
        "#  print(i)\n",
        "  temp = path + i + \"/\" + i + \"_t1.nii.gz\"\n",
        "  scan = nib.load(temp)\n",
        "  os = surv_csv.loc[surv_csv['BraTS18ID'] == i]['Survival'].values[0]\n",
        "  print(\"Temp is \" + str(i) + \" and os is \" + str(os))\n",
        "  print(surv_csv.loc[surv_csv['BraTS18ID'] == i])\n",
        "  data.append([np.array(scan.dataobj),os])"
      ],
      "execution_count": 0,
      "outputs": [
        {
          "output_type": "stream",
          "text": [
            "Temp is Brats18_TCIA01_425_1 and os is 558\n",
            "               BraTS18ID     Age  Survival ResectionStatus\n",
            "75  Brats18_TCIA01_425_1  56.208       558             NaN\n",
            "Temp is Brats18_CBICA_AOP_1 and os is 332\n",
            "               BraTS18ID     Age  Survival ResectionStatus\n",
            "140  Brats18_CBICA_AOP_1  67.833       332             GTR\n",
            "Temp is Brats18_TCIA06_372_1 and os is 213\n",
            "               BraTS18ID     Age  Survival ResectionStatus\n",
            "10  Brats18_TCIA06_372_1  74.521       213             NaN\n",
            "Temp is Brats18_TCIA02_274_1 and os is 357\n",
            "               BraTS18ID     Age  Survival ResectionStatus\n",
            "35  Brats18_TCIA02_274_1  54.967       357             NaN\n",
            "Temp is Brats18_TCIA01_235_1 and os is 804\n",
            "               BraTS18ID     Age  Survival ResectionStatus\n",
            "63  Brats18_TCIA01_235_1  57.973       804             NaN\n",
            "Temp is Brats18_CBICA_AAB_1 and os is 289\n",
            "               BraTS18ID     Age  Survival ResectionStatus\n",
            "162  Brats18_CBICA_AAB_1  60.463       289             GTR\n",
            "Temp is Brats18_CBICA_AWH_1 and os is 139\n",
            "              BraTS18ID     Age  Survival ResectionStatus\n",
            "94  Brats18_CBICA_AWH_1  52.764       139             GTR\n",
            "Temp is Brats18_CBICA_AQU_1 and os is 30\n",
            "               BraTS18ID     Age  Survival ResectionStatus\n",
            "125  Brats18_CBICA_AQU_1  72.879        30             STR\n",
            "Temp is Brats18_CBICA_AYA_1 and os is 50\n",
            "              BraTS18ID     Age  Survival ResectionStatus\n",
            "85  Brats18_CBICA_AYA_1  74.836        50             GTR\n",
            "Temp is Brats18_TCIA02_331_1 and os is 187\n",
            "               BraTS18ID     Age  Survival ResectionStatus\n",
            "55  Brats18_TCIA02_331_1  84.844       187             NaN\n",
            "Temp is Brats18_TCIA01_378_1 and os is 110\n",
            "               BraTS18ID     Age  Survival ResectionStatus\n",
            "69  Brats18_TCIA01_378_1  74.145       110             NaN\n",
            "Temp is Brats18_CBICA_ATP_1 and os is 385\n",
            "               BraTS18ID     Age  Survival ResectionStatus\n",
            "104  Brats18_CBICA_ATP_1  51.589       385             GTR\n",
            "Temp is Brats18_CBICA_ATF_1 and os is 152\n",
            "               BraTS18ID     Age  Survival ResectionStatus\n",
            "105  Brats18_CBICA_ATF_1  68.726       152             GTR\n",
            "Temp is Brats18_TCIA01_147_1 and os is 209\n",
            "               BraTS18ID     Age  Survival ResectionStatus\n",
            "68  Brats18_TCIA01_147_1  61.416       209             NaN\n",
            "Temp is Brats18_CBICA_ABE_1 and os is 269\n",
            "               BraTS18ID     Age  Survival ResectionStatus\n",
            "157  Brats18_CBICA_ABE_1  67.126       269             GTR\n",
            "Temp is Brats18_CBICA_ANG_1 and os is 368\n",
            "               BraTS18ID     Age  Survival ResectionStatus\n",
            "147  Brats18_CBICA_ANG_1  55.759       368             GTR\n",
            "Temp is Brats18_TCIA01_231_1 and os is 1561\n",
            "               BraTS18ID     Age  Survival ResectionStatus\n",
            "61  Brats18_TCIA01_231_1  63.805      1561             NaN\n",
            "Temp is Brats18_TCIA04_361_1 and os is 476\n",
            "               BraTS18ID     Age  Survival ResectionStatus\n",
            "17  Brats18_TCIA04_361_1  75.973       476             NaN\n",
            "Temp is Brats18_CBICA_ASA_1 and os is 210\n",
            "               BraTS18ID     Age  Survival ResectionStatus\n",
            "118  Brats18_CBICA_ASA_1  63.764       210             STR\n",
            "Temp is Brats18_TCIA08_218_1 and os is 346\n",
            "              BraTS18ID     Age  Survival ResectionStatus\n",
            "4  Brats18_TCIA08_218_1  57.345       346             NaN\n",
            "Temp is Brats18_TCIA01_460_1 and os is 630\n",
            "               BraTS18ID     Age  Survival ResectionStatus\n",
            "73  Brats18_TCIA01_460_1  18.975       630             NaN\n",
            "Temp is Brats18_CBICA_AOD_1 and os is 55\n",
            "               BraTS18ID     Age  Survival ResectionStatus\n",
            "143  Brats18_CBICA_AOD_1  60.581        55             NaN\n",
            "Temp is Brats18_CBICA_AQT_1 and os is 172\n",
            "               BraTS18ID     Age  Survival ResectionStatus\n",
            "126  Brats18_CBICA_AQT_1  75.978       172             GTR\n",
            "Temp is Brats18_TCIA04_479_1 and os is 372\n",
            "               BraTS18ID   Age  Survival ResectionStatus\n",
            "19  Brats18_TCIA04_479_1  56.4       372             NaN\n",
            "Temp is Brats18_TCIA03_419_1 and os is 327\n",
            "               BraTS18ID     Age  Survival ResectionStatus\n",
            "24  Brats18_TCIA03_419_1  70.592       327             NaN\n",
            "Temp is Brats18_CBICA_ATB_1 and os is 208\n",
            "               BraTS18ID     Age  Survival ResectionStatus\n",
            "107  Brats18_CBICA_ATB_1  71.126       208             GTR\n",
            "Temp is Brats18_CBICA_AQG_1 and os is 466\n",
            "               BraTS18ID     Age  Survival ResectionStatus\n",
            "133  Brats18_CBICA_AQG_1  53.605       466             STR\n",
            "Temp is Brats18_TCIA08_406_1 and os is 82\n",
            "              BraTS18ID     Age  Survival ResectionStatus\n",
            "5  Brats18_TCIA08_406_1  78.745        82             NaN\n",
            "Temp is Brats18_TCIA01_499_1 and os is 600\n",
            "               BraTS18ID     Age  Survival ResectionStatus\n",
            "64  Brats18_TCIA01_499_1  50.082       600             NaN\n",
            "Temp is Brats18_CBICA_AQP_1 and os is 1283\n",
            "               BraTS18ID     Age  Survival ResectionStatus\n",
            "129  Brats18_CBICA_AQP_1  46.452      1283             GTR\n",
            "Temp is Brats18_CBICA_AAL_1 and os is 464\n",
            "               BraTS18ID     Age  Survival ResectionStatus\n",
            "160  Brats18_CBICA_AAL_1  54.301       464             GTR\n",
            "Temp is Brats18_TCIA01_411_1 and os is 822\n",
            "               BraTS18ID     Age  Survival ResectionStatus\n",
            "59  Brats18_TCIA01_411_1  42.904       822             NaN\n",
            "Temp is Brats18_TCIA02_151_1 and os is 1731\n",
            "               BraTS18ID     Age  Survival ResectionStatus\n",
            "44  Brats18_TCIA02_151_1  47.973      1731             NaN\n",
            "Temp is Brats18_TCIA06_165_1 and os is 5\n",
            "               BraTS18ID     Age  Survival ResectionStatus\n",
            "11  Brats18_TCIA06_165_1  51.756         5             NaN\n",
            "Temp is Brats18_TCIA01_150_1 and os is 1489\n",
            "               BraTS18ID     Age  Survival ResectionStatus\n",
            "57  Brats18_TCIA01_150_1  51.115      1489             NaN\n",
            "Temp is Brats18_CBICA_ATV_1 and os is 453\n",
            "               BraTS18ID     Age  Survival ResectionStatus\n",
            "103  Brats18_CBICA_ATV_1  62.159       453             GTR\n",
            "Temp is Brats18_CBICA_ASE_1 and os is 318\n",
            "               BraTS18ID     Age  Survival ResectionStatus\n",
            "117  Brats18_CBICA_ASE_1  46.814       318             STR\n",
            "Temp is Brats18_CBICA_ABO_1 and os is 1155\n",
            "               BraTS18ID     Age  Survival ResectionStatus\n",
            "154  Brats18_CBICA_ABO_1  56.419      1155             GTR\n",
            "Temp is Brats18_TCIA03_338_1 and os is 468\n",
            "               BraTS18ID     Age  Survival ResectionStatus\n",
            "31  Brats18_TCIA03_338_1  76.425       468             NaN\n",
            "Temp is Brats18_TCIA04_149_1 and os is 448\n",
            "               BraTS18ID     Age  Survival ResectionStatus\n",
            "22  Brats18_TCIA04_149_1  36.852       448             NaN\n",
            "Temp is Brats18_CBICA_AQN_1 and os is 488\n",
            "               BraTS18ID     Age  Survival ResectionStatus\n",
            "131  Brats18_CBICA_AQN_1  63.192       488             STR\n",
            "Temp is Brats18_TCIA02_179_1 and os is 405\n",
            "               BraTS18ID     Age  Survival ResectionStatus\n",
            "38  Brats18_TCIA02_179_1  46.677       405             NaN\n",
            "Temp is Brats18_TCIA02_321_1 and os is 67\n",
            "               BraTS18ID     Age  Survival ResectionStatus\n",
            "50  Brats18_TCIA02_321_1  81.211        67             NaN\n",
            "Temp is Brats18_2013_11_1 and os is 150\n",
            "            BraTS18ID    Age  Survival ResectionStatus\n",
            "76  Brats18_2013_11_1  29.12       150             GTR\n",
            "Temp is Brats18_CBICA_AUR_1 and os is 12\n",
            "              BraTS18ID     Age  Survival ResectionStatus\n",
            "99  Brats18_CBICA_AUR_1  70.252        12             GTR\n",
            "Temp is Brats18_TCIA02_368_1 and os is 317\n",
            "               BraTS18ID     Age  Survival ResectionStatus\n",
            "39  Brats18_TCIA02_368_1  62.562       317             NaN\n",
            "Temp is Brats18_CBICA_APR_1 and os is 23\n",
            "               BraTS18ID     Age  Survival ResectionStatus\n",
            "138  Brats18_CBICA_APR_1  62.704        23             STR\n",
            "Temp is Brats18_CBICA_ASK_1 and os is 522\n",
            "               BraTS18ID     Age  Survival ResectionStatus\n",
            "114  Brats18_CBICA_ASK_1  77.337       522             GTR\n",
            "Temp is Brats18_CBICA_ALN_1 and os is 421\n",
            "               BraTS18ID     Age  Survival ResectionStatus\n",
            "152  Brats18_CBICA_ALN_1  60.942       421             STR\n",
            "Temp is Brats18_TCIA02_300_1 and os is 127\n",
            "               BraTS18ID     Age  Survival ResectionStatus\n",
            "43  Brats18_TCIA02_300_1  64.378       127             NaN\n",
            "Temp is Brats18_CBICA_ASV_1 and os is 597\n",
            "               BraTS18ID     Age  Survival ResectionStatus\n",
            "110  Brats18_CBICA_ASV_1  54.751       597             GTR\n",
            "Temp is Brats18_CBICA_AXJ_1 and os is 1767\n",
            "              BraTS18ID     Age  Survival ResectionStatus\n",
            "92  Brats18_CBICA_AXJ_1  27.811      1767             GTR\n",
            "Temp is Brats18_CBICA_ARW_1 and os is 495\n",
            "               BraTS18ID     Age  Survival ResectionStatus\n",
            "120  Brats18_CBICA_ARW_1  44.416       495             STR\n",
            "Temp is Brats18_TCIA04_437_1 and os is 333\n",
            "               BraTS18ID     Age  Survival ResectionStatus\n",
            "16  Brats18_TCIA04_437_1  46.953       333             NaN\n",
            "Temp is Brats18_CBICA_BHM_1 and os is 436\n",
            "              BraTS18ID    Age  Survival ResectionStatus\n",
            "78  Brats18_CBICA_BHM_1  62.03       436             STR\n",
            "Temp is Brats18_CBICA_ABN_1 and os is 1278\n",
            "               BraTS18ID     Age  Survival ResectionStatus\n",
            "155  Brats18_CBICA_ABN_1  68.285      1278             STR\n",
            "Temp is Brats18_CBICA_AXN_1 and os is 345\n",
            "              BraTS18ID     Age  Survival ResectionStatus\n",
            "89  Brats18_CBICA_AXN_1  85.762       345             GTR\n",
            "Temp is Brats18_CBICA_AYI_1 and os is 387\n",
            "              BraTS18ID     Age  Survival ResectionStatus\n",
            "84  Brats18_CBICA_AYI_1  65.921       387             GTR\n",
            "Temp is Brats18_TCIA01_390_1 and os is 634\n",
            "               BraTS18ID     Age  Survival ResectionStatus\n",
            "62  Brats18_TCIA01_390_1  63.575       634             NaN\n",
            "Temp is Brats18_TCIA04_192_1 and os is 121\n",
            "               BraTS18ID     Age  Survival ResectionStatus\n",
            "18  Brats18_TCIA04_192_1  75.962       121             NaN\n",
            "Temp is Brats18_CBICA_AQD_1 and os is 32\n",
            "               BraTS18ID     Age  Survival ResectionStatus\n",
            "134  Brats18_CBICA_AQD_1  73.036        32             STR\n",
            "Temp is Brats18_CBICA_AQA_1 and os is 106\n",
            "               BraTS18ID     Age  Survival ResectionStatus\n",
            "135  Brats18_CBICA_AQA_1  76.367       106             GTR\n",
            "Temp is Brats18_CBICA_AAP_1 and os is 788\n",
            "               BraTS18ID     Age  Survival ResectionStatus\n",
            "159  Brats18_CBICA_AAP_1  39.068       788             GTR\n",
            "Temp is Brats18_TCIA03_498_1 and os is 467\n",
            "               BraTS18ID     Age  Survival ResectionStatus\n",
            "29  Brats18_TCIA03_498_1  59.282       467             NaN\n",
            "Temp is Brats18_CBICA_AOZ_1 and os is 331\n",
            "               BraTS18ID     Age  Survival ResectionStatus\n",
            "139  Brats18_CBICA_AOZ_1  46.666       331             GTR\n",
            "Temp is Brats18_TCIA06_409_1 and os is 99\n",
            "               BraTS18ID     Age  Survival ResectionStatus\n",
            "12  Brats18_TCIA06_409_1  69.266        99             NaN\n",
            "Temp is Brats18_CBICA_AXW_1 and os is 191\n",
            "              BraTS18ID     Age  Survival ResectionStatus\n",
            "86  Brats18_CBICA_AXW_1  79.211       191             GTR\n",
            "Temp is Brats18_TCIA02_394_1 and os is 616\n",
            "               BraTS18ID     Age  Survival ResectionStatus\n",
            "42  Brats18_TCIA02_394_1  64.247       616             NaN\n",
            "Temp is Brats18_TCIA01_429_1 and os is 86\n",
            "               BraTS18ID     Age  Survival ResectionStatus\n",
            "71  Brats18_TCIA01_429_1  54.986        86             NaN\n",
            "Temp is Brats18_2013_27_1 and os is 120\n",
            "            BraTS18ID    Age  Survival ResectionStatus\n",
            "77  Brats18_2013_27_1  68.02       120             GTR\n",
            "Temp is Brats18_CBICA_AOH_1 and os is 576\n",
            "               BraTS18ID     Age  Survival ResectionStatus\n",
            "142  Brats18_CBICA_AOH_1  56.921       576             GTR\n",
            "Temp is Brats18_CBICA_AQR_1 and os is 89\n",
            "               BraTS18ID    Age  Survival ResectionStatus\n",
            "127  Brats18_CBICA_AQR_1  71.37        89             GTR\n",
            "Temp is Brats18_TCIA01_401_1 and os is 448\n",
            "               BraTS18ID     Age  Survival ResectionStatus\n",
            "67  Brats18_TCIA01_401_1  78.792       448             NaN\n",
            "Temp is Brats18_TCIA02_455_1 and os is 424\n",
            "               BraTS18ID     Age  Survival ResectionStatus\n",
            "47  Brats18_TCIA02_455_1  54.844       424             NaN\n",
            "Temp is Brats18_TCIA03_121_1 and os is 747\n",
            "               BraTS18ID     Age  Survival ResectionStatus\n",
            "34  Brats18_TCIA03_121_1  30.408       747             NaN\n",
            "Temp is Brats18_CBICA_ALU_1 and os is 495\n",
            "               BraTS18ID     Age  Survival ResectionStatus\n",
            "151  Brats18_CBICA_ALU_1  65.899       495             GTR\n",
            "Temp is Brats18_TCIA02_290_1 and os is 737\n",
            "               BraTS18ID     Age  Survival ResectionStatus\n",
            "52  Brats18_TCIA02_290_1  43.112       737             NaN\n",
            "Temp is Brats18_TCIA01_448_1 and os is 199\n",
            "               BraTS18ID     Age  Survival ResectionStatus\n",
            "66  Brats18_TCIA01_448_1  44.449       199             NaN\n",
            "Temp is Brats18_TCIA08_319_1 and os is 254\n",
            "              BraTS18ID    Age  Survival ResectionStatus\n",
            "2  Brats18_TCIA08_319_1  64.86       254             NaN\n",
            "Temp is Brats18_TCIA03_257_1 and os is 425\n",
            "               BraTS18ID     Age  Survival ResectionStatus\n",
            "28  Brats18_TCIA03_257_1  69.326       425             NaN\n",
            "Temp is Brats18_TCIA01_412_1 and os is 291\n",
            "               BraTS18ID     Age  Survival ResectionStatus\n",
            "65  Brats18_TCIA01_412_1  68.759       291             NaN\n",
            "Temp is Brats18_CBICA_AXQ_1 and os is 114\n",
            "              BraTS18ID     Age  Survival ResectionStatus\n",
            "87  Brats18_CBICA_AXQ_1  66.282       114             GTR\n",
            "Temp is Brats18_TCIA03_199_1 and os is 1282\n",
            "               BraTS18ID     Age  Survival ResectionStatus\n",
            "25  Brats18_TCIA03_199_1  48.825      1282             NaN\n",
            "Temp is Brats18_TCIA03_265_1 and os is 103\n",
            "               BraTS18ID     Age  Survival ResectionStatus\n",
            "32  Brats18_TCIA03_265_1  59.584       103             NaN\n",
            "Temp is Brats18_CBICA_AZH_1 and os is 401\n",
            "              BraTS18ID     Age  Survival ResectionStatus\n",
            "80  Brats18_CBICA_AZH_1  54.915       401             GTR\n",
            "Temp is Brats18_TCIA05_478_1 and os is 30\n",
            "               BraTS18ID     Age  Survival ResectionStatus\n",
            "15  Brats18_TCIA05_478_1  59.255        30             NaN\n",
            "Temp is Brats18_CBICA_ANZ_1 and os is 287\n",
            "               BraTS18ID     Age  Survival ResectionStatus\n",
            "144  Brats18_CBICA_ANZ_1  68.049       287             GTR\n",
            "Temp is Brats18_CBICA_AAG_1 and os is 616\n",
            "               BraTS18ID     Age  Survival ResectionStatus\n",
            "161  Brats18_CBICA_AAG_1  52.263       616             GTR\n",
            "Temp is Brats18_TCIA02_491_1 and os is 82\n",
            "               BraTS18ID     Age  Survival ResectionStatus\n",
            "56  Brats18_TCIA02_491_1  81.112        82             NaN\n",
            "Temp is Brats18_CBICA_ASY_1 and os is 610\n",
            "               BraTS18ID    Age  Survival ResectionStatus\n",
            "108  Brats18_CBICA_ASY_1  66.51       610             STR\n",
            "Temp is Brats18_TCIA08_242_1 and os is 147\n",
            "              BraTS18ID     Age  Survival ResectionStatus\n",
            "1  Brats18_TCIA08_242_1  66.479       147             NaN\n",
            "Temp is Brats18_TCIA02_377_1 and os is 812\n",
            "               BraTS18ID     Age  Survival ResectionStatus\n",
            "53  Brats18_TCIA02_377_1  63.762       812             NaN\n",
            "Temp is Brats18_TCIA03_375_1 and os is 946\n",
            "               BraTS18ID   Age  Survival ResectionStatus\n",
            "33  Brats18_TCIA03_375_1  60.0       946             NaN\n",
            "Temp is Brats18_TCIA08_167_1 and os is 153\n",
            "              BraTS18ID     Age  Survival ResectionStatus\n",
            "0  Brats18_TCIA08_167_1  74.907       153             NaN\n",
            "Temp is Brats18_CBICA_ASU_1 and os is 85\n",
            "               BraTS18ID     Age  Survival ResectionStatus\n",
            "111  Brats18_CBICA_ASU_1  81.285        85             STR\n",
            "Temp is Brats18_TCIA01_190_1 and os is 322\n",
            "               BraTS18ID     Age  Survival ResectionStatus\n",
            "74  Brats18_TCIA01_190_1  61.526       322             NaN\n",
            "Temp is Brats18_TCIA08_280_1 and os is 508\n",
            "              BraTS18ID     Age  Survival ResectionStatus\n",
            "6  Brats18_TCIA08_280_1  57.362       508             NaN\n",
            "Temp is Brats18_CBICA_AQV_1 and os is 84\n",
            "               BraTS18ID     Age  Survival ResectionStatus\n",
            "124  Brats18_CBICA_AQV_1  53.362        84             GTR\n",
            "Temp is Brats18_CBICA_AQJ_1 and os is 170\n",
            "               BraTS18ID     Age  Survival ResectionStatus\n",
            "132  Brats18_CBICA_AQJ_1  66.074       170             STR\n",
            "Temp is Brats18_CBICA_AQQ_1 and os is 33\n",
            "               BraTS18ID     Age  Survival ResectionStatus\n",
            "128  Brats18_CBICA_AQQ_1  69.992        33             STR\n",
            "Temp is Brats18_CBICA_AUN_1 and os is 376\n",
            "               BraTS18ID     Age  Survival ResectionStatus\n",
            "101  Brats18_CBICA_AUN_1  68.504       376             GTR\n",
            "Temp is Brats18_CBICA_AOO_1 and os is 350\n",
            "               BraTS18ID     Age  Survival ResectionStatus\n",
            "141  Brats18_CBICA_AOO_1  44.162       350             GTR\n",
            "Temp is Brats18_CBICA_AXL_1 and os is 168\n",
            "              BraTS18ID    Age  Survival ResectionStatus\n",
            "91  Brats18_CBICA_AXL_1  74.63       168             GTR\n",
            "Temp is Brats18_CBICA_ALX_1 and os is 698\n",
            "               BraTS18ID     Age  Survival ResectionStatus\n",
            "150  Brats18_CBICA_ALX_1  59.693       698             GTR\n",
            "Temp is Brats18_CBICA_ABY_1 and os is 515\n",
            "               BraTS18ID     Age  Survival ResectionStatus\n",
            "153  Brats18_CBICA_ABY_1  48.367       515             GTR\n",
            "Temp is Brats18_CBICA_ASG_1 and os is 208\n",
            "               BraTS18ID    Age  Survival ResectionStatus\n",
            "116  Brats18_CBICA_ASG_1  57.71       208             STR\n",
            "Temp is Brats18_CBICA_AQY_1 and os is 229\n",
            "               BraTS18ID     Age  Survival ResectionStatus\n",
            "123  Brats18_CBICA_AQY_1  57.718       229             STR\n",
            "Temp is Brats18_TCIA03_474_1 and os is 635\n",
            "               BraTS18ID     Age  Survival ResectionStatus\n",
            "23  Brats18_TCIA03_474_1  61.408       635             NaN\n",
            "Temp is Brats18_CBICA_AME_1 and os is 359\n",
            "               BraTS18ID     Age  Survival ResectionStatus\n",
            "149  Brats18_CBICA_AME_1  51.734       359             GTR\n",
            "Temp is Brats18_CBICA_AXM_1 and os is 438\n",
            "              BraTS18ID     Age  Survival ResectionStatus\n",
            "90  Brats18_CBICA_AXM_1  66.934       438             STR\n",
            "Temp is Brats18_TCIA02_198_1 and os is 394\n",
            "               BraTS18ID     Age  Survival ResectionStatus\n",
            "54  Brats18_TCIA02_198_1  54.279       394             NaN\n",
            "Temp is Brats18_CBICA_ASH_1 and os is 660\n",
            "               BraTS18ID    Age  Survival ResectionStatus\n",
            "115  Brats18_CBICA_ASH_1  46.57       660             GTR\n",
            "Temp is Brats18_TCIA08_278_1 and os is 1458\n",
            "              BraTS18ID     Age  Survival ResectionStatus\n",
            "8  Brats18_TCIA08_278_1  50.501      1458             NaN\n",
            "Temp is Brats18_CBICA_AVJ_1 and os is 614\n",
            "              BraTS18ID     Age  Survival ResectionStatus\n",
            "97  Brats18_CBICA_AVJ_1  45.244       614             GTR\n",
            "Temp is Brats18_TCIA06_247_1 and os is 244\n",
            "              BraTS18ID     Age  Survival ResectionStatus\n",
            "9  Brats18_TCIA06_247_1  76.699       244             NaN\n",
            "Temp is Brats18_CBICA_AVV_1 and os is 387\n",
            "              BraTS18ID     Age  Survival ResectionStatus\n",
            "96  Brats18_CBICA_AVV_1  72.293       387             GTR\n",
            "Temp is Brats18_CBICA_AXO_1 and os is 394\n",
            "              BraTS18ID     Age  Survival ResectionStatus\n",
            "88  Brats18_CBICA_AXO_1  56.301       394             NaN\n",
            "Temp is Brats18_TCIA04_111_1 and os is 626\n",
            "               BraTS18ID     Age  Survival ResectionStatus\n",
            "20  Brats18_TCIA04_111_1  75.263       626             NaN\n",
            "Temp is Brats18_TCIA02_314_1 and os is 362\n",
            "               BraTS18ID     Age  Survival ResectionStatus\n",
            "51  Brats18_TCIA02_314_1  40.353       362             NaN\n",
            "Temp is Brats18_TCIA02_226_1 and os is 329\n",
            "               BraTS18ID     Age  Survival ResectionStatus\n",
            "46  Brats18_TCIA02_226_1  73.578       329             NaN\n",
            "Temp is Brats18_CBICA_ANI_1 and os is 439\n",
            "               BraTS18ID     Age  Survival ResectionStatus\n",
            "146  Brats18_CBICA_ANI_1  58.258       439             GTR\n",
            "Temp is Brats18_TCIA02_430_1 and os is 71\n",
            "               BraTS18ID     Age  Survival ResectionStatus\n",
            "49  Brats18_TCIA02_430_1  53.866        71             NaN\n",
            "Temp is Brats18_TCIA02_135_1 and os is 828\n",
            "               BraTS18ID     Age  Survival ResectionStatus\n",
            "40  Brats18_TCIA02_135_1  69.364       828             NaN\n",
            "Temp is Brats18_CBICA_APZ_1 and os is 336\n",
            "               BraTS18ID     Age  Survival ResectionStatus\n",
            "136  Brats18_CBICA_APZ_1  60.063       336             STR\n",
            "Temp is Brats18_CBICA_AQZ_1 and os is 286\n",
            "               BraTS18ID     Age  Survival ResectionStatus\n",
            "122  Brats18_CBICA_AQZ_1  63.345       286             STR\n",
            "Temp is Brats18_CBICA_ATD_1 and os is 355\n",
            "               BraTS18ID     Age  Survival ResectionStatus\n",
            "106  Brats18_CBICA_ATD_1  69.178       355             GTR\n",
            "Temp is Brats18_CBICA_BHB_1 and os is 510\n",
            "              BraTS18ID     Age  Survival ResectionStatus\n",
            "79  Brats18_CBICA_BHB_1  55.595       510             GTR\n",
            "Temp is Brats18_CBICA_AWG_1 and os is 180\n",
            "              BraTS18ID     Age  Survival ResectionStatus\n",
            "95  Brats18_CBICA_AWG_1  55.532       180             GTR\n",
            "Temp is Brats18_CBICA_AQO_1 and os is 473\n",
            "               BraTS18ID    Age  Survival ResectionStatus\n",
            "130  Brats18_CBICA_AQO_1  67.86       473             GTR\n",
            "Temp is Brats18_TCIA01_203_1 and os is 268\n",
            "               BraTS18ID     Age  Survival ResectionStatus\n",
            "60  Brats18_TCIA01_203_1  45.926       268             NaN\n",
            "Temp is Brats18_TCIA03_133_1 and os is 382\n",
            "               BraTS18ID     Age  Survival ResectionStatus\n",
            "26  Brats18_TCIA03_133_1  63.762       382             NaN\n",
            "Temp is Brats18_CBICA_ABB_1 and os is 465\n",
            "               BraTS18ID     Age  Survival ResectionStatus\n",
            "158  Brats18_CBICA_ABB_1  68.493       465             GTR\n",
            "Temp is Brats18_TCIA01_201_1 and os is 430\n",
            "               BraTS18ID     Age  Survival ResectionStatus\n",
            "70  Brats18_TCIA01_201_1  60.729       430             NaN\n",
            "Temp is Brats18_TCIA05_277_1 and os is 232\n",
            "               BraTS18ID     Age  Survival ResectionStatus\n",
            "14  Brats18_TCIA05_277_1  70.367       232             NaN\n",
            "Temp is Brats18_TCIA02_322_1 and os is 621\n",
            "               BraTS18ID     Age  Survival ResectionStatus\n",
            "37  Brats18_TCIA02_322_1  57.362       621             NaN\n",
            "Temp is Brats18_CBICA_ASO_1 and os is 265\n",
            "               BraTS18ID     Age  Survival ResectionStatus\n",
            "112  Brats18_CBICA_ASO_1  52.348       265             STR\n",
            "Temp is Brats18_TCIA02_283_1 and os is 262\n",
            "               BraTS18ID     Age  Survival ResectionStatus\n",
            "48  Brats18_TCIA02_283_1  74.836       262             NaN\n",
            "Temp is Brats18_TCIA03_296_1 and os is 22\n",
            "               BraTS18ID     Age  Survival ResectionStatus\n",
            "27  Brats18_TCIA03_296_1  60.427        22             NaN\n",
            "Temp is Brats18_CBICA_ABM_1 and os is 503\n",
            "               BraTS18ID     Age  Survival ResectionStatus\n",
            "156  Brats18_CBICA_ABM_1  69.912       503             GTR\n",
            "Temp is Brats18_CBICA_ASN_1 and os is 407\n",
            "               BraTS18ID     Age  Survival ResectionStatus\n",
            "113  Brats18_CBICA_ASN_1  39.488       407             STR\n",
            "Temp is Brats18_CBICA_AWI_1 and os is 375\n",
            "              BraTS18ID     Age  Survival ResectionStatus\n",
            "93  Brats18_CBICA_AWI_1  46.551       375             GTR\n",
            "Temp is Brats18_TCIA08_469_1 and os is 519\n",
            "              BraTS18ID     Age  Survival ResectionStatus\n",
            "3  Brats18_TCIA08_469_1  63.899       519             NaN\n",
            "Temp is Brats18_CBICA_APY_1 and os is 203\n",
            "               BraTS18ID     Age  Survival ResectionStatus\n",
            "137  Brats18_CBICA_APY_1  45.548       203             STR\n",
            "Temp is Brats18_CBICA_ASW_1 and os is 239\n",
            "               BraTS18ID     Age  Survival ResectionStatus\n",
            "109  Brats18_CBICA_ASW_1  68.359       239             GTR\n",
            "Temp is Brats18_TCIA03_138_1 and os is 82\n",
            "               BraTS18ID     Age  Survival ResectionStatus\n",
            "30  Brats18_TCIA03_138_1  71.874        82             NaN\n",
            "Temp is Brats18_TCIA01_335_1 and os is 355\n",
            "               BraTS18ID     Age  Survival ResectionStatus\n",
            "58  Brats18_TCIA01_335_1  54.474       355             NaN\n",
            "Temp is Brats18_CBICA_ATX_1 and os is 1592\n",
            "               BraTS18ID     Age  Survival ResectionStatus\n",
            "102  Brats18_CBICA_ATX_1  36.784      1592             GTR\n",
            "Temp is Brats18_CBICA_ANP_1 and os is 486\n",
            "               BraTS18ID     Age  Survival ResectionStatus\n",
            "145  Brats18_CBICA_ANP_1  61.605       486             GTR\n",
            "Temp is Brats18_CBICA_AVG_1 and os is 579\n",
            "              BraTS18ID     Age  Survival ResectionStatus\n",
            "98  Brats18_CBICA_AVG_1  63.359       579             GTR\n",
            "Temp is Brats18_TCIA02_118_1 and os is 104\n",
            "               BraTS18ID     Age  Survival ResectionStatus\n",
            "45  Brats18_TCIA02_118_1  47.321       104             NaN\n",
            "Temp is Brats18_TCIA06_184_1 and os is 434\n",
            "               BraTS18ID     Age  Survival ResectionStatus\n",
            "13  Brats18_TCIA06_184_1  61.167       434             NaN\n",
            "Temp is Brats18_CBICA_AYU_1 and os is 58\n",
            "              BraTS18ID     Age  Survival ResectionStatus\n",
            "83  Brats18_CBICA_AYU_1  63.781        58             GTR\n",
            "Temp is Brats18_CBICA_AYW_1 and os is 734\n",
            "              BraTS18ID     Age  Survival ResectionStatus\n",
            "82  Brats18_CBICA_AYW_1  49.874       734             NaN\n",
            "Temp is Brats18_TCIA02_471_1 and os is 111\n",
            "               BraTS18ID     Age  Survival ResectionStatus\n",
            "41  Brats18_TCIA02_471_1  76.614       111             NaN\n",
            "Temp is Brats18_TCIA08_105_1 and os is 77\n",
            "              BraTS18ID     Age  Survival ResectionStatus\n",
            "7  Brats18_TCIA08_105_1  66.627        77             NaN\n",
            "Temp is Brats18_CBICA_AUQ_1 and os is 1337\n",
            "               BraTS18ID     Age  Survival ResectionStatus\n",
            "100  Brats18_CBICA_AUQ_1  60.816      1337             NaN\n",
            "Temp is Brats18_CBICA_ARZ_1 and os is 871\n",
            "               BraTS18ID     Age  Survival ResectionStatus\n",
            "119  Brats18_CBICA_ARZ_1  54.825       871             STR\n",
            "Temp is Brats18_TCIA01_186_1 and os is 370\n",
            "               BraTS18ID     Age  Survival ResectionStatus\n",
            "72  Brats18_TCIA01_186_1  33.888       370             NaN\n",
            "Temp is Brats18_CBICA_AMH_1 and os is 169\n",
            "               BraTS18ID     Age  Survival ResectionStatus\n",
            "148  Brats18_CBICA_AMH_1  62.614       169             GTR\n",
            "Temp is Brats18_TCIA04_343_1 and os is 296\n",
            "               BraTS18ID     Age  Survival ResectionStatus\n",
            "21  Brats18_TCIA04_343_1  52.679       296             NaN\n",
            "Temp is Brats18_CBICA_ARF_1 and os is 726\n",
            "               BraTS18ID     Age  Survival ResectionStatus\n",
            "121  Brats18_CBICA_ARF_1  75.312       726             GTR\n",
            "Temp is Brats18_CBICA_AZD_1 and os is 448\n",
            "              BraTS18ID     Age  Survival ResectionStatus\n",
            "81  Brats18_CBICA_AZD_1  46.258       448             GTR\n",
            "Temp is Brats18_TCIA02_473_1 and os is 175\n",
            "               BraTS18ID     Age  Survival ResectionStatus\n",
            "36  Brats18_TCIA02_473_1  61.022       175             NaN\n"
          ],
          "name": "stdout"
        }
      ]
    },
    {
      "cell_type": "code",
      "metadata": {
        "id": "sUM9jwvqI2yS",
        "colab_type": "code",
        "outputId": "42ea39ec-2f0e-4aab-a2e2-f206057dca08",
        "colab": {
          "base_uri": "https://localhost:8080/",
          "height": 76
        }
      },
      "source": [
        "blah = \"Brats18_CBICA_ABY_1\"\n",
        "surv_csv.loc[surv_csv['BraTS18ID'] == blah]"
      ],
      "execution_count": 0,
      "outputs": [
        {
          "output_type": "execute_result",
          "data": {
            "text/html": [
              "<div>\n",
              "<style scoped>\n",
              "    .dataframe tbody tr th:only-of-type {\n",
              "        vertical-align: middle;\n",
              "    }\n",
              "\n",
              "    .dataframe tbody tr th {\n",
              "        vertical-align: top;\n",
              "    }\n",
              "\n",
              "    .dataframe thead th {\n",
              "        text-align: right;\n",
              "    }\n",
              "</style>\n",
              "<table border=\"1\" class=\"dataframe\">\n",
              "  <thead>\n",
              "    <tr style=\"text-align: right;\">\n",
              "      <th></th>\n",
              "      <th>BraTS18ID</th>\n",
              "      <th>Age</th>\n",
              "      <th>Survival</th>\n",
              "      <th>ResectionStatus</th>\n",
              "    </tr>\n",
              "  </thead>\n",
              "  <tbody>\n",
              "    <tr>\n",
              "      <th>153</th>\n",
              "      <td>Brats18_CBICA_ABY_1</td>\n",
              "      <td>48.367</td>\n",
              "      <td>515</td>\n",
              "      <td>GTR</td>\n",
              "    </tr>\n",
              "  </tbody>\n",
              "</table>\n",
              "</div>"
            ],
            "text/plain": [
              "               BraTS18ID     Age  Survival ResectionStatus\n",
              "153  Brats18_CBICA_ABY_1  48.367       515             GTR"
            ]
          },
          "metadata": {
            "tags": []
          },
          "execution_count": 8
        }
      ]
    },
    {
      "cell_type": "code",
      "metadata": {
        "id": "qtC6dwqrFYlM",
        "colab_type": "code",
        "outputId": "2876f30b-4f01-46da-de86-a4a5a5133df4",
        "colab": {
          "base_uri": "https://localhost:8080/",
          "height": 70
        }
      },
      "source": [
        "for i in range(3):\n",
        "  print(data[i][1])"
      ],
      "execution_count": 0,
      "outputs": [
        {
          "output_type": "stream",
          "text": [
            "558\n",
            "332\n",
            "213\n"
          ],
          "name": "stdout"
        }
      ]
    },
    {
      "cell_type": "code",
      "metadata": {
        "id": "-5_YRgXRBpLw",
        "colab_type": "code",
        "colab": {}
      },
      "source": [
        "x_train = []\n",
        "y_train = []\n",
        "\n",
        "for i,j in data:\n",
        "  x_train.append(i)\n",
        "  y_train.append(j)"
      ],
      "execution_count": 0,
      "outputs": []
    },
    {
      "cell_type": "code",
      "metadata": {
        "id": "K3Lk1_htCVH6",
        "colab_type": "code",
        "colab": {}
      },
      "source": [
        "l_max_i = []\n",
        "l_min_i = []\n",
        "l_max_j = []\n",
        "l_min_j = []\n",
        "l_max_k = []\n",
        "l_min_k = []\n",
        "\n",
        "for index,i in enumerate(x_train):\n",
        "  zi = np.argwhere(i)\n",
        "  max_i = np.max([zi[:,0]])\n",
        "  min_i = np.min([zi[:,0]])\n",
        "  max_j = np.max([zi[:,1]])\n",
        "  min_j = np.min([zi[:,1]])\n",
        "  max_k = np.max([zi[:,2]])\n",
        "  min_k = np.min([zi[:,2]])\n",
        "  \n",
        "  l_max_i.append(max_i)\n",
        "  l_min_i.append(min_i)\n",
        "  l_max_j.append(max_j)\n",
        "  l_min_j.append(min_j)\n",
        "  l_max_k.append(max_k)\n",
        "  l_min_k.append(min_k)"
      ],
      "execution_count": 0,
      "outputs": []
    },
    {
      "cell_type": "code",
      "metadata": {
        "id": "3MdUDWMWILMe",
        "colab_type": "code",
        "colab": {}
      },
      "source": [
        "avg_i_high = np.around(np.mean(l_max_i)).astype(int)\n",
        "avg_i_low = np.around(np.mean(l_min_i)).astype(int)\n",
        "avg_j_high = np.around(np.mean(l_max_j)).astype(int)\n",
        "avg_j_low = np.around(np.mean(l_min_j)).astype(int)\n",
        "avg_k_high = np.around(np.mean(l_max_k)).astype(int)\n",
        "avg_k_low = np.around(np.mean(l_min_k)).astype(int)"
      ],
      "execution_count": 0,
      "outputs": []
    },
    {
      "cell_type": "code",
      "metadata": {
        "id": "jNEmsLeRNEug",
        "colab_type": "code",
        "colab": {}
      },
      "source": [
        "cut = 20\n",
        "for index,vol in enumerate(x_train):\n",
        "  x_train[index] = x_train[index][avg_i_low + cut : avg_i_high - cut, avg_j_low + cut : avg_j_high - cut, avg_k_low + cut : avg_k_high - cut]"
      ],
      "execution_count": 0,
      "outputs": []
    },
    {
      "cell_type": "code",
      "metadata": {
        "id": "E-sOBGOKUR_h",
        "colab_type": "code",
        "colab": {}
      },
      "source": [
        "for index,vol in enumerate(x_train):\n",
        "  mean = np.mean(x_train[index])\n",
        "  std = np.std(x_train[index])\n",
        "  x_train[index] = (x_train[index] - mean)/std"
      ],
      "execution_count": 0,
      "outputs": []
    },
    {
      "cell_type": "code",
      "metadata": {
        "id": "gckY6nC2UA5w",
        "colab_type": "code",
        "colab": {}
      },
      "source": [
        "x_train = np.array(x_train)\n",
        "y_train = np.array(y_train)"
      ],
      "execution_count": 0,
      "outputs": []
    },
    {
      "cell_type": "code",
      "metadata": {
        "id": "OjTel8XpULNX",
        "colab_type": "code",
        "outputId": "1b5d02e2-435f-4d3d-c073-e0f7dc2e8b39",
        "colab": {
          "base_uri": "https://localhost:8080/",
          "height": 35
        }
      },
      "source": [
        "np.shape(x_train[5])"
      ],
      "execution_count": 0,
      "outputs": [
        {
          "output_type": "execute_result",
          "data": {
            "text/plain": [
              "(96, 128, 97)"
            ]
          },
          "metadata": {
            "tags": []
          },
          "execution_count": 17
        }
      ]
    },
    {
      "cell_type": "code",
      "metadata": {
        "id": "gUygSGrLnHZv",
        "colab_type": "code",
        "outputId": "55cc1f50-7e78-4b39-81f4-65d00bf7e305",
        "colab": {
          "base_uri": "https://localhost:8080/",
          "height": 232
        }
      },
      "source": [
        "import matplotlib.pyplot as plt\n",
        "f,ax = plt.subplots(1,5, figsize = (25,25))\n",
        "sls = [30,40,50,60,70]\n",
        "for i,j in enumerate(sls):\n",
        "    ax[i].imshow(x_train[25][:,:,j])\n",
        "plt.show()"
      ],
      "execution_count": 0,
      "outputs": [
        {
          "output_type": "display_data",
          "data": {
            "image/png": "[encoded data removed]",
            "text/plain": [
              "<Figure size 1800x1800 with 5 Axes>"
            ]
          },
          "metadata": {
            "tags": []
          }
        }
      ]
    },
    {
      "cell_type": "code",
      "metadata": {
        "id": "nMG53QtFldHi",
        "colab_type": "code",
        "colab": {}
      },
      "source": [
        "x_train = np.expand_dims(x_train, axis = -1)"
      ],
      "execution_count": 0,
      "outputs": []
    },
    {
      "cell_type": "code",
      "metadata": {
        "id": "AlSB8vQb5p86",
        "colab_type": "code",
        "outputId": "bd5aa7cc-9b70-48c2-f347-11a68a07dd10",
        "colab": {
          "base_uri": "https://localhost:8080/",
          "height": 35
        }
      },
      "source": [
        "cuts = np.percentile(y_train, [33,66,100])\n",
        "cuts"
      ],
      "execution_count": 0,
      "outputs": [
        {
          "output_type": "execute_result",
          "data": {
            "text/plain": [
              "array([ 241.3,  452.6, 1767. ])"
            ]
          },
          "metadata": {
            "tags": []
          },
          "execution_count": 20
        }
      ]
    },
    {
      "cell_type": "code",
      "metadata": {
        "id": "QaEm3oftUqM_",
        "colab_type": "code",
        "colab": {}
      },
      "source": [
        "# Note : Don't run this twice in a single session\n",
        "# Minus 1 is to zero index\n",
        "\n",
        "#bins = np.array([0, 12, 24, 36, 48, 60, 72, 84, 135])\n",
        "bins = np.array([0,241,453,2000])\n",
        "y_train = np.digitize(y_train, bins) - 1"
      ],
      "execution_count": 0,
      "outputs": []
    },
    {
      "cell_type": "code",
      "metadata": {
        "id": "NKa0gj5VEGJY",
        "colab_type": "code",
        "outputId": "95c0a1fc-52d6-48d9-e1e0-dd9fade23a66",
        "colab": {
          "base_uri": "https://localhost:8080/",
          "height": 159
        }
      },
      "source": [
        "y_train"
      ],
      "execution_count": 0,
      "outputs": [
        {
          "output_type": "execute_result",
          "data": {
            "text/plain": [
              "array([2, 1, 0, 1, 2, 1, 0, 0, 0, 0, 0, 1, 0, 0, 1, 1, 2, 2, 0, 1, 2, 0,\n",
              "       0, 1, 1, 0, 2, 0, 2, 2, 2, 2, 2, 0, 2, 2, 1, 2, 2, 1, 2, 1, 0, 0,\n",
              "       0, 1, 0, 2, 1, 0, 2, 2, 2, 1, 1, 2, 1, 1, 2, 0, 0, 0, 2, 2, 1, 0,\n",
              "       0, 2, 0, 0, 2, 0, 1, 1, 2, 2, 2, 0, 1, 1, 1, 0, 2, 0, 1, 0, 1, 2,\n",
              "       0, 2, 0, 2, 2, 0, 0, 1, 2, 0, 0, 0, 1, 1, 0, 2, 2, 0, 0, 2, 1, 1,\n",
              "       1, 2, 2, 2, 1, 1, 1, 2, 1, 1, 1, 0, 2, 1, 1, 1, 2, 0, 2, 1, 1, 2,\n",
              "       1, 0, 2, 1, 1, 0, 2, 1, 1, 2, 0, 0, 0, 1, 2, 2, 2, 0, 1, 0, 2, 0,\n",
              "       0, 2, 2, 1, 0, 1, 2, 1, 0])"
            ]
          },
          "metadata": {
            "tags": []
          },
          "execution_count": 22
        }
      ]
    },
    {
      "cell_type": "code",
      "metadata": {
        "id": "9OHlN-REEXcc",
        "colab_type": "code",
        "outputId": "5c2b5523-ab03-4308-d66f-fe65c1258e6f",
        "colab": {
          "base_uri": "https://localhost:8080/",
          "height": 35
        }
      },
      "source": [
        "np.unique(y_train, return_counts = True)"
      ],
      "execution_count": 0,
      "outputs": [
        {
          "output_type": "execute_result",
          "data": {
            "text/plain": [
              "(array([0, 1, 2]), array([54, 53, 56]))"
            ]
          },
          "metadata": {
            "tags": []
          },
          "execution_count": 23
        }
      ]
    },
    {
      "cell_type": "code",
      "metadata": {
        "id": "Wix-oq4Qlwai",
        "colab_type": "code",
        "colab": {}
      },
      "source": [
        "#Define model architecture\n",
        "\n",
        "model = models.Sequential()\n",
        "\n",
        "model.add(layers.Conv3D(32, kernel_size = (3, 3, 3), activation = 'selu', input_shape = (96,128,97, 1), kernel_regularizer = keras.regularizers.l2(0.1)))\n",
        "model.add(layers.BatchNormalization())\n",
        "\n",
        "model.add(layers.MaxPooling3D((2, 2, 2)))\n",
        "\n",
        "model.add(layers.Conv3D(32, kernel_size = (3, 3, 3), activation='selu', kernel_regularizer = keras.regularizers.l2(0.1)))\n",
        "model.add(layers.BatchNormalization())\n",
        "\n",
        "#additional\n",
        "#model.add(layers.MaxPooling3D((2, 2, 2)))\n",
        "\n",
        "model.add(layers.Conv3D(32, kernel_size = (3, 3, 3), activation='selu', kernel_regularizer = keras.regularizers.l2(0.1)))\n",
        "model.add(layers.BatchNormalization())\n",
        "\n",
        "model.add(layers.MaxPooling3D((2, 2, 2)))\n",
        "\n",
        "model.add(layers.Conv3D(32, kernel_size = (3, 3, 3), activation='selu', kernel_regularizer = keras.regularizers.l2(0.1)))\n",
        "model.add(layers.BatchNormalization())\n",
        "\n",
        "model.add(layers.MaxPooling3D((2, 2, 2)))\n",
        "\n",
        "model.add(layers.Conv3D(32, kernel_size = (3, 3, 3), strides = 2, activation='selu', kernel_regularizer = keras.regularizers.l2(0.1)))\n",
        "model.add(layers.MaxPooling3D((2, 2, 2)))\n",
        "\n",
        "model.add(layers.Flatten())\n",
        "\n",
        "model.add(layers.Dense(20, activation = 'selu', kernel_regularizer = keras.regularizers.l2(0.1)))\n",
        "model.add(layers.Dense(10, activation = 'selu', kernel_regularizer = keras.regularizers.l2(0.1)))\n",
        "model.add(layers.Dense(3, activation = 'softmax', kernel_regularizer = keras.regularizers.l2(0.1)))"
      ],
      "execution_count": 0,
      "outputs": []
    },
    {
      "cell_type": "code",
      "metadata": {
        "id": "vVavlXitrMrL",
        "colab_type": "code",
        "outputId": "ad8b7576-c8c2-4ff0-ccb9-f15e84eb21c0",
        "colab": {
          "base_uri": "https://localhost:8080/",
          "height": 764
        }
      },
      "source": [
        "model.summary()"
      ],
      "execution_count": 0,
      "outputs": [
        {
          "output_type": "stream",
          "text": [
            "Model: \"sequential\"\n",
            "_________________________________________________________________\n",
            "Layer (type)                 Output Shape              Param #   \n",
            "=================================================================\n",
            "conv3d (Conv3D)              (None, 94, 126, 95, 32)   896       \n",
            "_________________________________________________________________\n",
            "batch_normalization_v2 (Batc (None, 94, 126, 95, 32)   128       \n",
            "_________________________________________________________________\n",
            "max_pooling3d (MaxPooling3D) (None, 47, 63, 47, 32)    0         \n",
            "_________________________________________________________________\n",
            "conv3d_1 (Conv3D)            (None, 45, 61, 45, 32)    27680     \n",
            "_________________________________________________________________\n",
            "batch_normalization_v2_1 (Ba (None, 45, 61, 45, 32)    128       \n",
            "_________________________________________________________________\n",
            "conv3d_2 (Conv3D)            (None, 43, 59, 43, 32)    27680     \n",
            "_________________________________________________________________\n",
            "batch_normalization_v2_2 (Ba (None, 43, 59, 43, 32)    128       \n",
            "_________________________________________________________________\n",
            "max_pooling3d_1 (MaxPooling3 (None, 21, 29, 21, 32)    0         \n",
            "_________________________________________________________________\n",
            "conv3d_3 (Conv3D)            (None, 19, 27, 19, 32)    27680     \n",
            "_________________________________________________________________\n",
            "batch_normalization_v2_3 (Ba (None, 19, 27, 19, 32)    128       \n",
            "_________________________________________________________________\n",
            "max_pooling3d_2 (MaxPooling3 (None, 9, 13, 9, 32)      0         \n",
            "_________________________________________________________________\n",
            "conv3d_4 (Conv3D)            (None, 4, 6, 4, 32)       27680     \n",
            "_________________________________________________________________\n",
            "max_pooling3d_3 (MaxPooling3 (None, 2, 3, 2, 32)       0         \n",
            "_________________________________________________________________\n",
            "flatten (Flatten)            (None, 384)               0         \n",
            "_________________________________________________________________\n",
            "dense (Dense)                (None, 20)                7700      \n",
            "_________________________________________________________________\n",
            "dense_1 (Dense)              (None, 10)                210       \n",
            "_________________________________________________________________\n",
            "dense_2 (Dense)              (None, 3)                 33        \n",
            "=================================================================\n",
            "Total params: 120,071\n",
            "Trainable params: 119,815\n",
            "Non-trainable params: 256\n",
            "_________________________________________________________________\n"
          ],
          "name": "stdout"
        }
      ]
    },
    {
      "cell_type": "code",
      "metadata": {
        "id": "akpR25z3nhrU",
        "colab_type": "code",
        "colab": {}
      },
      "source": [
        "model.compile(optimizer= keras.optimizers.Adam(learning_rate = 0.0005),\n",
        "              loss='sparse_categorical_crossentropy',\n",
        "              metrics = ['acc'])"
      ],
      "execution_count": 0,
      "outputs": []
    },
    {
      "cell_type": "code",
      "metadata": {
        "id": "jEumV0EcXR6m",
        "colab_type": "code",
        "outputId": "456384fd-b5f7-4373-9333-ec70b844dda7",
        "colab": {
          "base_uri": "https://localhost:8080/",
          "height": 52
        }
      },
      "source": [
        "model.evaluate(x_train[-17:], y_train[-17:], batch_size = 7)"
      ],
      "execution_count": 0,
      "outputs": [
        {
          "output_type": "stream",
          "text": [
            "17/17 [==============================] - 29s 2s/sample - loss: 19.8972 - acc: 0.2353\n"
          ],
          "name": "stdout"
        },
        {
          "output_type": "execute_result",
          "data": {
            "text/plain": [
              "[19.89719794778263, 0.23529412]"
            ]
          },
          "metadata": {
            "tags": []
          },
          "execution_count": 27
        }
      ]
    },
    {
      "cell_type": "code",
      "metadata": {
        "id": "YpMopNYSoI0i",
        "colab_type": "code",
        "outputId": "bf81ad01-08fd-47bd-96de-41a69d40a41d",
        "colab": {
          "base_uri": "https://localhost:8080/",
          "height": 355
        }
      },
      "source": [
        "history = model.fit(x_train,y_train, batch_size=7, epochs = 100, validation_split = 0.1,\\\n",
        "          callbacks = [keras.callbacks.EarlyStopping(monitor = 'val_acc', patience=12, restore_best_weights = True)])"
      ],
      "execution_count": 0,
      "outputs": [
        {
          "output_type": "stream",
          "text": [
            "Train on 146 samples, validate on 17 samples\n",
            "Epoch 1/100\n",
            "146/146 [==============================] - 1412s 10s/sample - loss: 19.8459 - acc: 0.3014 - val_loss: 19.3898 - val_acc: 0.2941\n",
            "Epoch 2/100\n",
            "146/146 [==============================] - 1379s 9s/sample - loss: 18.8840 - acc: 0.3151 - val_loss: 18.6335 - val_acc: 0.2941\n",
            "Epoch 3/100\n",
            "146/146 [==============================] - 1380s 9s/sample - loss: 17.9851 - acc: 0.5753 - val_loss: 17.9089 - val_acc: 0.2941\n",
            "Epoch 4/100\n",
            "146/146 [==============================] - 1380s 9s/sample - loss: 17.2208 - acc: 0.4863 - val_loss: 17.3489 - val_acc: 0.2353\n",
            "Epoch 5/100\n",
            "146/146 [==============================] - 1383s 9s/sample - loss: 16.3273 - acc: 0.5959 - val_loss: 16.7281 - val_acc: 0.2941\n",
            "Epoch 6/100\n",
            "146/146 [==============================] - 1392s 10s/sample - loss: 15.4243 - acc: 0.7397 - val_loss: 15.7300 - val_acc: 0.3529\n",
            "Epoch 7/100\n",
            "146/146 [==============================] - 1393s 10s/sample - loss: 14.5989 - acc: 0.7808 - val_loss: 14.9730 - val_acc: 0.2353\n",
            "Epoch 8/100\n",
            "146/146 [==============================] - 1383s 9s/sample - loss: 13.8407 - acc: 0.8151 - val_loss: 14.3410 - val_acc: 0.1176\n",
            "Epoch 9/100\n",
            "  7/146 [>.............................] - ETA: 21:54 - loss: 13.2514 - acc: 0.8571"
          ],
          "name": "stdout"
        }
      ]
    },
    {
      "cell_type": "code",
      "metadata": {
        "id": "5ETibe906FUz",
        "colab_type": "code",
        "colab": {}
      },
      "source": [
        "import matplotlib.pyplot as plt\n",
        "\n",
        "#visualizing losses and accuracy\n",
        "\n",
        "train_loss = history.history['loss']\n",
        "validation_loss = history.history['val_loss']\n",
        "train_acc  = history.history['acc']\n",
        "validation_acc  = history.history['val_acc']"
      ],
      "execution_count": 0,
      "outputs": []
    },
    {
      "cell_type": "code",
      "metadata": {
        "id": "F2f74ECE6GJH",
        "colab_type": "code",
        "colab": {}
      },
      "source": [
        "plt.figure()\n",
        "plt.plot( train_loss,label='training loss')\n",
        "plt.plot( validation_loss,label='validation loss')\n",
        "plt.title('Train and validation loss')\n",
        "plt.legend()\n",
        "\n"
      ],
      "execution_count": 0,
      "outputs": []
    },
    {
      "cell_type": "code",
      "metadata": {
        "id": "Dfse7W266HlX",
        "colab_type": "code",
        "colab": {}
      },
      "source": [
        "plt.figure()\n",
        "plt.plot( train_loss,label='training loss')\n",
        "plt.plot( validation_loss,label='validation loss')\n",
        "plt.title('Train and validation loss')\n",
        "plt.legend()\n",
        "\n"
      ],
      "execution_count": 0,
      "outputs": []
    }
  ]
}