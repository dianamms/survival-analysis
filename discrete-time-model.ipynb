{
 "cells": [
  {
   "cell_type": "code",
   "execution_count": null,
   "metadata": {},
   "outputs": [],
   "source": [
    "\n",
    "library(survival) \n",
    "library(mgcv) \n",
    "library(readxl)\n",
    "library(glmnet)\n",
    "library(survival)\n",
    "library(xlsx)\n",
    "library(discSurv)\n",
    "library(Hmisc)\n",
    "library(randomForestSRC)\n",
    "library(ggRandomForests)\n",
    "library(caret)\n",
    "library(pec)\n"
   ]
  },
  {
   "cell_type": "code",
   "execution_count": 16,
   "metadata": {},
   "outputs": [
    {
     "data": {
      "text/html": [
       "<table>\n",
       "<thead><tr><th scope=col>timeDisc</th><th scope=col>OS</th><th scope=col>Status.OS</th><th scope=col>Grade</th><th scope=col>Age</th></tr></thead>\n",
       "<tbody>\n",
       "\t<tr><td>75       </td><td>74.277267</td><td>0        </td><td>1        </td><td>34.3     </td></tr>\n",
       "\t<tr><td>28       </td><td>27.660972</td><td>0        </td><td>2        </td><td>73.0     </td></tr>\n",
       "\t<tr><td>52       </td><td>51.938239</td><td>1        </td><td>2        </td><td>46.4     </td></tr>\n",
       "\t<tr><td>44       </td><td>43.626807</td><td>0        </td><td>2        </td><td>42.0     </td></tr>\n",
       "\t<tr><td>18       </td><td>17.936925</td><td>0        </td><td>3        </td><td>65.0     </td></tr>\n",
       "\t<tr><td>5        </td><td> 4.830541</td><td>1        </td><td>3        </td><td>39.1     </td></tr>\n",
       "\t<tr><td>46       </td><td>45.433640</td><td>0        </td><td>3        </td><td>69.9     </td></tr>\n",
       "</tbody>\n",
       "</table>\n"
      ],
      "text/latex": [
       "\\begin{tabular}{r|lllll}\n",
       " timeDisc & OS & Status.OS & Grade & Age\\\\\n",
       "\\hline\n",
       "\t 75        & 74.277267 & 0         & 1         & 34.3     \\\\\n",
       "\t 28        & 27.660972 & 0         & 2         & 73.0     \\\\\n",
       "\t 52        & 51.938239 & 1         & 2         & 46.4     \\\\\n",
       "\t 44        & 43.626807 & 0         & 2         & 42.0     \\\\\n",
       "\t 18        & 17.936925 & 0         & 3         & 65.0     \\\\\n",
       "\t 5         &  4.830541 & 1         & 3         & 39.1     \\\\\n",
       "\t 46        & 45.433640 & 0         & 3         & 69.9     \\\\\n",
       "\\end{tabular}\n"
      ],
      "text/markdown": [
       "\n",
       "timeDisc | OS | Status.OS | Grade | Age | \n",
       "|---|---|---|---|---|---|---|\n",
       "| 75        | 74.277267 | 0         | 1         | 34.3      | \n",
       "| 28        | 27.660972 | 0         | 2         | 73.0      | \n",
       "| 52        | 51.938239 | 1         | 2         | 46.4      | \n",
       "| 44        | 43.626807 | 0         | 2         | 42.0      | \n",
       "| 18        | 17.936925 | 0         | 3         | 65.0      | \n",
       "| 5         |  4.830541 | 1         | 3         | 39.1      | \n",
       "| 46        | 45.433640 | 0         | 3         | 69.9      | \n",
       "\n",
       "\n"
      ],
      "text/plain": [
       "  timeDisc OS        Status.OS Grade Age \n",
       "1 75       74.277267 0         1     34.3\n",
       "2 28       27.660972 0         2     73.0\n",
       "3 52       51.938239 1         2     46.4\n",
       "4 44       43.626807 0         2     42.0\n",
       "5 18       17.936925 0         3     65.0\n",
       "6 5         4.830541 1         3     39.1\n",
       "7 46       45.433640 0         3     69.9"
      ]
     },
     "metadata": {},
     "output_type": "display_data"
    }
   ],
   "source": [
    "train <- data.frame(read_excel(\"Data_clean.agegr.trn.xlsx\"))\n",
    "train <- subset(train, select = -c(id))\n",
    "\n",
    "test <- data.frame(read_excel(\"Data_clean.agegr.tst.xlsx\"))\n",
    "test<- subset(test,select=-c(id))\n",
    "\n",
    "IntBorders <- 1:ceiling(max(train$OS))\n",
    "data.train <- contToDisc (dataSet=train, timeColumn=\"OS\", intervalLimits=IntBorders)\n",
    "\n",
    "data.train[1:7,1:5]\n"
   ]
  },
  {
   "cell_type": "code",
   "execution_count": 17,
   "metadata": {},
   "outputs": [
    {
     "data": {
      "text/html": [
       "<table>\n",
       "<thead><tr><th></th><th scope=col>obj</th><th scope=col>timeInt</th><th scope=col>y</th><th scope=col>timeDisc</th><th scope=col>OS</th><th scope=col>Status.OS</th><th scope=col>Grade</th><th scope=col>Age</th></tr></thead>\n",
       "<tbody>\n",
       "\t<tr><th scope=row>1</th><td>1       </td><td>1       </td><td>0       </td><td>75      </td><td>74.27727</td><td>0       </td><td>1       </td><td>34.3    </td></tr>\n",
       "\t<tr><th scope=row>1.1</th><td>1       </td><td>2       </td><td>0       </td><td>75      </td><td>74.27727</td><td>0       </td><td>1       </td><td>34.3    </td></tr>\n",
       "\t<tr><th scope=row>1.2</th><td>1       </td><td>3       </td><td>0       </td><td>75      </td><td>74.27727</td><td>0       </td><td>1       </td><td>34.3    </td></tr>\n",
       "\t<tr><th scope=row>1.3</th><td>1       </td><td>4       </td><td>0       </td><td>75      </td><td>74.27727</td><td>0       </td><td>1       </td><td>34.3    </td></tr>\n",
       "\t<tr><th scope=row>1.4</th><td>1       </td><td>5       </td><td>0       </td><td>75      </td><td>74.27727</td><td>0       </td><td>1       </td><td>34.3    </td></tr>\n",
       "\t<tr><th scope=row>1.5</th><td>1       </td><td>6       </td><td>0       </td><td>75      </td><td>74.27727</td><td>0       </td><td>1       </td><td>34.3    </td></tr>\n",
       "\t<tr><th scope=row>1.6</th><td>1       </td><td>7       </td><td>0       </td><td>75      </td><td>74.27727</td><td>0       </td><td>1       </td><td>34.3    </td></tr>\n",
       "\t<tr><th scope=row>1.7</th><td>1       </td><td>8       </td><td>0       </td><td>75      </td><td>74.27727</td><td>0       </td><td>1       </td><td>34.3    </td></tr>\n",
       "\t<tr><th scope=row>1.8</th><td>1       </td><td>9       </td><td>0       </td><td>75      </td><td>74.27727</td><td>0       </td><td>1       </td><td>34.3    </td></tr>\n",
       "</tbody>\n",
       "</table>\n"
      ],
      "text/latex": [
       "\\begin{tabular}{r|llllllll}\n",
       "  & obj & timeInt & y & timeDisc & OS & Status.OS & Grade & Age\\\\\n",
       "\\hline\n",
       "\t1 & 1        & 1        & 0        & 75       & 74.27727 & 0        & 1        & 34.3    \\\\\n",
       "\t1.1 & 1        & 2        & 0        & 75       & 74.27727 & 0        & 1        & 34.3    \\\\\n",
       "\t1.2 & 1        & 3        & 0        & 75       & 74.27727 & 0        & 1        & 34.3    \\\\\n",
       "\t1.3 & 1        & 4        & 0        & 75       & 74.27727 & 0        & 1        & 34.3    \\\\\n",
       "\t1.4 & 1        & 5        & 0        & 75       & 74.27727 & 0        & 1        & 34.3    \\\\\n",
       "\t1.5 & 1        & 6        & 0        & 75       & 74.27727 & 0        & 1        & 34.3    \\\\\n",
       "\t1.6 & 1        & 7        & 0        & 75       & 74.27727 & 0        & 1        & 34.3    \\\\\n",
       "\t1.7 & 1        & 8        & 0        & 75       & 74.27727 & 0        & 1        & 34.3    \\\\\n",
       "\t1.8 & 1        & 9        & 0        & 75       & 74.27727 & 0        & 1        & 34.3    \\\\\n",
       "\\end{tabular}\n"
      ],
      "text/markdown": [
       "\n",
       "| <!--/--> | obj | timeInt | y | timeDisc | OS | Status.OS | Grade | Age | \n",
       "|---|---|---|---|---|---|---|---|---|\n",
       "| 1 | 1        | 1        | 0        | 75       | 74.27727 | 0        | 1        | 34.3     | \n",
       "| 1.1 | 1        | 2        | 0        | 75       | 74.27727 | 0        | 1        | 34.3     | \n",
       "| 1.2 | 1        | 3        | 0        | 75       | 74.27727 | 0        | 1        | 34.3     | \n",
       "| 1.3 | 1        | 4        | 0        | 75       | 74.27727 | 0        | 1        | 34.3     | \n",
       "| 1.4 | 1        | 5        | 0        | 75       | 74.27727 | 0        | 1        | 34.3     | \n",
       "| 1.5 | 1        | 6        | 0        | 75       | 74.27727 | 0        | 1        | 34.3     | \n",
       "| 1.6 | 1        | 7        | 0        | 75       | 74.27727 | 0        | 1        | 34.3     | \n",
       "| 1.7 | 1        | 8        | 0        | 75       | 74.27727 | 0        | 1        | 34.3     | \n",
       "| 1.8 | 1        | 9        | 0        | 75       | 74.27727 | 0        | 1        | 34.3     | \n",
       "\n",
       "\n"
      ],
      "text/plain": [
       "    obj timeInt y timeDisc OS       Status.OS Grade Age \n",
       "1   1   1       0 75       74.27727 0         1     34.3\n",
       "1.1 1   2       0 75       74.27727 0         1     34.3\n",
       "1.2 1   3       0 75       74.27727 0         1     34.3\n",
       "1.3 1   4       0 75       74.27727 0         1     34.3\n",
       "1.4 1   5       0 75       74.27727 0         1     34.3\n",
       "1.5 1   6       0 75       74.27727 0         1     34.3\n",
       "1.6 1   7       0 75       74.27727 0         1     34.3\n",
       "1.7 1   8       0 75       74.27727 0         1     34.3\n",
       "1.8 1   9       0 75       74.27727 0         1     34.3"
      ]
     },
     "metadata": {},
     "output_type": "display_data"
    }
   ],
   "source": [
    "Long <- dataLong (dataSet=data.train, timeColumn=\"timeDisc\", censColumn=\"Status.OS\")\n",
    "#turn var in factors if neccesary, we do it later so not needed anymore\n",
    "\n",
    "Long$timeInt <- as.factor(Long$timeInt)\n",
    "Long$Grade <- as.factor(Long$Grade)\n",
    "Long$y<-as.factor(Long$y)\n",
    "\n",
    "#only select needed variables for regression\n",
    "\n",
    "#long<-Long[,7:1034]\n",
    "#x<-as.matrix.data.frame(long)\n",
    "\n",
    "Long[1:9,1:8]\n"
   ]
  },
  {
   "cell_type": "code",
   "execution_count": 18,
   "metadata": {
    "scrolled": false
   },
   "outputs": [
    {
     "data": {
      "image/png": "[encoded data removed]",
      "text/plain": [
       "plot without title"
      ]
     },
     "metadata": {},
     "output_type": "display_data"
    },
    {
     "data": {
      "image/png": "[encoded data removed]",
      "text/plain": [
       "plot without title"
      ]
     },
     "metadata": {},
     "output_type": "display_data"
    }
   ],
   "source": [
    "\n",
    "#xfactors <- model.matrix(Long$y ~ Long$timeInt+Long$Grade)[, -1]\n",
    "#x        <- as.matrix(data.frame(xfactors, Long[,8:1034]))\n",
    "\n",
    "xfactors <- model.matrix(Long$y ~ Long$timeInt)[, -1]\n",
    "x        <- as.matrix(data.frame(xfactors))\n",
    "\n",
    "# Note alpha=1 for lasso only and can blend with ridge penalty down to\n",
    "# alpha=0 ridge only.\n",
    "\n",
    "glmm.cv <- cv.glmnet(x, y=as.factor(Long$y), alpha=1, family=\"binomial\")\n",
    "plot(glmm.cv)\n",
    "glmm <- glmnet(x, y=as.factor(Long$y), alpha=1, family=\"binomial\")\n",
    "plot(glmm)\n",
    "best_lambda <- glmm.cv$lambda[which.min(glmm.cv$cvm)]\n",
    "#print(glmm)\n",
    "\n"
   ]
  },
  {
   "cell_type": "code",
   "execution_count": 15,
   "metadata": {},
   "outputs": [
    {
     "data": {
      "text/html": [
       "<ol class=list-inline>\n",
       "\t<li>1</li>\n",
       "\t<li>11</li>\n",
       "\t<li>36</li>\n",
       "\t<li>47</li>\n",
       "\t<li>52</li>\n",
       "\t<li>85</li>\n",
       "</ol>\n"
      ],
      "text/latex": [
       "\\begin{enumerate*}\n",
       "\\item 1\n",
       "\\item 11\n",
       "\\item 36\n",
       "\\item 47\n",
       "\\item 52\n",
       "\\item 85\n",
       "\\end{enumerate*}\n"
      ],
      "text/markdown": [
       "1. 1\n",
       "2. 11\n",
       "3. 36\n",
       "4. 47\n",
       "5. 52\n",
       "6. 85\n",
       "\n",
       "\n"
      ],
      "text/plain": [
       "[1]  1 11 36 47 52 85"
      ]
     },
     "metadata": {},
     "output_type": "display_data"
    },
    {
     "data": {
      "text/html": [
       "<ol class=list-inline>\n",
       "\t<li>'Age'</li>\n",
       "\t<li>'original_shape_MajorAxis'</li>\n",
       "\t<li>'original_glcm_JointAverage'</li>\n",
       "\t<li>'original_glcm_Imc1'</li>\n",
       "\t<li>'original_glcm_Idn'</li>\n",
       "\t<li>'original_glszm_SmallAreaLowGrayLevelEmphasis'</li>\n",
       "</ol>\n"
      ],
      "text/latex": [
       "\\begin{enumerate*}\n",
       "\\item 'Age'\n",
       "\\item 'original\\_shape\\_MajorAxis'\n",
       "\\item 'original\\_glcm\\_JointAverage'\n",
       "\\item 'original\\_glcm\\_Imc1'\n",
       "\\item 'original\\_glcm\\_Idn'\n",
       "\\item 'original\\_glszm\\_SmallAreaLowGrayLevelEmphasis'\n",
       "\\end{enumerate*}\n"
      ],
      "text/markdown": [
       "1. 'Age'\n",
       "2. 'original_shape_MajorAxis'\n",
       "3. 'original_glcm_JointAverage'\n",
       "4. 'original_glcm_Imc1'\n",
       "5. 'original_glcm_Idn'\n",
       "6. 'original_glszm_SmallAreaLowGrayLevelEmphasis'\n",
       "\n",
       "\n"
      ],
      "text/plain": [
       "[1] \"Age\"                                         \n",
       "[2] \"original_shape_MajorAxis\"                    \n",
       "[3] \"original_glcm_JointAverage\"                  \n",
       "[4] \"original_glcm_Imc1\"                          \n",
       "[5] \"original_glcm_Idn\"                           \n",
       "[6] \"original_glszm_SmallAreaLowGrayLevelEmphasis\""
      ]
     },
     "metadata": {},
     "output_type": "display_data"
    },
    {
     "data": {
      "text/html": [
       "<ol class=list-inline>\n",
       "\t<li>-4.9310978203773</li>\n",
       "\t<li>0.998576275166531</li>\n",
       "\t<li>0.740563922783091</li>\n",
       "\t<li>1.32721975148602</li>\n",
       "\t<li>0.828893669094348</li>\n",
       "\t<li>2.71066485924275</li>\n",
       "</ol>\n"
      ],
      "text/latex": [
       "\\begin{enumerate*}\n",
       "\\item -4.9310978203773\n",
       "\\item 0.998576275166531\n",
       "\\item 0.740563922783091\n",
       "\\item 1.32721975148602\n",
       "\\item 0.828893669094348\n",
       "\\item 2.71066485924275\n",
       "\\end{enumerate*}\n"
      ],
      "text/markdown": [
       "1. -4.9310978203773\n",
       "2. 0.998576275166531\n",
       "3. 0.740563922783091\n",
       "4. 1.32721975148602\n",
       "5. 0.828893669094348\n",
       "6. 2.71066485924275\n",
       "\n",
       "\n"
      ],
      "text/plain": [
       "[1] -4.9310978  0.9985763  0.7405639  1.3272198  0.8288937  2.7106649"
      ]
     },
     "metadata": {},
     "output_type": "display_data"
    }
   ],
   "source": [
    "Coefficients <- coef(glmm, s = glmm.cv$lambda.min)  \n",
    "Active.Index <- which(Coefficients != 0)\n",
    "Active.Coefficients <- Coefficients[Active.Index]\n",
    "Active.Index\n",
    "names(Long[,Active.Index+7])\n",
    "Active.Coefficients\n"
   ]
  },
  {
   "cell_type": "code",
   "execution_count": 35,
   "metadata": {},
   "outputs": [],
   "source": [
    "# add new columns to test data\n",
    "\n",
    "data.test <- contToDisc (dataSet=test, timeColumn=\"OS\", intervalLimits=IntBorders)\n",
    "Long.test <- dataLong (dataSet=data.test, timeColumn=\"timeDisc\", censColumn=\"Status.OS\")"
   ]
  },
  {
   "cell_type": "code",
   "execution_count": 37,
   "metadata": {},
   "outputs": [
    {
     "data": {
      "text/html": [
       "<table>\n",
       "<thead><tr><th></th><th scope=col>obj</th><th scope=col>timeInt</th><th scope=col>y</th><th scope=col>timeDisc</th><th scope=col>OS</th><th scope=col>Status.OS</th><th scope=col>Grade</th><th scope=col>Age</th><th scope=col>original_shape_Volume</th><th scope=col>original_shape_SurfaceArea</th></tr></thead>\n",
       "<tbody>\n",
       "\t<tr><th scope=row>1</th><td>1       </td><td>1       </td><td>0       </td><td>62      </td><td>61.56373</td><td>1       </td><td>2       </td><td>63.1    </td><td>86562   </td><td>13893   </td></tr>\n",
       "\t<tr><th scope=row>1.1</th><td>1       </td><td>2       </td><td>0       </td><td>62      </td><td>61.56373</td><td>1       </td><td>2       </td><td>63.1    </td><td>86562   </td><td>13893   </td></tr>\n",
       "\t<tr><th scope=row>1.2</th><td>1       </td><td>3       </td><td>0       </td><td>62      </td><td>61.56373</td><td>1       </td><td>2       </td><td>63.1    </td><td>86562   </td><td>13893   </td></tr>\n",
       "\t<tr><th scope=row>1.3</th><td>1       </td><td>4       </td><td>0       </td><td>62      </td><td>61.56373</td><td>1       </td><td>2       </td><td>63.1    </td><td>86562   </td><td>13893   </td></tr>\n",
       "\t<tr><th scope=row>1.4</th><td>1       </td><td>5       </td><td>0       </td><td>62      </td><td>61.56373</td><td>1       </td><td>2       </td><td>63.1    </td><td>86562   </td><td>13893   </td></tr>\n",
       "\t<tr><th scope=row>1.5</th><td>1       </td><td>6       </td><td>0       </td><td>62      </td><td>61.56373</td><td>1       </td><td>2       </td><td>63.1    </td><td>86562   </td><td>13893   </td></tr>\n",
       "\t<tr><th scope=row>1.6</th><td>1       </td><td>7       </td><td>0       </td><td>62      </td><td>61.56373</td><td>1       </td><td>2       </td><td>63.1    </td><td>86562   </td><td>13893   </td></tr>\n",
       "\t<tr><th scope=row>1.7</th><td>1       </td><td>8       </td><td>0       </td><td>62      </td><td>61.56373</td><td>1       </td><td>2       </td><td>63.1    </td><td>86562   </td><td>13893   </td></tr>\n",
       "\t<tr><th scope=row>1.8</th><td>1       </td><td>9       </td><td>0       </td><td>62      </td><td>61.56373</td><td>1       </td><td>2       </td><td>63.1    </td><td>86562   </td><td>13893   </td></tr>\n",
       "\t<tr><th scope=row>1.9</th><td>1       </td><td>10      </td><td>0       </td><td>62      </td><td>61.56373</td><td>1       </td><td>2       </td><td>63.1    </td><td>86562   </td><td>13893   </td></tr>\n",
       "</tbody>\n",
       "</table>\n"
      ],
      "text/latex": [
       "\\begin{tabular}{r|llllllllll}\n",
       "  & obj & timeInt & y & timeDisc & OS & Status.OS & Grade & Age & original\\_shape\\_Volume & original\\_shape\\_SurfaceArea\\\\\n",
       "\\hline\n",
       "\t1 & 1        & 1        & 0        & 62       & 61.56373 & 1        & 2        & 63.1     & 86562    & 13893   \\\\\n",
       "\t1.1 & 1        & 2        & 0        & 62       & 61.56373 & 1        & 2        & 63.1     & 86562    & 13893   \\\\\n",
       "\t1.2 & 1        & 3        & 0        & 62       & 61.56373 & 1        & 2        & 63.1     & 86562    & 13893   \\\\\n",
       "\t1.3 & 1        & 4        & 0        & 62       & 61.56373 & 1        & 2        & 63.1     & 86562    & 13893   \\\\\n",
       "\t1.4 & 1        & 5        & 0        & 62       & 61.56373 & 1        & 2        & 63.1     & 86562    & 13893   \\\\\n",
       "\t1.5 & 1        & 6        & 0        & 62       & 61.56373 & 1        & 2        & 63.1     & 86562    & 13893   \\\\\n",
       "\t1.6 & 1        & 7        & 0        & 62       & 61.56373 & 1        & 2        & 63.1     & 86562    & 13893   \\\\\n",
       "\t1.7 & 1        & 8        & 0        & 62       & 61.56373 & 1        & 2        & 63.1     & 86562    & 13893   \\\\\n",
       "\t1.8 & 1        & 9        & 0        & 62       & 61.56373 & 1        & 2        & 63.1     & 86562    & 13893   \\\\\n",
       "\t1.9 & 1        & 10       & 0        & 62       & 61.56373 & 1        & 2        & 63.1     & 86562    & 13893   \\\\\n",
       "\\end{tabular}\n"
      ],
      "text/markdown": [
       "\n",
       "| <!--/--> | obj | timeInt | y | timeDisc | OS | Status.OS | Grade | Age | original_shape_Volume | original_shape_SurfaceArea | \n",
       "|---|---|---|---|---|---|---|---|---|---|\n",
       "| 1 | 1        | 1        | 0        | 62       | 61.56373 | 1        | 2        | 63.1     | 86562    | 13893    | \n",
       "| 1.1 | 1        | 2        | 0        | 62       | 61.56373 | 1        | 2        | 63.1     | 86562    | 13893    | \n",
       "| 1.2 | 1        | 3        | 0        | 62       | 61.56373 | 1        | 2        | 63.1     | 86562    | 13893    | \n",
       "| 1.3 | 1        | 4        | 0        | 62       | 61.56373 | 1        | 2        | 63.1     | 86562    | 13893    | \n",
       "| 1.4 | 1        | 5        | 0        | 62       | 61.56373 | 1        | 2        | 63.1     | 86562    | 13893    | \n",
       "| 1.5 | 1        | 6        | 0        | 62       | 61.56373 | 1        | 2        | 63.1     | 86562    | 13893    | \n",
       "| 1.6 | 1        | 7        | 0        | 62       | 61.56373 | 1        | 2        | 63.1     | 86562    | 13893    | \n",
       "| 1.7 | 1        | 8        | 0        | 62       | 61.56373 | 1        | 2        | 63.1     | 86562    | 13893    | \n",
       "| 1.8 | 1        | 9        | 0        | 62       | 61.56373 | 1        | 2        | 63.1     | 86562    | 13893    | \n",
       "| 1.9 | 1        | 10       | 0        | 62       | 61.56373 | 1        | 2        | 63.1     | 86562    | 13893    | \n",
       "\n",
       "\n"
      ],
      "text/plain": [
       "    obj timeInt y timeDisc OS       Status.OS Grade Age  original_shape_Volume\n",
       "1   1   1       0 62       61.56373 1         2     63.1 86562                \n",
       "1.1 1   2       0 62       61.56373 1         2     63.1 86562                \n",
       "1.2 1   3       0 62       61.56373 1         2     63.1 86562                \n",
       "1.3 1   4       0 62       61.56373 1         2     63.1 86562                \n",
       "1.4 1   5       0 62       61.56373 1         2     63.1 86562                \n",
       "1.5 1   6       0 62       61.56373 1         2     63.1 86562                \n",
       "1.6 1   7       0 62       61.56373 1         2     63.1 86562                \n",
       "1.7 1   8       0 62       61.56373 1         2     63.1 86562                \n",
       "1.8 1   9       0 62       61.56373 1         2     63.1 86562                \n",
       "1.9 1   10      0 62       61.56373 1         2     63.1 86562                \n",
       "    original_shape_SurfaceArea\n",
       "1   13893                     \n",
       "1.1 13893                     \n",
       "1.2 13893                     \n",
       "1.3 13893                     \n",
       "1.4 13893                     \n",
       "1.5 13893                     \n",
       "1.6 13893                     \n",
       "1.7 13893                     \n",
       "1.8 13893                     \n",
       "1.9 13893                     "
      ]
     },
     "metadata": {},
     "output_type": "display_data"
    },
    {
     "data": {
      "text/html": [
       "<table>\n",
       "<thead><tr><th></th><th scope=col>obj</th><th scope=col>timeInt</th><th scope=col>y</th><th scope=col>timeDisc</th><th scope=col>OS</th><th scope=col>Status.OS</th><th scope=col>Grade</th><th scope=col>Age</th><th scope=col>original_shape_Volume</th><th scope=col>original_shape_SurfaceArea</th></tr></thead>\n",
       "<tbody>\n",
       "\t<tr><th scope=row>1</th><td>1       </td><td>1       </td><td>0       </td><td>75      </td><td>74.27727</td><td>0       </td><td>1       </td><td>34.3    </td><td>564678  </td><td>54584.27</td></tr>\n",
       "\t<tr><th scope=row>1.1</th><td>1       </td><td>2       </td><td>0       </td><td>75      </td><td>74.27727</td><td>0       </td><td>1       </td><td>34.3    </td><td>564678  </td><td>54584.27</td></tr>\n",
       "\t<tr><th scope=row>1.2</th><td>1       </td><td>3       </td><td>0       </td><td>75      </td><td>74.27727</td><td>0       </td><td>1       </td><td>34.3    </td><td>564678  </td><td>54584.27</td></tr>\n",
       "\t<tr><th scope=row>1.3</th><td>1       </td><td>4       </td><td>0       </td><td>75      </td><td>74.27727</td><td>0       </td><td>1       </td><td>34.3    </td><td>564678  </td><td>54584.27</td></tr>\n",
       "\t<tr><th scope=row>1.4</th><td>1       </td><td>5       </td><td>0       </td><td>75      </td><td>74.27727</td><td>0       </td><td>1       </td><td>34.3    </td><td>564678  </td><td>54584.27</td></tr>\n",
       "\t<tr><th scope=row>1.5</th><td>1       </td><td>6       </td><td>0       </td><td>75      </td><td>74.27727</td><td>0       </td><td>1       </td><td>34.3    </td><td>564678  </td><td>54584.27</td></tr>\n",
       "\t<tr><th scope=row>1.6</th><td>1       </td><td>7       </td><td>0       </td><td>75      </td><td>74.27727</td><td>0       </td><td>1       </td><td>34.3    </td><td>564678  </td><td>54584.27</td></tr>\n",
       "\t<tr><th scope=row>1.7</th><td>1       </td><td>8       </td><td>0       </td><td>75      </td><td>74.27727</td><td>0       </td><td>1       </td><td>34.3    </td><td>564678  </td><td>54584.27</td></tr>\n",
       "\t<tr><th scope=row>1.8</th><td>1       </td><td>9       </td><td>0       </td><td>75      </td><td>74.27727</td><td>0       </td><td>1       </td><td>34.3    </td><td>564678  </td><td>54584.27</td></tr>\n",
       "\t<tr><th scope=row>1.9</th><td>1       </td><td>10      </td><td>0       </td><td>75      </td><td>74.27727</td><td>0       </td><td>1       </td><td>34.3    </td><td>564678  </td><td>54584.27</td></tr>\n",
       "</tbody>\n",
       "</table>\n"
      ],
      "text/latex": [
       "\\begin{tabular}{r|llllllllll}\n",
       "  & obj & timeInt & y & timeDisc & OS & Status.OS & Grade & Age & original\\_shape\\_Volume & original\\_shape\\_SurfaceArea\\\\\n",
       "\\hline\n",
       "\t1 & 1        & 1        & 0        & 75       & 74.27727 & 0        & 1        & 34.3     & 564678   & 54584.27\\\\\n",
       "\t1.1 & 1        & 2        & 0        & 75       & 74.27727 & 0        & 1        & 34.3     & 564678   & 54584.27\\\\\n",
       "\t1.2 & 1        & 3        & 0        & 75       & 74.27727 & 0        & 1        & 34.3     & 564678   & 54584.27\\\\\n",
       "\t1.3 & 1        & 4        & 0        & 75       & 74.27727 & 0        & 1        & 34.3     & 564678   & 54584.27\\\\\n",
       "\t1.4 & 1        & 5        & 0        & 75       & 74.27727 & 0        & 1        & 34.3     & 564678   & 54584.27\\\\\n",
       "\t1.5 & 1        & 6        & 0        & 75       & 74.27727 & 0        & 1        & 34.3     & 564678   & 54584.27\\\\\n",
       "\t1.6 & 1        & 7        & 0        & 75       & 74.27727 & 0        & 1        & 34.3     & 564678   & 54584.27\\\\\n",
       "\t1.7 & 1        & 8        & 0        & 75       & 74.27727 & 0        & 1        & 34.3     & 564678   & 54584.27\\\\\n",
       "\t1.8 & 1        & 9        & 0        & 75       & 74.27727 & 0        & 1        & 34.3     & 564678   & 54584.27\\\\\n",
       "\t1.9 & 1        & 10       & 0        & 75       & 74.27727 & 0        & 1        & 34.3     & 564678   & 54584.27\\\\\n",
       "\\end{tabular}\n"
      ],
      "text/markdown": [
       "\n",
       "| <!--/--> | obj | timeInt | y | timeDisc | OS | Status.OS | Grade | Age | original_shape_Volume | original_shape_SurfaceArea | \n",
       "|---|---|---|---|---|---|---|---|---|---|\n",
       "| 1 | 1        | 1        | 0        | 75       | 74.27727 | 0        | 1        | 34.3     | 564678   | 54584.27 | \n",
       "| 1.1 | 1        | 2        | 0        | 75       | 74.27727 | 0        | 1        | 34.3     | 564678   | 54584.27 | \n",
       "| 1.2 | 1        | 3        | 0        | 75       | 74.27727 | 0        | 1        | 34.3     | 564678   | 54584.27 | \n",
       "| 1.3 | 1        | 4        | 0        | 75       | 74.27727 | 0        | 1        | 34.3     | 564678   | 54584.27 | \n",
       "| 1.4 | 1        | 5        | 0        | 75       | 74.27727 | 0        | 1        | 34.3     | 564678   | 54584.27 | \n",
       "| 1.5 | 1        | 6        | 0        | 75       | 74.27727 | 0        | 1        | 34.3     | 564678   | 54584.27 | \n",
       "| 1.6 | 1        | 7        | 0        | 75       | 74.27727 | 0        | 1        | 34.3     | 564678   | 54584.27 | \n",
       "| 1.7 | 1        | 8        | 0        | 75       | 74.27727 | 0        | 1        | 34.3     | 564678   | 54584.27 | \n",
       "| 1.8 | 1        | 9        | 0        | 75       | 74.27727 | 0        | 1        | 34.3     | 564678   | 54584.27 | \n",
       "| 1.9 | 1        | 10       | 0        | 75       | 74.27727 | 0        | 1        | 34.3     | 564678   | 54584.27 | \n",
       "\n",
       "\n"
      ],
      "text/plain": [
       "    obj timeInt y timeDisc OS       Status.OS Grade Age  original_shape_Volume\n",
       "1   1   1       0 75       74.27727 0         1     34.3 564678               \n",
       "1.1 1   2       0 75       74.27727 0         1     34.3 564678               \n",
       "1.2 1   3       0 75       74.27727 0         1     34.3 564678               \n",
       "1.3 1   4       0 75       74.27727 0         1     34.3 564678               \n",
       "1.4 1   5       0 75       74.27727 0         1     34.3 564678               \n",
       "1.5 1   6       0 75       74.27727 0         1     34.3 564678               \n",
       "1.6 1   7       0 75       74.27727 0         1     34.3 564678               \n",
       "1.7 1   8       0 75       74.27727 0         1     34.3 564678               \n",
       "1.8 1   9       0 75       74.27727 0         1     34.3 564678               \n",
       "1.9 1   10      0 75       74.27727 0         1     34.3 564678               \n",
       "    original_shape_SurfaceArea\n",
       "1   54584.27                  \n",
       "1.1 54584.27                  \n",
       "1.2 54584.27                  \n",
       "1.3 54584.27                  \n",
       "1.4 54584.27                  \n",
       "1.5 54584.27                  \n",
       "1.6 54584.27                  \n",
       "1.7 54584.27                  \n",
       "1.8 54584.27                  \n",
       "1.9 54584.27                  "
      ]
     },
     "metadata": {},
     "output_type": "display_data"
    }
   ],
   "source": [
    "Long.test$timeInt <- as.factor(Long.test$timeInt)\n",
    "Long.test$Grade <- as.factor(Long.test$Grade)\n",
    "Long.test$y<-as.factor(Long.test$y)\n",
    "\n",
    "Long.test[1:10,1:10]\n",
    "Long[1:10,1:10]"
   ]
  },
  {
   "cell_type": "code",
   "execution_count": 41,
   "metadata": {},
   "outputs": [
    {
     "data": {
      "text/html": [
       "<ol class=list-inline>\n",
       "\t<li>1640</li>\n",
       "\t<li>1034</li>\n",
       "</ol>\n"
      ],
      "text/latex": [
       "\\begin{enumerate*}\n",
       "\\item 1640\n",
       "\\item 1034\n",
       "\\end{enumerate*}\n"
      ],
      "text/markdown": [
       "1. 1640\n",
       "2. 1034\n",
       "\n",
       "\n"
      ],
      "text/plain": [
       "[1] 1640 1034"
      ]
     },
     "metadata": {},
     "output_type": "display_data"
    },
    {
     "data": {
      "text/html": [
       "<ol class=list-inline>\n",
       "\t<li>6728</li>\n",
       "\t<li>1034</li>\n",
       "</ol>\n"
      ],
      "text/latex": [
       "\\begin{enumerate*}\n",
       "\\item 6728\n",
       "\\item 1034\n",
       "\\end{enumerate*}\n"
      ],
      "text/markdown": [
       "1. 6728\n",
       "2. 1034\n",
       "\n",
       "\n"
      ],
      "text/plain": [
       "[1] 6728 1034"
      ]
     },
     "metadata": {},
     "output_type": "display_data"
    }
   ],
   "source": [
    "dim(Long.test)\n",
    "dim(Long)"
   ]
  },
  {
   "cell_type": "code",
   "execution_count": null,
   "metadata": {},
   "outputs": [],
   "source": [
    "#should predict on x from testset\n",
    "\n",
    "Long.test=data.matrix(Long.test)\n",
    "\n",
    "pred<-predict(glmm,newx=data.matrix(Long.test),s=best_lambda,type='link')\n",
    "\n",
    "cindex<- rcorr.cens(pred*-1, Long.t$y)\n",
    "\n",
    "#as.matrix(data.test,timeInt=data.test$timeDisc)\n",
    "#pred<-predict(glmm,newx=as(Long.test[8:1034], \"dgCMatrix\"),s=best_lambda,type='link')\n"
   ]
  },
  {
   "cell_type": "code",
   "execution_count": null,
   "metadata": {},
   "outputs": [],
   "source": []
  }
 ],
 "metadata": {
  "kernelspec": {
   "display_name": "R",
   "language": "R",
   "name": "ir"
  },
  "language_info": {
   "codemirror_mode": "r",
   "file_extension": ".r",
   "mimetype": "text/x-r-source",
   "name": "R",
   "pygments_lexer": "r",
   "version": "3.4.3"
  }
 },
 "nbformat": 4,
 "nbformat_minor": 2
}
